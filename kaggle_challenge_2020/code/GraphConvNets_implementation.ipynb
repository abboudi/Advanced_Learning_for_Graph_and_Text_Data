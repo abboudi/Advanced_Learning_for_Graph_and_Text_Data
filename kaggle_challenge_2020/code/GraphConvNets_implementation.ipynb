{
 "cells": [
  {
   "cell_type": "code",
   "execution_count": 57,
   "metadata": {},
   "outputs": [],
   "source": [
    "import os\n",
    "import csv\n",
    "import codecs\n",
    "from os import path\n",
    "import pandas as pd\n",
    "import networkx as nx\n",
    "import re\n",
    "# !pip install git+https://github.com/ClaudeCoulombe/FrenchLefffLemmatizer.git\n",
    "from nltk.corpus import stopwords\n",
    "from tqdm import tqdm\n",
    "import fasttext as ft\n",
    "import os\n",
    "from collections import Counter\n",
    "import pickle\n",
    "import scipy.sparse as sp\n",
    "from sklearn.feature_extraction.text import TfidfVectorizer\n",
    "import numpy as np\n",
    "import math\n",
    "import torch\n",
    "from torch.nn.parameter import Parameter\n",
    "from torch.nn.modules.module import Module\n",
    "import torch.nn as nn\n",
    "import torch.nn.functional as F\n",
    "from torch.utils import data\n",
    "import time\n",
    "import argparse\n",
    "import torch.optim as optim\n",
    "from sklearn.model_selection import train_test_split\n",
    "\n",
    "import spacy"
   ]
  },
  {
   "cell_type": "code",
   "execution_count": 2,
   "metadata": {},
   "outputs": [
    {
     "name": "stderr",
     "output_type": "stream",
     "text": [
      "Warning : `load_model` does not return WordVectorModel or SupervisedModel any more, but a `FastText` object which is very similar.\n"
     ]
    }
   ],
   "source": [
    "nlp = spacy.load('fr_core_news_md')\n",
    "\n",
    "lid_model = ft.load_model(\"lid.176.ftz\")"
   ]
  },
  {
   "cell_type": "markdown",
   "metadata": {},
   "source": [
    "### text preprocessing and vocabulary extraction"
   ]
  },
  {
   "cell_type": "code",
   "execution_count": 362,
   "metadata": {},
   "outputs": [],
   "source": [
    "french_stopwords = stopwords.words('french')\n",
    "other = ['être', 'avoir', 'tout', 'site', 'recherche', 'français', 'rechercher', 'accueil', 'plus', 'faire']\n",
    "french_stopwords += other\n",
    "min_occurences = 20\n",
    "min_characters = 2\n",
    "max_characters = 12\n",
    "\n",
    "\n",
    "# Data Paths\n",
    "data_path = 'pickles/'\n",
    "files_path = 'text/text/'\n",
    "\n",
    "\n",
    "## ------------------------------ File Processing --------------------------- ##\n",
    "\n",
    "\n",
    "def process_file(file):\n",
    "    \"\"\"\n",
    "    Function to process a single file.\n",
    "\n",
    "    ---\n",
    "    Parameters:\n",
    "        file : str\n",
    "                File name in the Data Folder.\n",
    "\n",
    "    ---\n",
    "    Results:\n",
    "        my_data : dict\n",
    "                Dictionnary containing the number of occurences of each word in\n",
    "                the document.\n",
    "    \"\"\"\n",
    "\n",
    "    try:\n",
    "        with open(files_path+data_path+file+'.pickle', 'rb') as handle:\n",
    "            my_data = pickle.load(handle)\n",
    "    \n",
    "    except:\n",
    "        f = open(files_path + file, \"r\", encoding=\"utf-8\")\n",
    "        l = []\n",
    "        try:\n",
    "            for x in f:\n",
    "                x = re.sub(r'[^\\w'+\"'’ \"+']', \"\",x) #removing all non-alphanumeric characters except apostrophes\n",
    "                x = x.lower()\n",
    "                x = x.replace('\\n', \"\")\n",
    "                x = re.sub(' +', ' ', x) # removing duplicate spaces\n",
    "                x = x.strip()\n",
    "                # checking if line is not empty and is in french\n",
    "                if (x != '' and lid_model.predict(x)[0][0]=='__label__fr'):\n",
    "                    # lemmatization using spacy\n",
    "                    doc = nlp(x)\n",
    "                    tokens = []\n",
    "                    for token in doc:\n",
    "                        tokens.append(token.lemma_)\n",
    "                    x = ' '.join(tokens)\n",
    "                    l.append(x)\n",
    "        except:\n",
    "            pass\n",
    "        my_data = {}\n",
    "        for lines in l :\n",
    "            my_elements = lines.split(' ')\n",
    "\n",
    "            for element in my_elements:\n",
    "                if element.isalpha():\n",
    "                    if not element in french_stopwords: # removing stopwords\n",
    "                        if element in my_data.keys():   # checking if entry exists in file vocabulary\n",
    "                            my_data[element] += 1\n",
    "\n",
    "                        else:\n",
    "                            my_data[element] = 1\n",
    "\n",
    "\n",
    "        my_data = dict(filter(lambda elem: lid_model.predict(elem[0])[0][0]=='__label__fr', \\\n",
    "                                                        my_data.items()))   \n",
    "        my_data = dict(filter(lambda elem: (len(elem[0]) > min_characters) and (len(elem[0]) < max_characters), \\\n",
    "                                                        my_data.items()))\n",
    "        with open(files_path+data_path+file+'.pickle', 'wb') as handle:\n",
    "            pickle.dump(my_data, handle, protocol=pickle.HIGHEST_PROTOCOL)\n",
    "    \n",
    "    \n",
    "    \n",
    "    return my_data\n",
    "\n",
    "## ------------------------------ Vocab Extract ----------------------------- ##\n",
    "\n",
    "\n",
    "def get_vocab(files=[], pkl = True):\n",
    "    \"\"\"\n",
    "    Function to extract the vocabulary contained in the train data\n",
    "\n",
    "    ---\n",
    "    Parameters:\n",
    "        train_data : DataFrame Pandas\n",
    "                Training DataFrame containg the names of the training files\n",
    "                to be used\n",
    "\n",
    "    ---\n",
    "    Results:\n",
    "        my_data : dict\n",
    "                Dictionnary containing the number of occurences of each word in\n",
    "                all the documents\n",
    "    \"\"\"\n",
    "    \n",
    "    if not pkl:\n",
    "        vocab = {}\n",
    "        for file in tqdm(files):\n",
    "\n",
    "            vocab_file = process_file(str(file))\n",
    "            vocab = dict(Counter(vocab) + Counter(vocab_file))\n",
    "            \n",
    "        vocab = dict(filter(lambda elem: elem[1] >= min_occurences, \\\n",
    "                                                    vocab.items()))\n",
    "        print(len(vocab))\n",
    "        with open('vocab.pickle', 'wb') as handle:\n",
    "            pickle.dump(vocab, handle, protocol=pickle.HIGHEST_PROTOCOL)\n",
    "            \n",
    "    else:\n",
    "        vocab = {}\n",
    "        try:\n",
    "            with open('vocab.pickle', 'rb') as handle:\n",
    "                vocab = pickle.load(handle)\n",
    "        except:\n",
    "            print('no vocabulary found !')\n",
    "    vocab = {k: v for k, v in sorted(vocab.items(), reverse=True,key=lambda item: item[1])}\n",
    "            \n",
    "    for key in other:\n",
    "        vocab.pop(key, None)\n",
    "    return vocab"
   ]
  },
  {
   "cell_type": "code",
   "execution_count": 4,
   "metadata": {
    "scrolled": true
   },
   "outputs": [
    {
     "data": {
      "text/plain": [
       "{'école': 3,\n",
       " 'porte': 2,\n",
       " 'ouvert': 2,\n",
       " 'plaquette': 1,\n",
       " 'ouverture': 1,\n",
       " 'web': 1,\n",
       " 'étudiant': 3,\n",
       " 'carrière': 1,\n",
       " 'laboratoire': 1,\n",
       " 'emploi': 1,\n",
       " 'taxe': 1,\n",
       " 'contenu': 1,\n",
       " 'supérieur': 2,\n",
       " 'métier': 1,\n",
       " 'nicolas': 2,\n",
       " 'barthès': 3,\n",
       " 'bureau': 1,\n",
       " 'étude': 1,\n",
       " 'jérémie': 2,\n",
       " 'architecte': 1,\n",
       " 'arbocentre': 1,\n",
       " 'jean': 3,\n",
       " 'françois': 2,\n",
       " 'chef': 1,\n",
       " 'élodie': 2,\n",
       " 'jeanmarc': 2,\n",
       " 'directeur': 1,\n",
       " 'piquerez': 2,\n",
       " 'marielaure': 2,\n",
       " 'rabotquerci': 2,\n",
       " 'chercheur': 4,\n",
       " 'méthode': 1,\n",
       " 'groupe': 2,\n",
       " 'actualité': 1,\n",
       " 'deux': 3,\n",
       " 'recevoir': 4,\n",
       " 'prix': 2,\n",
       " 'professeur': 1,\n",
       " 'université': 1,\n",
       " 'équipe': 1,\n",
       " 'matérial': 1,\n",
       " 'récompenser': 1,\n",
       " 'lire': 1,\n",
       " 'dominique': 1,\n",
       " 'médaille': 1,\n",
       " 'vermeil': 1,\n",
       " 'académie': 1,\n",
       " 'chercher': 1,\n",
       " 'partenaire': 1,\n",
       " 'départ': 1,\n",
       " 'annemarie': 1,\n",
       " 'travail': 1,\n",
       " 'numérique': 1,\n",
       " 'épinal': 3,\n",
       " 'rue': 2,\n",
       " 'classement': 2,\n",
       " 'membre': 1,\n",
       " 'habilité': 1,\n",
       " 'labellisée': 1,\n",
       " 'légal': 1}"
      ]
     },
     "execution_count": 4,
     "metadata": {},
     "output_type": "execute_result"
    }
   ],
   "source": [
    "file_vocab = process_file(file='0')\n",
    "file_vocab"
   ]
  },
  {
   "cell_type": "code",
   "execution_count": 5,
   "metadata": {},
   "outputs": [],
   "source": [
    "class GraphConvolutionLayer(Module):\n",
    "    \"\"\"\n",
    "    definition of a graph convolutional layer as per https://arxiv.org/pdf/1609.02907.pdf\n",
    "    ---\n",
    "    Initialization arguments:\n",
    "        in_dim : int\n",
    "                feature space dimension.\n",
    "        out_dim : int\n",
    "                dimension of the output of the layer.\n",
    "        \n",
    "        b : boolean\n",
    "                controls whether or not the layer contains a bias variable.\n",
    "    \"\"\"\n",
    "\n",
    "    def __init__(self, in_dim, out_dim, b=False):\n",
    "        super(GraphConvolutionLayer, self).__init__()\n",
    "        self.in_dim = in_dim\n",
    "        self.out_dim = out_dim\n",
    "        self.W = Parameter(torch.FloatTensor(in_dim, out_dim))\n",
    "        if b:\n",
    "            self.b = Parameter(torch.FloatTensor(out_dim))\n",
    "        else:\n",
    "            self.register_parameter('b', None)\n",
    "        self.init_params()\n",
    "\n",
    "    def init_params(self):\n",
    "        # weight initialization as per http://proceedings.mlr.press/v9/glorot10a/glorot10a.pdf\n",
    "        \n",
    "        a = 1. / math.sqrt(self.W.size(1))\n",
    "        self.W.data.uniform_(-a, a)\n",
    "        if self.b is not None:\n",
    "            self.b.data = torch.zeros(self.out_dim)\n",
    "\n",
    "    def forward(self, x, A_tilde):\n",
    "        mul_xw = torch.mm(x, self.W)\n",
    "        output = torch.spmm(A_tilde, mul_xw)\n",
    "        \n",
    "        if self.b is not None:\n",
    "            return output + self.b\n",
    "        else:\n",
    "            return output"
   ]
  },
  {
   "cell_type": "code",
   "execution_count": 6,
   "metadata": {},
   "outputs": [],
   "source": [
    "classes = ['business/finance', 'education/research', 'entertainment', 'health/medical', 'news/press', 'politics/government/law', 'sports', 'tech/science']\n",
    "\n",
    "def safe_inv(arr):\n",
    "    arr_inv = 1. / arr\n",
    "    arr_inv[np.isinf(arr_inv)] = 0.\n",
    "    return arr_inv.flatten()\n",
    "\n",
    "def row_norm(sp_mat):\n",
    "    \n",
    "    \"\"\"row wise normalization\"\"\"\n",
    "    \n",
    "    D = np.array(sp_mat.sum(axis=1))\n",
    "    Dinv = sp.diags(safe_inv(D))\n",
    "    new_mat = Dinv.dot(sp_mat)\n",
    "    \n",
    "    return new_mat\n",
    "\n",
    "def to_pytorch_sparse(sp_mat):\n",
    "    \"\"\"converts a scipy sparse matrix to a torch sparse tensor.\"\"\"\n",
    "    \n",
    "    sp_mat = sp_mat.tocoo().astype(np.float32)\n",
    "    indices = torch.from_numpy(np.vstack((sp_mat.row, sp_mat.col)).astype(np.int64))\n",
    "    values = torch.from_numpy(sp_mat.data)\n",
    "    shape = torch.Size(sp_mat.shape)\n",
    "    sp_tensor = torch.sparse.FloatTensor(indices, values, shape)\n",
    "    return sp_tensor\n",
    "\n",
    "def onehot(y, classes=[]):\n",
    "    \n",
    "    if len(classes)==0: # if no explicit classnames are provided, we constitute a set from observations.\n",
    "        classes = set(y)\n",
    "    \n",
    "    # maps a class with a one_hot vector\n",
    "    classes_dict = {c: np.eye(len(classes))[i, :] for i, c in enumerate(classes)}\n",
    "    # converts the input labels according to the mapping rule\n",
    "    y_ohe = np.array(list(map(classes_dict.get, y)), dtype=np.int32)\n",
    "    \n",
    "    return y_ohe"
   ]
  },
  {
   "cell_type": "code",
   "execution_count": 61,
   "metadata": {},
   "outputs": [],
   "source": [
    "def get_features(files = ['9032'], pkl=True, occurence=True):\n",
    "    vocabulary = get_vocab(files, pkl=pkl)\n",
    "    feats_dict = vocabulary.fromkeys(vocabulary, 0)\n",
    "    X = np.zeros((len(files), len(vocabulary)))\n",
    "    for i, file in enumerate(files):\n",
    "        file_words = process_file(file)\n",
    "        if not occurence:\n",
    "            file_words = file_words.fromkeys(file_words, 1)\n",
    "        feats_dict.update((k, file_words[k]) for k in set(file_words).intersection(feats_dict))\n",
    "        X[i] = np.fromiter(feats_dict.values(), dtype=float)\n",
    "    return X, len(vocabulary)\n",
    "\n",
    "\n",
    "def get_data(path=\"\", norm=True):\n",
    "\n",
    "    print('starting the loading of the french-web dataset...')\n",
    "    \n",
    "    # Read training data\n",
    "    with open(path+\"train_noduplicates.csv\", 'r') as f:\n",
    "        train_data = f.read().splitlines()\n",
    "\n",
    "    train_hosts = list()\n",
    "    y_train = list()\n",
    "    for row in train_data:\n",
    "        host, label = row.split(\",\")\n",
    "        train_hosts.append(host)\n",
    "        y_train.append(label.lower())\n",
    "    \n",
    "    # Read test data\n",
    "    with open(path+\"test.csv\", 'r') as f:\n",
    "        test_hosts = f.read().splitlines()\n",
    "        \n",
    "    idx = train_hosts+test_hosts\n",
    "\n",
    "    \n",
    "\n",
    "    # build graph\n",
    "    \n",
    "    print('building graph...')\n",
    "    \n",
    "    G = nx.read_weighted_edgelist('edgelist.txt')\n",
    "    subG = G.subgraph(idx)\n",
    "    \n",
    "    print('number of nodes :', subG.number_of_nodes())\n",
    "    print('number of edges :', subG.number_of_edges())\n",
    "    \n",
    "    \n",
    "    others = [ item for item in list(G.nodes) if item not in idx ]\n",
    "    # computing the adjacency matrix adjacency matrix\n",
    "    print('building adjacency matrix...')\n",
    "    A = nx.adjacency_matrix(G, nodelist=idx+others)\n",
    "    # keeping only the adjacency matrix of the train and test nodes without loosing strutural data\n",
    "    A = sp.csr_matrix(A[:len(idx),:len(idx)], dtype=np.int32) \n",
    "    \n",
    "\n",
    "    A_tilde = row_norm(A + sp.eye(A.shape[0])) # row normalizing the adjacency matrix as per the original paper\n",
    "    \n",
    "    \n",
    "    \n",
    "    print('extracting features...')\n",
    "    \n",
    "    sm_features, vocab_size = get_features(files=idx, pkl=True)\n",
    "    if norm:\n",
    "        sm_features = row_norm(sm_features)\n",
    "        \n",
    "    n_samples = A_tilde.shape[-1]\n",
    "    n_features = sm_features.shape[1]\n",
    "    \n",
    "    features = np.zeros((n_samples,n_features))\n",
    "    features[:sm_features.shape[0]] = sm_features\n",
    "    features = sp.csr_matrix(features, dtype=np.float32)\n",
    "    labels = onehot((y_train + [y_train[0]] * len(test_hosts))) # filling the rest of the labels with a dummy label\n",
    "    \n",
    "\n",
    "    idx_train, idx_val = train_test_split(range(len(train_hosts)), test_size=0.2)\n",
    "    idx_test = range(len(train_hosts), len(idx))\n",
    "\n",
    "    features = torch.FloatTensor(np.array(features.todense()))\n",
    "    labels = torch.LongTensor(np.where(labels)[1])\n",
    "    A_tilde = to_pytorch_sparse(A_tilde)\n",
    "\n",
    "    idx_train = torch.LongTensor(idx_train)\n",
    "    idx_val = torch.LongTensor(idx_val)\n",
    "    idx_test = torch.LongTensor(idx_test)\n",
    "    \n",
    "    print('done loading data.')\n",
    "    \n",
    "\n",
    "    return A_tilde, features, labels, idx_train, idx_val, idx_test, vocab_size"
   ]
  },
  {
   "cell_type": "code",
   "execution_count": 62,
   "metadata": {},
   "outputs": [
    {
     "name": "stdout",
     "output_type": "stream",
     "text": [
      "starting the loading of the french-web dataset...\n",
      "building graph...\n",
      "number of nodes : 2554\n",
      "number of edges : 8864\n",
      "building adjacency matrix...\n",
      "extracting features...\n",
      "done loading data.\n"
     ]
    }
   ],
   "source": [
    "A_tilde_, X_bow_, y_, idx_train_, idx_val_, idx_test_, vocab_size_= get_data()"
   ]
  },
  {
   "cell_type": "code",
   "execution_count": 63,
   "metadata": {},
   "outputs": [],
   "source": [
    "def score(y_pred, y_true):\n",
    "    y_pred = y_pred.max(1)[1]\n",
    "    return (y_pred == y_true).float().mean()"
   ]
  },
  {
   "cell_type": "code",
   "execution_count": 236,
   "metadata": {},
   "outputs": [],
   "source": [
    "class GCN(nn.Module):\n",
    "    def __init__(self, nfeat, nhid, nclass, dropout):\n",
    "        super(GCN, self).__init__()\n",
    "\n",
    "        self.gc1 = GraphConvolutionLayer(nfeat, nhid)\n",
    "        self.gc2 = GraphConvolutionLayer(nhid, nhid)\n",
    "        self.fc = nn.Linear(nhid, nclass)\n",
    "        self.dropout = dropout\n",
    "\n",
    "    def forward(self, x, A_tilde):\n",
    "        x = F.relu(self.gc1(x, A_tilde))\n",
    "        x = F.dropout(x, self.dropout, training=self.training)\n",
    "        x = F.relu(self.gc2(x, A_tilde))\n",
    "        x = F.dropout(x, self.dropout, training=self.training)\n",
    "        x = self.fc(x)\n",
    "        return F.log_softmax(x, dim=1)"
   ]
  },
  {
   "cell_type": "code",
   "execution_count": 300,
   "metadata": {},
   "outputs": [],
   "source": [
    "# setting GCN parameters\n",
    "\n",
    "no_cuda = True\n",
    "seed = 42\n",
    "num_epochs = 150\n",
    "lr = 0.01\n",
    "weight_decay = 5e-4\n",
    "hidden = 32\n",
    "dropout = 0.3\n",
    "cuda = not no_cuda and torch.cuda.is_available()\n",
    "\n",
    "np.random.seed(seed)\n",
    "torch.manual_seed(seed)\n",
    "if cuda:\n",
    "    torch.cuda.manual_seed(seed)"
   ]
  },
  {
   "cell_type": "code",
   "execution_count": 301,
   "metadata": {},
   "outputs": [
    {
     "name": "stdout",
     "output_type": "stream",
     "text": [
      "starting the loading of the french-web dataset...\n",
      "building graph...\n",
      "number of nodes : 2554\n",
      "number of edges : 8864\n",
      "building adjacency matrix...\n",
      "extracting features...\n",
      "done loading data.\n"
     ]
    }
   ],
   "source": [
    "# Load data\n",
    "A_tilde, X_bow, y, idx_train, idx_val, idx_test, vocab_size = get_data()\n",
    "\n",
    "# Model and optimizer\n",
    "model = GCN(nfeat=X_bow.shape[1],\n",
    "            nhid=hidden,\n",
    "            nclass=y.max().item() + 1,\n",
    "            dropout=dropout)\n",
    "optimizer = optim.Adam(model.parameters(),\n",
    "                       lr=lr, weight_decay=weight_decay)"
   ]
  },
  {
   "cell_type": "code",
   "execution_count": 302,
   "metadata": {},
   "outputs": [],
   "source": [
    "if cuda:\n",
    "    model.cuda()\n",
    "    X_bow = X_bow.cuda()\n",
    "    A_tilde = A_tilde.cuda()\n",
    "    y = y.cuda()\n",
    "    idx_train = idx_train.cuda()\n",
    "    idx_val = idx_val.cuda()\n",
    "    idx_test = idx_test.cuda()"
   ]
  },
  {
   "cell_type": "code",
   "execution_count": 303,
   "metadata": {},
   "outputs": [],
   "source": [
    "def train_gcn(features, epoch=num_epochs):\n",
    "    t = time.time()\n",
    "    model.train()\n",
    "    optimizer.zero_grad()\n",
    "    output = model(features, A_tilde)\n",
    "    # negative log likelihood loss, since we are using log_softmax\n",
    "    loss_train = F.nll_loss(output[idx_train], y[idx_train])\n",
    "    acc_train = score(output[idx_train], y[idx_train])\n",
    "    torch.autograd.set_detect_anomaly(True)\n",
    "    loss_train.backward()\n",
    "    optimizer.step()\n",
    "\n",
    "    # Evaluate model's performence on validation set\n",
    "    model.eval()\n",
    "    output = model(features, A_tilde)\n",
    "\n",
    "    loss_val = F.nll_loss(output[idx_val], y[idx_val])\n",
    "    acc_val = score(output[idx_val], y[idx_val])\n",
    "    print('Epoch: {:04d}'.format(epoch+1),\n",
    "              'loss_train: {:.4f}'.format(loss_train.item()),\n",
    "              'acc_train: {:.4f}'.format(acc_train.item()),\n",
    "              'loss_val: {:.4f}'.format(loss_val.item()),\n",
    "              'acc_val: {:.4f}'.format(acc_val.item()),\n",
    "              'time: {:.4f}s'.format(time.time() - t))\n",
    "    return loss_train, acc_train, loss_val, acc_val\n",
    "    \n",
    "    \n",
    "def test_gcn(features):\n",
    "    model.eval()\n",
    "    output = model(features, A_tilde)\n",
    "    loss_test = F.nll_loss(output[idx_test], y[idx_test])\n",
    "    acc_test = score(output[idx_test], y[idx_test])\n",
    "    print(\"Test set results:\",\n",
    "          \"loss= {:.4f}\".format(loss_test.item()),\n",
    "          \"accuracy= {:.4f}\".format(acc_test.item()))\n",
    "    return output[idx_test]"
   ]
  },
  {
   "cell_type": "code",
   "execution_count": 304,
   "metadata": {
    "scrolled": true
   },
   "outputs": [
    {
     "name": "stdout",
     "output_type": "stream",
     "text": [
      "Epoch: 0001 loss_train: 2.1100 acc_train: 0.0395 loss_val: 2.1047 acc_val: 0.0401 time: 0.1145s\n",
      "Epoch: 0002 loss_train: 2.1030 acc_train: 0.0395 loss_val: 2.0985 acc_val: 0.0401 time: 0.0975s\n",
      "Epoch: 0003 loss_train: 2.0959 acc_train: 0.0395 loss_val: 2.0922 acc_val: 0.0401 time: 0.0904s\n",
      "Epoch: 0004 loss_train: 2.0886 acc_train: 0.0395 loss_val: 2.0856 acc_val: 0.0401 time: 0.1152s\n",
      "Epoch: 0005 loss_train: 2.0814 acc_train: 0.0395 loss_val: 2.0788 acc_val: 0.0401 time: 0.1079s\n",
      "Epoch: 0006 loss_train: 2.0734 acc_train: 0.0395 loss_val: 2.0715 acc_val: 0.0476 time: 0.0959s\n",
      "Epoch: 0007 loss_train: 2.0654 acc_train: 0.0821 loss_val: 2.0634 acc_val: 0.2506 time: 0.1123s\n",
      "Epoch: 0008 loss_train: 2.0569 acc_train: 0.2821 loss_val: 2.0544 acc_val: 0.2506 time: 0.1047s\n",
      "Epoch: 0009 loss_train: 2.0462 acc_train: 0.2821 loss_val: 2.0438 acc_val: 0.2506 time: 0.1127s\n",
      "Epoch: 0010 loss_train: 2.0326 acc_train: 0.2821 loss_val: 2.0313 acc_val: 0.2506 time: 0.0943s\n",
      "Epoch: 0011 loss_train: 2.0214 acc_train: 0.2821 loss_val: 2.0165 acc_val: 0.2506 time: 0.1542s\n",
      "Epoch: 0012 loss_train: 2.0020 acc_train: 0.2821 loss_val: 1.9988 acc_val: 0.2506 time: 0.1055s\n",
      "Epoch: 0013 loss_train: 1.9802 acc_train: 0.2821 loss_val: 1.9781 acc_val: 0.2506 time: 0.1138s\n",
      "Epoch: 0014 loss_train: 1.9566 acc_train: 0.2821 loss_val: 1.9546 acc_val: 0.2506 time: 0.0864s\n",
      "Epoch: 0015 loss_train: 1.9316 acc_train: 0.2834 loss_val: 1.9293 acc_val: 0.2506 time: 0.2195s\n",
      "Epoch: 0016 loss_train: 1.9039 acc_train: 0.2815 loss_val: 1.9040 acc_val: 0.2506 time: 0.1690s\n",
      "Epoch: 0017 loss_train: 1.8735 acc_train: 0.2859 loss_val: 1.8816 acc_val: 0.2506 time: 0.1135s\n",
      "Epoch: 0018 loss_train: 1.8353 acc_train: 0.2853 loss_val: 1.8652 acc_val: 0.2506 time: 0.1371s\n",
      "Epoch: 0019 loss_train: 1.8135 acc_train: 0.2846 loss_val: 1.8574 acc_val: 0.2506 time: 0.1286s\n",
      "Epoch: 0020 loss_train: 1.7992 acc_train: 0.2922 loss_val: 1.8575 acc_val: 0.2506 time: 0.1352s\n",
      "Epoch: 0021 loss_train: 1.7932 acc_train: 0.2940 loss_val: 1.8600 acc_val: 0.2506 time: 0.1216s\n",
      "Epoch: 0022 loss_train: 1.7878 acc_train: 0.2953 loss_val: 1.8601 acc_val: 0.3233 time: 0.1237s\n",
      "Epoch: 0023 loss_train: 1.7807 acc_train: 0.2890 loss_val: 1.8551 acc_val: 0.2882 time: 0.0973s\n",
      "Epoch: 0024 loss_train: 1.7842 acc_train: 0.2871 loss_val: 1.8461 acc_val: 0.2882 time: 0.1504s\n",
      "Epoch: 0025 loss_train: 1.7733 acc_train: 0.2959 loss_val: 1.8364 acc_val: 0.2882 time: 0.1495s\n",
      "Epoch: 0026 loss_train: 1.7727 acc_train: 0.2991 loss_val: 1.8294 acc_val: 0.2882 time: 0.1185s\n",
      "Epoch: 0027 loss_train: 1.7710 acc_train: 0.2934 loss_val: 1.8259 acc_val: 0.2882 time: 0.0991s\n",
      "Epoch: 0028 loss_train: 1.7751 acc_train: 0.3016 loss_val: 1.8246 acc_val: 0.2907 time: 0.1028s\n",
      "Epoch: 0029 loss_train: 1.7697 acc_train: 0.3053 loss_val: 1.8238 acc_val: 0.2957 time: 0.0907s\n",
      "Epoch: 0030 loss_train: 1.7706 acc_train: 0.2991 loss_val: 1.8219 acc_val: 0.2957 time: 0.1007s\n",
      "Epoch: 0031 loss_train: 1.7686 acc_train: 0.3060 loss_val: 1.8186 acc_val: 0.2957 time: 0.0922s\n",
      "Epoch: 0032 loss_train: 1.7699 acc_train: 0.3003 loss_val: 1.8147 acc_val: 0.2932 time: 0.1135s\n",
      "Epoch: 0033 loss_train: 1.7592 acc_train: 0.3009 loss_val: 1.8115 acc_val: 0.2932 time: 0.1747s\n",
      "Epoch: 0034 loss_train: 1.7592 acc_train: 0.2991 loss_val: 1.8097 acc_val: 0.2907 time: 0.1607s\n",
      "Epoch: 0035 loss_train: 1.7498 acc_train: 0.3009 loss_val: 1.8092 acc_val: 0.2907 time: 0.0977s\n",
      "Epoch: 0036 loss_train: 1.7478 acc_train: 0.2978 loss_val: 1.8088 acc_val: 0.2907 time: 0.1050s\n",
      "Epoch: 0037 loss_train: 1.7492 acc_train: 0.2978 loss_val: 1.8069 acc_val: 0.2907 time: 0.1435s\n",
      "Epoch: 0038 loss_train: 1.7462 acc_train: 0.2997 loss_val: 1.8020 acc_val: 0.2932 time: 0.1625s\n",
      "Epoch: 0039 loss_train: 1.7392 acc_train: 0.3003 loss_val: 1.7965 acc_val: 0.2957 time: 0.1819s\n",
      "Epoch: 0040 loss_train: 1.7387 acc_train: 0.3072 loss_val: 1.7923 acc_val: 0.2957 time: 0.1740s\n",
      "Epoch: 0041 loss_train: 1.7356 acc_train: 0.3116 loss_val: 1.7892 acc_val: 0.2982 time: 0.1488s\n",
      "Epoch: 0042 loss_train: 1.7331 acc_train: 0.3129 loss_val: 1.7863 acc_val: 0.3108 time: 0.1945s\n",
      "Epoch: 0043 loss_train: 1.7294 acc_train: 0.3216 loss_val: 1.7830 acc_val: 0.3133 time: 0.1683s\n",
      "Epoch: 0044 loss_train: 1.7253 acc_train: 0.3229 loss_val: 1.7799 acc_val: 0.3133 time: 0.2972s\n",
      "Epoch: 0045 loss_train: 1.7168 acc_train: 0.3210 loss_val: 1.7776 acc_val: 0.3133 time: 0.2605s\n",
      "Epoch: 0046 loss_train: 1.7191 acc_train: 0.3154 loss_val: 1.7759 acc_val: 0.3108 time: 0.1741s\n",
      "Epoch: 0047 loss_train: 1.7100 acc_train: 0.3185 loss_val: 1.7724 acc_val: 0.3133 time: 0.1912s\n",
      "Epoch: 0048 loss_train: 1.7109 acc_train: 0.3204 loss_val: 1.7678 acc_val: 0.3133 time: 0.1335s\n",
      "Epoch: 0049 loss_train: 1.7077 acc_train: 0.3248 loss_val: 1.7634 acc_val: 0.3158 time: 0.1097s\n",
      "Epoch: 0050 loss_train: 1.7033 acc_train: 0.3354 loss_val: 1.7597 acc_val: 0.3258 time: 0.1588s\n",
      "Epoch: 0051 loss_train: 1.6977 acc_train: 0.3442 loss_val: 1.7563 acc_val: 0.3258 time: 0.1654s\n",
      "Epoch: 0052 loss_train: 1.6963 acc_train: 0.3392 loss_val: 1.7528 acc_val: 0.3258 time: 0.1401s\n",
      "Epoch: 0053 loss_train: 1.6959 acc_train: 0.3417 loss_val: 1.7510 acc_val: 0.3208 time: 0.1072s\n",
      "Epoch: 0054 loss_train: 1.6880 acc_train: 0.3429 loss_val: 1.7486 acc_val: 0.3233 time: 0.2811s\n",
      "Epoch: 0055 loss_train: 1.6825 acc_train: 0.3361 loss_val: 1.7427 acc_val: 0.3308 time: 0.2493s\n",
      "Epoch: 0056 loss_train: 1.6822 acc_train: 0.3511 loss_val: 1.7399 acc_val: 0.3509 time: 0.2353s\n",
      "Epoch: 0057 loss_train: 1.6808 acc_train: 0.3643 loss_val: 1.7363 acc_val: 0.3509 time: 0.1854s\n",
      "Epoch: 0058 loss_train: 1.6781 acc_train: 0.3643 loss_val: 1.7323 acc_val: 0.3484 time: 0.1769s\n",
      "Epoch: 0059 loss_train: 1.6700 acc_train: 0.3680 loss_val: 1.7294 acc_val: 0.3434 time: 0.1676s\n",
      "Epoch: 0060 loss_train: 1.6664 acc_train: 0.3592 loss_val: 1.7259 acc_val: 0.3559 time: 0.1531s\n",
      "Epoch: 0061 loss_train: 1.6694 acc_train: 0.3737 loss_val: 1.7238 acc_val: 0.3534 time: 0.0942s\n",
      "Epoch: 0062 loss_train: 1.6582 acc_train: 0.3643 loss_val: 1.7216 acc_val: 0.3559 time: 0.0911s\n",
      "Epoch: 0063 loss_train: 1.6581 acc_train: 0.3705 loss_val: 1.7187 acc_val: 0.3709 time: 0.1368s\n",
      "Epoch: 0064 loss_train: 1.6612 acc_train: 0.3799 loss_val: 1.7169 acc_val: 0.3684 time: 0.1347s\n",
      "Epoch: 0065 loss_train: 1.6513 acc_train: 0.3737 loss_val: 1.7169 acc_val: 0.3584 time: 0.1076s\n",
      "Epoch: 0066 loss_train: 1.6541 acc_train: 0.3774 loss_val: 1.7144 acc_val: 0.3759 time: 0.1208s\n",
      "Epoch: 0067 loss_train: 1.6530 acc_train: 0.3781 loss_val: 1.7126 acc_val: 0.3784 time: 0.1027s\n",
      "Epoch: 0068 loss_train: 1.6454 acc_train: 0.3893 loss_val: 1.7108 acc_val: 0.3810 time: 0.1512s\n",
      "Epoch: 0069 loss_train: 1.6434 acc_train: 0.3975 loss_val: 1.7095 acc_val: 0.3784 time: 0.1112s\n",
      "Epoch: 0070 loss_train: 1.6395 acc_train: 0.3900 loss_val: 1.7058 acc_val: 0.3885 time: 0.1566s\n",
      "Epoch: 0071 loss_train: 1.6352 acc_train: 0.4013 loss_val: 1.7042 acc_val: 0.3960 time: 0.1630s\n",
      "Epoch: 0072 loss_train: 1.6360 acc_train: 0.4157 loss_val: 1.7022 acc_val: 0.3885 time: 0.1156s\n",
      "Epoch: 0073 loss_train: 1.6373 acc_train: 0.3887 loss_val: 1.6988 acc_val: 0.3960 time: 0.1022s\n",
      "Epoch: 0074 loss_train: 1.6333 acc_train: 0.4201 loss_val: 1.6966 acc_val: 0.3960 time: 0.1438s\n",
      "Epoch: 0075 loss_train: 1.6280 acc_train: 0.4019 loss_val: 1.6946 acc_val: 0.4035 time: 0.1157s\n",
      "Epoch: 0076 loss_train: 1.6276 acc_train: 0.4125 loss_val: 1.6930 acc_val: 0.4010 time: 0.1553s\n",
      "Epoch: 0077 loss_train: 1.6283 acc_train: 0.4295 loss_val: 1.6922 acc_val: 0.3935 time: 0.1129s\n",
      "Epoch: 0078 loss_train: 1.6279 acc_train: 0.4038 loss_val: 1.6876 acc_val: 0.4010 time: 0.1486s\n",
      "Epoch: 0079 loss_train: 1.6192 acc_train: 0.4119 loss_val: 1.6891 acc_val: 0.4060 time: 0.1326s\n",
      "Epoch: 0080 loss_train: 1.6166 acc_train: 0.4270 loss_val: 1.6856 acc_val: 0.4060 time: 0.0872s\n",
      "Epoch: 0081 loss_train: 1.6170 acc_train: 0.4451 loss_val: 1.6869 acc_val: 0.3960 time: 0.0903s\n",
      "Epoch: 0082 loss_train: 1.6219 acc_train: 0.4038 loss_val: 1.6841 acc_val: 0.4110 time: 0.1718s\n",
      "Epoch: 0083 loss_train: 1.6185 acc_train: 0.4520 loss_val: 1.6799 acc_val: 0.4060 time: 0.1016s\n",
      "Epoch: 0084 loss_train: 1.6110 acc_train: 0.4301 loss_val: 1.6793 acc_val: 0.4060 time: 0.0976s\n",
      "Epoch: 0085 loss_train: 1.6091 acc_train: 0.4238 loss_val: 1.6773 acc_val: 0.4085 time: 0.1398s\n",
      "Epoch: 0086 loss_train: 1.6008 acc_train: 0.4226 loss_val: 1.6804 acc_val: 0.4311 time: 0.1068s\n"
     ]
    },
    {
     "name": "stdout",
     "output_type": "stream",
     "text": [
      "Epoch: 0087 loss_train: 1.6121 acc_train: 0.4420 loss_val: 1.6747 acc_val: 0.4110 time: 0.1017s\n",
      "Epoch: 0088 loss_train: 1.6072 acc_train: 0.4213 loss_val: 1.6730 acc_val: 0.4085 time: 0.1522s\n",
      "Epoch: 0089 loss_train: 1.6042 acc_train: 0.4420 loss_val: 1.6727 acc_val: 0.4060 time: 0.1952s\n",
      "Epoch: 0090 loss_train: 1.5992 acc_train: 0.4376 loss_val: 1.6707 acc_val: 0.4085 time: 0.0870s\n",
      "Epoch: 0091 loss_train: 1.5997 acc_train: 0.4357 loss_val: 1.6706 acc_val: 0.4110 time: 0.0904s\n",
      "Epoch: 0092 loss_train: 1.6042 acc_train: 0.4332 loss_val: 1.6753 acc_val: 0.4261 time: 0.0953s\n",
      "Epoch: 0093 loss_train: 1.6048 acc_train: 0.4476 loss_val: 1.6692 acc_val: 0.4035 time: 0.0859s\n",
      "Epoch: 0094 loss_train: 1.6005 acc_train: 0.4364 loss_val: 1.6854 acc_val: 0.3910 time: 0.0925s\n",
      "Epoch: 0095 loss_train: 1.6278 acc_train: 0.4006 loss_val: 1.6850 acc_val: 0.4085 time: 0.1012s\n",
      "Epoch: 0096 loss_train: 1.6094 acc_train: 0.4527 loss_val: 1.7003 acc_val: 0.3910 time: 0.0902s\n",
      "Epoch: 0097 loss_train: 1.6159 acc_train: 0.4357 loss_val: 1.6668 acc_val: 0.4135 time: 0.0917s\n",
      "Epoch: 0098 loss_train: 1.5924 acc_train: 0.4351 loss_val: 1.6828 acc_val: 0.3910 time: 0.1139s\n",
      "Epoch: 0099 loss_train: 1.6220 acc_train: 0.3944 loss_val: 1.6633 acc_val: 0.4035 time: 0.1537s\n",
      "Epoch: 0100 loss_train: 1.5888 acc_train: 0.4357 loss_val: 1.6746 acc_val: 0.4010 time: 0.1362s\n",
      "Epoch: 0101 loss_train: 1.6142 acc_train: 0.4426 loss_val: 1.6707 acc_val: 0.4035 time: 0.1094s\n",
      "Epoch: 0102 loss_train: 1.5968 acc_train: 0.4426 loss_val: 1.6577 acc_val: 0.4085 time: 0.1016s\n",
      "Epoch: 0103 loss_train: 1.5902 acc_train: 0.4276 loss_val: 1.6600 acc_val: 0.4085 time: 0.1420s\n",
      "Epoch: 0104 loss_train: 1.5904 acc_train: 0.4276 loss_val: 1.6563 acc_val: 0.4085 time: 0.1491s\n",
      "Epoch: 0105 loss_train: 1.5877 acc_train: 0.4357 loss_val: 1.6584 acc_val: 0.4336 time: 0.1309s\n",
      "Epoch: 0106 loss_train: 1.5863 acc_train: 0.4401 loss_val: 1.6601 acc_val: 0.4261 time: 0.1020s\n",
      "Epoch: 0107 loss_train: 1.5811 acc_train: 0.4458 loss_val: 1.6562 acc_val: 0.4311 time: 0.1270s\n",
      "Epoch: 0108 loss_train: 1.5803 acc_train: 0.4514 loss_val: 1.6550 acc_val: 0.4085 time: 0.1436s\n",
      "Epoch: 0109 loss_train: 1.5843 acc_train: 0.4420 loss_val: 1.6585 acc_val: 0.4060 time: 0.1201s\n",
      "Epoch: 0110 loss_train: 1.5996 acc_train: 0.4213 loss_val: 1.6570 acc_val: 0.4286 time: 0.1032s\n",
      "Epoch: 0111 loss_train: 1.5798 acc_train: 0.4470 loss_val: 1.6608 acc_val: 0.4110 time: 0.1675s\n",
      "Epoch: 0112 loss_train: 1.5901 acc_train: 0.4414 loss_val: 1.6537 acc_val: 0.4135 time: 0.1250s\n",
      "Epoch: 0113 loss_train: 1.5765 acc_train: 0.4483 loss_val: 1.6548 acc_val: 0.4035 time: 0.1676s\n",
      "Epoch: 0114 loss_train: 1.5877 acc_train: 0.4295 loss_val: 1.6515 acc_val: 0.4110 time: 0.1396s\n",
      "Epoch: 0115 loss_train: 1.5773 acc_train: 0.4464 loss_val: 1.6539 acc_val: 0.4286 time: 0.1428s\n",
      "Epoch: 0116 loss_train: 1.5832 acc_train: 0.4401 loss_val: 1.6485 acc_val: 0.4110 time: 0.2041s\n",
      "Epoch: 0117 loss_train: 1.5821 acc_train: 0.4464 loss_val: 1.6529 acc_val: 0.4060 time: 0.1794s\n",
      "Epoch: 0118 loss_train: 1.5901 acc_train: 0.4201 loss_val: 1.6467 acc_val: 0.4185 time: 0.2126s\n",
      "Epoch: 0119 loss_train: 1.5743 acc_train: 0.4351 loss_val: 1.6566 acc_val: 0.4060 time: 0.2795s\n",
      "Epoch: 0120 loss_train: 1.5823 acc_train: 0.4370 loss_val: 1.6582 acc_val: 0.4035 time: 0.2272s\n",
      "Epoch: 0121 loss_train: 1.5870 acc_train: 0.4408 loss_val: 1.6431 acc_val: 0.4085 time: 0.1767s\n",
      "Epoch: 0122 loss_train: 1.5776 acc_train: 0.4451 loss_val: 1.6599 acc_val: 0.4010 time: 0.1394s\n",
      "Epoch: 0123 loss_train: 1.5883 acc_train: 0.4226 loss_val: 1.6426 acc_val: 0.4085 time: 0.1144s\n",
      "Epoch: 0124 loss_train: 1.5743 acc_train: 0.4332 loss_val: 1.6648 acc_val: 0.3910 time: 0.0995s\n",
      "Epoch: 0125 loss_train: 1.5762 acc_train: 0.4451 loss_val: 1.6804 acc_val: 0.3935 time: 0.1136s\n",
      "Epoch: 0126 loss_train: 1.6108 acc_train: 0.4207 loss_val: 1.6455 acc_val: 0.4211 time: 0.2679s\n",
      "Epoch: 0127 loss_train: 1.5754 acc_train: 0.4357 loss_val: 1.6463 acc_val: 0.4135 time: 0.2613s\n",
      "Epoch: 0128 loss_train: 1.5938 acc_train: 0.4201 loss_val: 1.6387 acc_val: 0.4211 time: 0.2462s\n",
      "Epoch: 0129 loss_train: 1.5788 acc_train: 0.4364 loss_val: 1.6504 acc_val: 0.3960 time: 0.2293s\n",
      "Epoch: 0130 loss_train: 1.6083 acc_train: 0.4263 loss_val: 1.6494 acc_val: 0.4035 time: 0.1850s\n",
      "Epoch: 0131 loss_train: 1.5765 acc_train: 0.4439 loss_val: 1.6364 acc_val: 0.4211 time: 0.1382s\n",
      "Epoch: 0132 loss_train: 1.5682 acc_train: 0.4401 loss_val: 1.6393 acc_val: 0.4110 time: 0.0950s\n",
      "Epoch: 0133 loss_train: 1.5707 acc_train: 0.4426 loss_val: 1.6398 acc_val: 0.4110 time: 0.0992s\n",
      "Epoch: 0134 loss_train: 1.5765 acc_train: 0.4426 loss_val: 1.6400 acc_val: 0.4336 time: 0.1623s\n",
      "Epoch: 0135 loss_train: 1.5683 acc_train: 0.4464 loss_val: 1.6441 acc_val: 0.4160 time: 0.1500s\n",
      "Epoch: 0136 loss_train: 1.5641 acc_train: 0.4483 loss_val: 1.6429 acc_val: 0.4160 time: 0.1327s\n",
      "Epoch: 0137 loss_train: 1.5708 acc_train: 0.4495 loss_val: 1.6387 acc_val: 0.4085 time: 0.0976s\n",
      "Epoch: 0138 loss_train: 1.5669 acc_train: 0.4357 loss_val: 1.6380 acc_val: 0.4085 time: 0.1545s\n",
      "Epoch: 0139 loss_train: 1.5716 acc_train: 0.4433 loss_val: 1.6373 acc_val: 0.4110 time: 0.1363s\n",
      "Epoch: 0140 loss_train: 1.5653 acc_train: 0.4445 loss_val: 1.6406 acc_val: 0.4211 time: 0.1086s\n",
      "Epoch: 0141 loss_train: 1.5705 acc_train: 0.4364 loss_val: 1.6368 acc_val: 0.4261 time: 0.1402s\n",
      "Epoch: 0142 loss_train: 1.5640 acc_train: 0.4502 loss_val: 1.6362 acc_val: 0.4085 time: 0.1093s\n",
      "Epoch: 0143 loss_train: 1.5650 acc_train: 0.4470 loss_val: 1.6425 acc_val: 0.4085 time: 0.1526s\n",
      "Epoch: 0144 loss_train: 1.5778 acc_train: 0.4245 loss_val: 1.6344 acc_val: 0.4185 time: 0.1526s\n",
      "Epoch: 0145 loss_train: 1.5600 acc_train: 0.4527 loss_val: 1.6432 acc_val: 0.4085 time: 0.0921s\n",
      "Epoch: 0146 loss_train: 1.5806 acc_train: 0.4458 loss_val: 1.6336 acc_val: 0.4110 time: 0.1490s\n",
      "Epoch: 0147 loss_train: 1.5626 acc_train: 0.4502 loss_val: 1.6354 acc_val: 0.4035 time: 0.1275s\n",
      "Epoch: 0148 loss_train: 1.5714 acc_train: 0.4313 loss_val: 1.6323 acc_val: 0.4160 time: 0.1045s\n",
      "Epoch: 0149 loss_train: 1.5639 acc_train: 0.4476 loss_val: 1.6389 acc_val: 0.4135 time: 0.1472s\n",
      "Epoch: 0150 loss_train: 1.5707 acc_train: 0.4408 loss_val: 1.6325 acc_val: 0.4336 time: 0.0989s\n"
     ]
    },
    {
     "data": {
      "image/png": "[encoded data removed]",
      "text/plain": [
       "<Figure size 432x576 with 2 Axes>"
      ]
     },
     "metadata": {
      "needs_background": "light"
     },
     "output_type": "display_data"
    },
    {
     "name": "stdout",
     "output_type": "stream",
     "text": [
      "Total time elapsed: 21.4642s\n"
     ]
    }
   ],
   "source": [
    "# Train model\n",
    "t_total = time.time()\n",
    "train_accuracies, train_losses = [], []\n",
    "val_accuracies, val_losses = [], []\n",
    "\n",
    "for t in range(num_epochs):\n",
    "    train_loss, train_acc, val_loss, val_acc = train_gcn(X_bow,t)\n",
    "    train_losses.append(train_loss)\n",
    "    train_accuracies.append(train_acc)\n",
    "    val_losses.append(val_loss)\n",
    "    val_accuracies.append(val_acc)\n",
    "    \n",
    "fig, axs = plt.subplots(2,1, figsize=(6,8))\n",
    "axs[0].plot(train_losses, label=\"train\")\n",
    "axs[0].plot(val_losses, label=\"validation\")\n",
    "axs[0].set_title('Loss')\n",
    "axs[0].legend(loc='best')\n",
    "\n",
    "axs[1].plot(train_accuracies, label='train')\n",
    "axs[1].plot(val_accuracies, label='validation')\n",
    "axs[1].set_ylim(0, 1.1)\n",
    "axs[1].set_ylabel(\"accuracy\")\n",
    "axs[1].legend(loc='best')\n",
    "plt.show()\n",
    "print(\"Total time elapsed: {:.4f}s\".format(time.time() - t_total))\n"
   ]
  },
  {
   "cell_type": "code",
   "execution_count": 305,
   "metadata": {
    "scrolled": true
   },
   "outputs": [
    {
     "name": "stdout",
     "output_type": "stream",
     "text": [
      "Test set results: loss= 3.2318 accuracy= 0.0000\n"
     ]
    }
   ],
   "source": [
    "# testing\n",
    "pred = test_gcn(X_bow)  # we have an accuracy of 0% since we compare the results to a dummy label"
   ]
  },
  {
   "cell_type": "code",
   "execution_count": 306,
   "metadata": {},
   "outputs": [
    {
     "data": {
      "text/plain": [
       "array([0.02552629, 0.14453198, 0.02864473, 0.21016503, 0.03708264,\n",
       "       0.01415174, 0.06344451, 0.01516018])"
      ]
     },
     "execution_count": 306,
     "metadata": {},
     "output_type": "execute_result"
    }
   ],
   "source": [
    "_, counts = np.unique(y.detach().numpy(), return_counts=True)\n",
    "y_pred = torch.exp(pred).detach().numpy()\n",
    "diff = np.abs(y_pred - counts/len(y))\n",
    "diff.mean(0)"
   ]
  },
  {
   "cell_type": "markdown",
   "metadata": {},
   "source": [
    "## embedding feature extraction"
   ]
  },
  {
   "cell_type": "code",
   "execution_count": 307,
   "metadata": {},
   "outputs": [],
   "source": [
    "def get_file_seq(file):\n",
    "    \"\"\"\n",
    "    Function to process a single file.\n",
    "\n",
    "    ---\n",
    "    Parameters:\n",
    "        file : str\n",
    "                File name in the Data Folder.\n",
    "\n",
    "    ---\n",
    "    Results:\n",
    "        my_data : dict\n",
    "                Dictionnary containing the number of occurences of each word in\n",
    "                the document.\n",
    "    \"\"\"\n",
    "\n",
    "    try:\n",
    "        with open(files_path+'/sequences/'+file+'_seq.pickle', 'rb') as handle:\n",
    "            file_sequence = pickle.load(handle)\n",
    "    \n",
    "    except:        \n",
    "        \n",
    "        f = open(files_path + file, \"r\", encoding=\"utf-8\")\n",
    "        l = []\n",
    "        try:\n",
    "            for x in f:\n",
    "                x = re.sub(r'[^\\w'+\"'’ \"+']', \"\",x) #removing all non-alphanumeric characters except apostrophes\n",
    "                x = x.lower()\n",
    "                x = x.replace('\\n', \"\")\n",
    "                x = re.sub(' +', ' ', x) # removing duplicate spaces\n",
    "                x = x.strip()\n",
    "                # checking if line is not empty and is in french\n",
    "                if (x != '' and lid_model.predict(x)[0][0]=='__label__fr'):\n",
    "                    # lemmatization using spacy\n",
    "                    doc = nlp(x)\n",
    "                    tokens = []\n",
    "                    for token in doc:\n",
    "                        if token.lemma_.isalnum():\n",
    "                            tokens.append(token.lemma_)\n",
    "                    x = ' '.join(tokens)\n",
    "                    l.append(x)\n",
    "        except:\n",
    "            pass\n",
    "        \n",
    "        file_sequence = [line.split(' ') for line in l]\n",
    "        file_sequence = [item for sublist in file_sequence for item in sublist if lid_model.predict(item)[0][0]=='__label__fr']\n",
    "        file_sequence = [item for item in file_sequence if (len(item) < max_characters and item not in french_stopwords)]\n",
    "        \n",
    "        with open(files_path+'/sequences/'+file+'_seq.pickle', 'wb') as handle:\n",
    "            pickle.dump(file_sequence, handle, protocol=pickle.HIGHEST_PROTOCOL)\n",
    "            \n",
    "    \n",
    "    return file_sequence"
   ]
  },
  {
   "cell_type": "code",
   "execution_count": 308,
   "metadata": {},
   "outputs": [],
   "source": [
    "def get_sequences(files=['9032']):\n",
    "    vocab = get_vocab(files=files, pkl=True)\n",
    "    file_seqs = [get_file_seq(file) for file in files]\n",
    "    print('got all file sequences, now converting to indexes on vocabulary...')\n",
    "    word_to_index, index_to_word = {}, []\n",
    "    for i, w in enumerate(vocab):\n",
    "        word_to_index[w] = i\n",
    "        index_to_word.append(w)\n",
    "    \n",
    "    sequences = [[word_to_index[w] for w in t if w in word_to_index] for t in file_seqs]\n",
    "    return sequences"
   ]
  },
  {
   "cell_type": "code",
   "execution_count": 309,
   "metadata": {},
   "outputs": [],
   "source": [
    "def get_data_seq(path='', dataset='fr-web'):\n",
    "    \n",
    "    # Read training data\n",
    "    with open(path+\"train_noduplicates.csv\", 'r') as f:\n",
    "        train_data = f.read().splitlines()\n",
    "\n",
    "    train_hosts = list()\n",
    "    y_train = list()\n",
    "    for row in train_data:\n",
    "        host, label = row.split(\",\")\n",
    "        train_hosts.append(host)\n",
    "        y_train.append(label.lower())\n",
    "    \n",
    "    # Read test data\n",
    "    with open(path+\"test.csv\", 'r') as f:\n",
    "        test_hosts = f.read().splitlines()\n",
    "        \n",
    "    idx = train_hosts+test_hosts\n",
    "    features = get_sequences(files=idx)\n",
    "    return features"
   ]
  },
  {
   "cell_type": "code",
   "execution_count": 310,
   "metadata": {},
   "outputs": [
    {
     "name": "stdout",
     "output_type": "stream",
     "text": [
      "got all file sequences, now converting to indexes on vocabulary...\n"
     ]
    }
   ],
   "source": [
    "X_seq = get_data_seq()"
   ]
  },
  {
   "cell_type": "code",
   "execution_count": 311,
   "metadata": {},
   "outputs": [
    {
     "name": "stdout",
     "output_type": "stream",
     "text": [
      "average length: 1375.5\n",
      "max length: 45026\n"
     ]
    }
   ],
   "source": [
    "seq_lens = [len(s) for s in X_seq]\n",
    "print(\"average length: %0.1f\" % np.mean(seq_lens))\n",
    "print(\"max length: %d\" % max(seq_lens))"
   ]
  },
  {
   "cell_type": "code",
   "execution_count": 371,
   "metadata": {},
   "outputs": [
    {
     "data": {
      "image/png": "[encoded data removed]",
      "text/plain": [
       "<Figure size 1440x720 with 1 Axes>"
      ]
     },
     "metadata": {
      "needs_background": "light"
     },
     "output_type": "display_data"
    }
   ],
   "source": [
    "%matplotlib inline\n",
    "import matplotlib.pyplot as plt\n",
    "\n",
    "plt.figure(figsize=(20,10))\n",
    "plt.title('Histogram of sequence lengths per document (before truncation cleaning)')\n",
    "plt.xlabel('sequence lengths')\n",
    "plt.ylabel('number of documents')\n",
    "plt.hist(seq_lens, bins=500);"
   ]
  },
  {
   "cell_type": "code",
   "execution_count": 372,
   "metadata": {
    "scrolled": false
   },
   "outputs": [
    {
     "data": {
      "image/png": "[encoded data removed]",
      "text/plain": [
       "<Figure size 1440x720 with 1 Axes>"
      ]
     },
     "metadata": {
      "needs_background": "light"
     },
     "output_type": "display_data"
    }
   ],
   "source": [
    "plt.figure(figsize=(20,10))\n",
    "plt.title('Histogram of sequence lengths per document (after  non-zero truncation)')\n",
    "plt.xlabel('sequence lengths')\n",
    "plt.ylabel('number of documents')\n",
    "plt.hist([l for l in seq_lens if (l < 3000 and l>1)], bins=500);"
   ]
  },
  {
   "cell_type": "code",
   "execution_count": 340,
   "metadata": {},
   "outputs": [
    {
     "name": "stdout",
     "output_type": "stream",
     "text": [
      "torch.Size([1595, 1000]) torch.Size([399, 1000])\n"
     ]
    }
   ],
   "source": [
    "MAX_SEQUENCE_LENGTH = 1000\n",
    "\n",
    "feats_train, feats_test, y_train, y_test = train_test_split(X_seq[:1994], y[:1994], \n",
    "                                                    test_size=0.2, \n",
    "                                                    random_state=42)\n",
    "\n",
    "X_train = torch.nn.utils.rnn.pad_sequence([torch.Tensor(s).long() for s in feats_train],\n",
    "                                               batch_first=True)[:,:MAX_SEQUENCE_LENGTH]\n",
    "X_test = torch.nn.utils.rnn.pad_sequence([torch.Tensor(s).long() for s in feats_test],\n",
    "                                               batch_first=True)[:,:MAX_SEQUENCE_LENGTH]\n",
    "\n",
    "\n",
    "print(X_train.shape, X_test.shape)"
   ]
  },
  {
   "cell_type": "code",
   "execution_count": 342,
   "metadata": {},
   "outputs": [
    {
     "data": {
      "text/plain": [
       "tensor([  61,  243,  554,  545, 2717,  211,  974,  712,  211,   51])"
      ]
     },
     "execution_count": 342,
     "metadata": {},
     "output_type": "execute_result"
    }
   ],
   "source": [
    "X_train[3][:10]"
   ]
  },
  {
   "cell_type": "code",
   "execution_count": 343,
   "metadata": {},
   "outputs": [],
   "source": [
    "train_dataset = data.TensorDataset(X_train, y_train)\n",
    "test_dataset = data.TensorDataset(X_test, y_test)"
   ]
  },
  {
   "cell_type": "code",
   "execution_count": 344,
   "metadata": {},
   "outputs": [],
   "source": [
    "def train_epoch(loader, model, loss, optimizer, cuda = False):\n",
    "    losses, accuracies = 0., 0.\n",
    "    for batch_idx, (data, target) in enumerate(loader):\n",
    "        if cuda:\n",
    "            data = data.cuda()\n",
    "            target = target.cuda()\n",
    "        optimizer.zero_grad()\n",
    "        output = model(data)\n",
    "        loss_value = loss(output, target)\n",
    "        loss_value.backward()\n",
    "        optimizer.step()\n",
    "        acc_value = score(output, target)\n",
    "        losses += loss_value.item()\n",
    "        accuracies += acc_value.item()\n",
    "    batch_idx += 1\n",
    "    return losses / batch_idx, accuracies / batch_idx\n",
    "        \n",
    "def eval_epoch(loader, model, loss):\n",
    "    losses, accuracies = 0., 0.\n",
    "    for batch_idx, (data, target) in enumerate(loader):\n",
    "        if cuda:\n",
    "            data = data.cuda()\n",
    "            target = target.cuda()\n",
    "        output = model(data)\n",
    "        loss_value = loss(output, target)\n",
    "        acc_value = score(output, target)\n",
    "        losses += loss_value.item()\n",
    "        accuracies += acc_value.item()\n",
    "    batch_idx += 1\n",
    "    return losses / batch_idx, accuracies / batch_idx\n",
    "\n",
    "def train_ann(model, loss, optimizer, batch_size=10, num_epochs=20):\n",
    "\n",
    "    train_loader = torch.utils.data.DataLoader(train_dataset, batch_size=batch_size, shuffle=True)\n",
    "    test_loader = torch.utils.data.DataLoader(test_dataset, batch_size=batch_size, shuffle=False)\n",
    "\n",
    "    train_losses, train_accuracies, test_losses, test_accuracies = [],[],[],[]\n",
    "    for epoch in range(num_epochs):\n",
    "        train_loss, train_acc = train_epoch(train_loader, model, loss, optimizer)\n",
    "        test_loss, test_acc = eval_epoch(test_loader, model, loss)\n",
    "        train_losses.append(train_loss)\n",
    "        test_losses.append(test_loss)\n",
    "        train_accuracies.append(train_acc)\n",
    "        test_accuracies.append(test_acc)\n",
    "        print(\n",
    "            f\"epoch {epoch+1} - loss = {train_loss:.2} - train_acc = {train_acc:.2} - test_acc = {test_acc:.2}\")\n",
    "        \n",
    "    fig, axs = plt.subplots(2,1, figsize=(6,8))\n",
    "    axs[0].plot(train_losses, label=\"train\")\n",
    "    axs[0].plot(test_losses, label=\"test\")\n",
    "    axs[0].set_title('Loss')\n",
    "    axs[0].legend(loc='best')\n",
    "\n",
    "    axs[1].plot(train_accuracies, label='train')\n",
    "    axs[1].plot(test_accuracies, label='test')\n",
    "    axs[1].set_ylim(0, 1.1)\n",
    "    axs[1].set_ylabel(\"accuracy\")\n",
    "    axs[1].legend(loc='best')\n",
    "    plt.show()"
   ]
  },
  {
   "cell_type": "code",
   "execution_count": 345,
   "metadata": {},
   "outputs": [],
   "source": [
    "class NeuralNet(nn.Module):\n",
    "    def __init__(self, vocab_size, emb_dim, n_classes):\n",
    "        super(NeuralNet, self).__init__()\n",
    "\n",
    "        self.emb = nn.Embedding(vocab_size,emb_dim)\n",
    "        self.fc = nn.Linear(emb_dim, n_classes)\n",
    "        \n",
    "        \n",
    "    def forward(self, x):\n",
    "        x = self.emb(x)\n",
    "        x = torch.mean(x,1)\n",
    "        x = self.fc(x)\n",
    "        return F.log_softmax(x, -1)\n",
    "    \n",
    "    def get_layer(self, x):\n",
    "        x = self.emb(x)\n",
    "        x = torch.mean(x,1)\n",
    "        return x"
   ]
  },
  {
   "cell_type": "code",
   "execution_count": 346,
   "metadata": {},
   "outputs": [],
   "source": [
    "n_classes = len(y_train.unique())\n",
    "model = NeuralNet(vocab_size, 50, n_classes)\n",
    "if cuda:\n",
    "    model = model.cuda()\n",
    "loss = nn.CrossEntropyLoss()\n",
    "\n",
    "optimizer = torch.optim.Adam(model.parameters())"
   ]
  },
  {
   "cell_type": "code",
   "execution_count": 319,
   "metadata": {
    "scrolled": false
   },
   "outputs": [
    {
     "name": "stdout",
     "output_type": "stream",
     "text": [
      "epoch 1 - loss = 1.9 - train_acc = 0.28 - test_acc = 0.29\n",
      "epoch 2 - loss = 1.8 - train_acc = 0.31 - test_acc = 0.33\n",
      "epoch 3 - loss = 1.8 - train_acc = 0.33 - test_acc = 0.34\n",
      "epoch 4 - loss = 1.7 - train_acc = 0.35 - test_acc = 0.32\n",
      "epoch 5 - loss = 1.7 - train_acc = 0.36 - test_acc = 0.38\n",
      "epoch 6 - loss = 1.7 - train_acc = 0.39 - test_acc = 0.37\n",
      "epoch 7 - loss = 1.6 - train_acc = 0.41 - test_acc = 0.35\n",
      "epoch 8 - loss = 1.6 - train_acc = 0.42 - test_acc = 0.36\n",
      "epoch 9 - loss = 1.6 - train_acc = 0.43 - test_acc = 0.38\n",
      "epoch 10 - loss = 1.5 - train_acc = 0.44 - test_acc = 0.38\n",
      "epoch 11 - loss = 1.5 - train_acc = 0.46 - test_acc = 0.38\n",
      "epoch 12 - loss = 1.5 - train_acc = 0.47 - test_acc = 0.39\n",
      "epoch 13 - loss = 1.5 - train_acc = 0.47 - test_acc = 0.38\n",
      "epoch 14 - loss = 1.4 - train_acc = 0.49 - test_acc = 0.42\n",
      "epoch 15 - loss = 1.4 - train_acc = 0.5 - test_acc = 0.41\n"
     ]
    },
    {
     "data": {
      "image/png": "[encoded data removed]",
      "text/plain": [
       "<Figure size 432x576 with 2 Axes>"
      ]
     },
     "metadata": {
      "needs_background": "light"
     },
     "output_type": "display_data"
    }
   ],
   "source": [
    "train_ann(model, loss, optimizer, num_epochs=15)"
   ]
  },
  {
   "cell_type": "code",
   "execution_count": 320,
   "metadata": {},
   "outputs": [
    {
     "name": "stdout",
     "output_type": "stream",
     "text": [
      "got all file sequences, now converting to indexes on vocabulary...\n"
     ]
    }
   ],
   "source": [
    "model.eval()\n",
    "X_seq = get_data_seq()\n",
    "\n",
    "mlp_feats = torch.nn.utils.rnn.pad_sequence([torch.Tensor(s).long() for s in X_seq],\n",
    "                                               batch_first=True)[:,:MAX_SEQUENCE_LENGTH]\n",
    "\n",
    "mlp_feats = model.get_layer(mlp_feats)"
   ]
  },
  {
   "cell_type": "code",
   "execution_count": 321,
   "metadata": {},
   "outputs": [
    {
     "data": {
      "text/plain": [
       "torch.Size([2554, 50])"
      ]
     },
     "execution_count": 321,
     "metadata": {},
     "output_type": "execute_result"
    }
   ],
   "source": [
    "mlp_feats.shape"
   ]
  },
  {
   "cell_type": "code",
   "execution_count": 322,
   "metadata": {},
   "outputs": [],
   "source": [
    "n_samples = A_tilde.shape[1]\n",
    "n_features = mlp_feats.shape[1]\n",
    "\n",
    "X_gcn = np.zeros((n_samples,n_features))\n",
    "X_gcn[:mlp_feats.shape[0]] = mlp_feats.detach().numpy()\n",
    "X_gcn = sp.csr_matrix(X_gcn, dtype=np.float32)\n",
    "X_gcn = torch.FloatTensor(np.array(X_gcn.todense()))"
   ]
  },
  {
   "cell_type": "code",
   "execution_count": 348,
   "metadata": {},
   "outputs": [],
   "source": [
    "# Model and optimizer\n",
    "model = GCN(nfeat=X_gcn.shape[1],\n",
    "            nhid=hidden,\n",
    "            nclass=y.max().item() + 1,\n",
    "            dropout=dropout)\n",
    "optimizer = optim.Adam(model.parameters(),\n",
    "                       lr=lr, weight_decay=weight_decay)"
   ]
  },
  {
   "cell_type": "code",
   "execution_count": 349,
   "metadata": {},
   "outputs": [],
   "source": [
    "if cuda:\n",
    "    model.cuda()\n",
    "    X_gcn = X_gcn.cuda()\n",
    "    A_tilde = A_tilde.cuda()\n",
    "    y = y.cuda()"
   ]
  },
  {
   "cell_type": "code",
   "execution_count": 350,
   "metadata": {
    "scrolled": true
   },
   "outputs": [
    {
     "name": "stdout",
     "output_type": "stream",
     "text": [
      "Epoch: 0001 loss_train: 2.0666 acc_train: 0.1881 loss_val: 2.0345 acc_val: 0.2055 time: 0.2391s\n",
      "Epoch: 0002 loss_train: 2.0319 acc_train: 0.2232 loss_val: 1.9930 acc_val: 0.2556 time: 0.1229s\n",
      "Epoch: 0003 loss_train: 1.9853 acc_train: 0.2364 loss_val: 1.9390 acc_val: 0.2531 time: 0.1076s\n",
      "Epoch: 0004 loss_train: 1.9257 acc_train: 0.2696 loss_val: 1.8926 acc_val: 0.2882 time: 0.0916s\n",
      "Epoch: 0005 loss_train: 1.8774 acc_train: 0.2934 loss_val: 1.8917 acc_val: 0.2932 time: 0.0733s\n",
      "Epoch: 0006 loss_train: 1.8633 acc_train: 0.2834 loss_val: 1.9021 acc_val: 0.2657 time: 0.0604s\n",
      "Epoch: 0007 loss_train: 1.8732 acc_train: 0.2959 loss_val: 1.8839 acc_val: 0.2481 time: 0.0459s\n",
      "Epoch: 0008 loss_train: 1.8508 acc_train: 0.2934 loss_val: 1.8568 acc_val: 0.2431 time: 0.0590s\n",
      "Epoch: 0009 loss_train: 1.8214 acc_train: 0.3210 loss_val: 1.8382 acc_val: 0.2556 time: 0.0428s\n",
      "Epoch: 0010 loss_train: 1.8067 acc_train: 0.3135 loss_val: 1.8255 acc_val: 0.2882 time: 0.0462s\n",
      "Epoch: 0011 loss_train: 1.7861 acc_train: 0.3304 loss_val: 1.8135 acc_val: 0.3208 time: 0.0475s\n",
      "Epoch: 0012 loss_train: 1.7705 acc_train: 0.3116 loss_val: 1.8003 acc_val: 0.3133 time: 0.0555s\n",
      "Epoch: 0013 loss_train: 1.7439 acc_train: 0.3304 loss_val: 1.7947 acc_val: 0.2907 time: 0.0413s\n",
      "Epoch: 0014 loss_train: 1.7364 acc_train: 0.3241 loss_val: 1.7861 acc_val: 0.2932 time: 0.0414s\n",
      "Epoch: 0015 loss_train: 1.7227 acc_train: 0.3241 loss_val: 1.7761 acc_val: 0.3058 time: 0.0398s\n",
      "Epoch: 0016 loss_train: 1.7161 acc_train: 0.3323 loss_val: 1.7726 acc_val: 0.3333 time: 0.0481s\n",
      "Epoch: 0017 loss_train: 1.7131 acc_train: 0.3429 loss_val: 1.7728 acc_val: 0.3183 time: 0.0764s\n",
      "Epoch: 0018 loss_train: 1.7106 acc_train: 0.3411 loss_val: 1.7729 acc_val: 0.3183 time: 0.0472s\n",
      "Epoch: 0019 loss_train: 1.6968 acc_train: 0.3549 loss_val: 1.7811 acc_val: 0.3358 time: 0.0344s\n",
      "Epoch: 0020 loss_train: 1.7164 acc_train: 0.3517 loss_val: 1.7764 acc_val: 0.3484 time: 0.0405s\n",
      "Epoch: 0021 loss_train: 1.6935 acc_train: 0.3618 loss_val: 1.7698 acc_val: 0.3484 time: 0.0515s\n",
      "Epoch: 0022 loss_train: 1.6984 acc_train: 0.3561 loss_val: 1.7645 acc_val: 0.3459 time: 0.0570s\n",
      "Epoch: 0023 loss_train: 1.6910 acc_train: 0.3549 loss_val: 1.7589 acc_val: 0.3409 time: 0.0413s\n",
      "Epoch: 0024 loss_train: 1.6930 acc_train: 0.3448 loss_val: 1.7514 acc_val: 0.3308 time: 0.0425s\n",
      "Epoch: 0025 loss_train: 1.6850 acc_train: 0.3611 loss_val: 1.7453 acc_val: 0.3308 time: 0.0458s\n",
      "Epoch: 0026 loss_train: 1.6686 acc_train: 0.3649 loss_val: 1.7404 acc_val: 0.3509 time: 0.0597s\n",
      "Epoch: 0027 loss_train: 1.6641 acc_train: 0.3793 loss_val: 1.7372 acc_val: 0.3383 time: 0.0755s\n",
      "Epoch: 0028 loss_train: 1.6674 acc_train: 0.3636 loss_val: 1.7319 acc_val: 0.3358 time: 0.0435s\n",
      "Epoch: 0029 loss_train: 1.6659 acc_train: 0.3624 loss_val: 1.7253 acc_val: 0.3459 time: 0.0396s\n",
      "Epoch: 0030 loss_train: 1.6595 acc_train: 0.3668 loss_val: 1.7219 acc_val: 0.3333 time: 0.0381s\n",
      "Epoch: 0031 loss_train: 1.6535 acc_train: 0.3737 loss_val: 1.7154 acc_val: 0.3358 time: 0.0537s\n",
      "Epoch: 0032 loss_train: 1.6542 acc_train: 0.3812 loss_val: 1.7099 acc_val: 0.3383 time: 0.0968s\n",
      "Epoch: 0033 loss_train: 1.6348 acc_train: 0.3925 loss_val: 1.7049 acc_val: 0.3308 time: 0.1257s\n",
      "Epoch: 0034 loss_train: 1.6410 acc_train: 0.3887 loss_val: 1.7035 acc_val: 0.3258 time: 0.0554s\n",
      "Epoch: 0035 loss_train: 1.6363 acc_train: 0.3787 loss_val: 1.6964 acc_val: 0.3283 time: 0.0573s\n",
      "Epoch: 0036 loss_train: 1.6242 acc_train: 0.3987 loss_val: 1.6929 acc_val: 0.3308 time: 0.0430s\n",
      "Epoch: 0037 loss_train: 1.6330 acc_train: 0.3881 loss_val: 1.6985 acc_val: 0.3484 time: 0.0364s\n",
      "Epoch: 0038 loss_train: 1.6294 acc_train: 0.3768 loss_val: 1.6890 acc_val: 0.3383 time: 0.0509s\n",
      "Epoch: 0039 loss_train: 1.6217 acc_train: 0.3937 loss_val: 1.6857 acc_val: 0.3358 time: 0.0577s\n",
      "Epoch: 0040 loss_train: 1.6259 acc_train: 0.3931 loss_val: 1.6817 acc_val: 0.3308 time: 0.0529s\n",
      "Epoch: 0041 loss_train: 1.6148 acc_train: 0.3893 loss_val: 1.6989 acc_val: 0.3383 time: 0.0392s\n",
      "Epoch: 0042 loss_train: 1.6338 acc_train: 0.3743 loss_val: 1.6785 acc_val: 0.3358 time: 0.0370s\n",
      "Epoch: 0043 loss_train: 1.6143 acc_train: 0.3944 loss_val: 1.6992 acc_val: 0.3333 time: 0.0487s\n",
      "Epoch: 0044 loss_train: 1.6268 acc_train: 0.3868 loss_val: 1.6867 acc_val: 0.3383 time: 0.0539s\n",
      "Epoch: 0045 loss_train: 1.6170 acc_train: 0.3893 loss_val: 1.6802 acc_val: 0.3659 time: 0.0384s\n",
      "Epoch: 0046 loss_train: 1.6136 acc_train: 0.4150 loss_val: 1.6899 acc_val: 0.3559 time: 0.0385s\n",
      "Epoch: 0047 loss_train: 1.6080 acc_train: 0.3843 loss_val: 1.6861 acc_val: 0.3208 time: 0.0450s\n",
      "Epoch: 0048 loss_train: 1.6130 acc_train: 0.3806 loss_val: 1.6701 acc_val: 0.3383 time: 0.0580s\n",
      "Epoch: 0049 loss_train: 1.5916 acc_train: 0.4176 loss_val: 1.6736 acc_val: 0.3484 time: 0.0720s\n",
      "Epoch: 0050 loss_train: 1.6040 acc_train: 0.4113 loss_val: 1.6657 acc_val: 0.3484 time: 0.0561s\n",
      "Epoch: 0051 loss_train: 1.5979 acc_train: 0.4113 loss_val: 1.6635 acc_val: 0.3810 time: 0.0445s\n",
      "Epoch: 0052 loss_train: 1.5978 acc_train: 0.4288 loss_val: 1.6659 acc_val: 0.3910 time: 0.0433s\n",
      "Epoch: 0053 loss_train: 1.5999 acc_train: 0.4307 loss_val: 1.6582 acc_val: 0.3960 time: 0.0466s\n",
      "Epoch: 0054 loss_train: 1.5820 acc_train: 0.4226 loss_val: 1.6522 acc_val: 0.3860 time: 0.0522s\n",
      "Epoch: 0055 loss_train: 1.5699 acc_train: 0.4232 loss_val: 1.6543 acc_val: 0.3509 time: 0.0398s\n",
      "Epoch: 0056 loss_train: 1.5751 acc_train: 0.4339 loss_val: 1.6466 acc_val: 0.3835 time: 0.0381s\n",
      "Epoch: 0057 loss_train: 1.5760 acc_train: 0.4251 loss_val: 1.6425 acc_val: 0.4010 time: 0.0446s\n",
      "Epoch: 0058 loss_train: 1.5761 acc_train: 0.4270 loss_val: 1.6471 acc_val: 0.4160 time: 0.0553s\n",
      "Epoch: 0059 loss_train: 1.5927 acc_train: 0.4420 loss_val: 1.6377 acc_val: 0.4085 time: 0.0459s\n",
      "Epoch: 0060 loss_train: 1.5733 acc_train: 0.4408 loss_val: 1.6357 acc_val: 0.3835 time: 0.0405s\n",
      "Epoch: 0061 loss_train: 1.5852 acc_train: 0.4288 loss_val: 1.6393 acc_val: 0.3910 time: 0.0425s\n",
      "Epoch: 0062 loss_train: 1.5739 acc_train: 0.4313 loss_val: 1.6325 acc_val: 0.3985 time: 0.0485s\n",
      "Epoch: 0063 loss_train: 1.5396 acc_train: 0.4382 loss_val: 1.6316 acc_val: 0.4110 time: 0.0620s\n",
      "Epoch: 0064 loss_train: 1.5537 acc_train: 0.4295 loss_val: 1.6281 acc_val: 0.4110 time: 0.0517s\n",
      "Epoch: 0065 loss_train: 1.5678 acc_train: 0.4439 loss_val: 1.6235 acc_val: 0.4185 time: 0.1660s\n",
      "Epoch: 0066 loss_train: 1.5570 acc_train: 0.4464 loss_val: 1.6250 acc_val: 0.4035 time: 0.0797s\n",
      "Epoch: 0067 loss_train: 1.5481 acc_train: 0.4470 loss_val: 1.6222 acc_val: 0.4160 time: 0.0614s\n",
      "Epoch: 0068 loss_train: 1.5553 acc_train: 0.4339 loss_val: 1.6186 acc_val: 0.4160 time: 0.0343s\n",
      "Epoch: 0069 loss_train: 1.5503 acc_train: 0.4545 loss_val: 1.6174 acc_val: 0.3985 time: 0.0470s\n",
      "Epoch: 0070 loss_train: 1.5466 acc_train: 0.4382 loss_val: 1.6113 acc_val: 0.4085 time: 0.0459s\n",
      "Epoch: 0071 loss_train: 1.5245 acc_train: 0.4558 loss_val: 1.6128 acc_val: 0.4035 time: 0.0499s\n",
      "Epoch: 0072 loss_train: 1.5336 acc_train: 0.4476 loss_val: 1.6069 acc_val: 0.4135 time: 0.0474s\n",
      "Epoch: 0073 loss_train: 1.5227 acc_train: 0.4533 loss_val: 1.6078 acc_val: 0.4185 time: 0.0427s\n",
      "Epoch: 0074 loss_train: 1.5400 acc_train: 0.4426 loss_val: 1.6013 acc_val: 0.4135 time: 0.0448s\n",
      "Epoch: 0075 loss_train: 1.5449 acc_train: 0.4527 loss_val: 1.6016 acc_val: 0.4010 time: 0.0541s\n",
      "Epoch: 0076 loss_train: 1.5080 acc_train: 0.4545 loss_val: 1.6023 acc_val: 0.4010 time: 0.0520s\n",
      "Epoch: 0077 loss_train: 1.5187 acc_train: 0.4545 loss_val: 1.5959 acc_val: 0.4160 time: 0.0448s\n",
      "Epoch: 0078 loss_train: 1.5223 acc_train: 0.4639 loss_val: 1.5963 acc_val: 0.4135 time: 0.0474s\n",
      "Epoch: 0079 loss_train: 1.5209 acc_train: 0.4539 loss_val: 1.5934 acc_val: 0.4135 time: 0.1216s\n",
      "Epoch: 0080 loss_train: 1.5168 acc_train: 0.4589 loss_val: 1.5898 acc_val: 0.4135 time: 0.0905s\n",
      "Epoch: 0081 loss_train: 1.5244 acc_train: 0.4464 loss_val: 1.5865 acc_val: 0.4085 time: 0.0951s\n",
      "Epoch: 0082 loss_train: 1.5217 acc_train: 0.4495 loss_val: 1.5875 acc_val: 0.4185 time: 0.0698s\n",
      "Epoch: 0083 loss_train: 1.4987 acc_train: 0.4564 loss_val: 1.5850 acc_val: 0.4185 time: 0.0494s\n",
      "Epoch: 0084 loss_train: 1.5158 acc_train: 0.4614 loss_val: 1.5808 acc_val: 0.4236 time: 0.0532s\n",
      "Epoch: 0085 loss_train: 1.4973 acc_train: 0.4583 loss_val: 1.5829 acc_val: 0.4185 time: 0.0525s\n",
      "Epoch: 0086 loss_train: 1.5097 acc_train: 0.4470 loss_val: 1.5784 acc_val: 0.4110 time: 0.0338s\n",
      "Epoch: 0087 loss_train: 1.5197 acc_train: 0.4502 loss_val: 1.5786 acc_val: 0.4211 time: 0.0421s\n"
     ]
    },
    {
     "name": "stdout",
     "output_type": "stream",
     "text": [
      "Epoch: 0088 loss_train: 1.5125 acc_train: 0.4401 loss_val: 1.5862 acc_val: 0.4185 time: 0.0454s\n",
      "Epoch: 0089 loss_train: 1.5066 acc_train: 0.4476 loss_val: 1.5795 acc_val: 0.4261 time: 0.0548s\n",
      "Epoch: 0090 loss_train: 1.5180 acc_train: 0.4495 loss_val: 1.5835 acc_val: 0.4160 time: 0.0513s\n",
      "Epoch: 0091 loss_train: 1.5003 acc_train: 0.4539 loss_val: 1.5811 acc_val: 0.4361 time: 0.0366s\n",
      "Epoch: 0092 loss_train: 1.5036 acc_train: 0.4646 loss_val: 1.5806 acc_val: 0.4336 time: 0.0377s\n",
      "Epoch: 0093 loss_train: 1.5010 acc_train: 0.4596 loss_val: 1.5793 acc_val: 0.4261 time: 0.0445s\n",
      "Epoch: 0094 loss_train: 1.5031 acc_train: 0.4508 loss_val: 1.5793 acc_val: 0.4236 time: 0.0693s\n",
      "Epoch: 0095 loss_train: 1.4976 acc_train: 0.4614 loss_val: 1.5790 acc_val: 0.4311 time: 0.0738s\n",
      "Epoch: 0096 loss_train: 1.4895 acc_train: 0.4589 loss_val: 1.5787 acc_val: 0.4211 time: 0.1244s\n",
      "Epoch: 0097 loss_train: 1.4975 acc_train: 0.4577 loss_val: 1.5794 acc_val: 0.4336 time: 0.0884s\n",
      "Epoch: 0098 loss_train: 1.4914 acc_train: 0.4633 loss_val: 1.5829 acc_val: 0.4236 time: 0.0675s\n",
      "Epoch: 0099 loss_train: 1.5040 acc_train: 0.4589 loss_val: 1.5816 acc_val: 0.4261 time: 0.0415s\n",
      "Epoch: 0100 loss_train: 1.5018 acc_train: 0.4558 loss_val: 1.5877 acc_val: 0.4060 time: 0.0464s\n",
      "Epoch: 0101 loss_train: 1.4964 acc_train: 0.4589 loss_val: 1.5839 acc_val: 0.4160 time: 0.0574s\n",
      "Epoch: 0102 loss_train: 1.5140 acc_train: 0.4458 loss_val: 1.5844 acc_val: 0.4286 time: 0.0419s\n",
      "Epoch: 0103 loss_train: 1.4926 acc_train: 0.4627 loss_val: 1.5905 acc_val: 0.4236 time: 0.0437s\n",
      "Epoch: 0104 loss_train: 1.4919 acc_train: 0.4696 loss_val: 1.5835 acc_val: 0.4185 time: 0.0421s\n",
      "Epoch: 0105 loss_train: 1.4935 acc_train: 0.4646 loss_val: 1.5922 acc_val: 0.4035 time: 0.0473s\n",
      "Epoch: 0106 loss_train: 1.5056 acc_train: 0.4527 loss_val: 1.5913 acc_val: 0.4085 time: 0.0735s\n",
      "Epoch: 0107 loss_train: 1.4878 acc_train: 0.4514 loss_val: 1.5911 acc_val: 0.4160 time: 0.0489s\n",
      "Epoch: 0108 loss_train: 1.4918 acc_train: 0.4614 loss_val: 1.5964 acc_val: 0.4085 time: 0.0377s\n",
      "Epoch: 0109 loss_train: 1.4933 acc_train: 0.4721 loss_val: 1.5845 acc_val: 0.4185 time: 0.0697s\n",
      "Epoch: 0110 loss_train: 1.4810 acc_train: 0.4683 loss_val: 1.5920 acc_val: 0.4110 time: 0.1178s\n",
      "Epoch: 0111 loss_train: 1.4834 acc_train: 0.4533 loss_val: 1.5909 acc_val: 0.4135 time: 0.0720s\n",
      "Epoch: 0112 loss_train: 1.4866 acc_train: 0.4533 loss_val: 1.5829 acc_val: 0.4236 time: 0.0792s\n",
      "Epoch: 0113 loss_train: 1.4923 acc_train: 0.4527 loss_val: 1.5907 acc_val: 0.4185 time: 0.0643s\n",
      "Epoch: 0114 loss_train: 1.5135 acc_train: 0.4577 loss_val: 1.5795 acc_val: 0.4311 time: 0.0625s\n",
      "Epoch: 0115 loss_train: 1.4840 acc_train: 0.4639 loss_val: 1.5809 acc_val: 0.4135 time: 0.0449s\n",
      "Epoch: 0116 loss_train: 1.4850 acc_train: 0.4602 loss_val: 1.5817 acc_val: 0.4236 time: 0.0544s\n",
      "Epoch: 0117 loss_train: 1.4966 acc_train: 0.4564 loss_val: 1.5768 acc_val: 0.4211 time: 0.0451s\n",
      "Epoch: 0118 loss_train: 1.4841 acc_train: 0.4696 loss_val: 1.5786 acc_val: 0.4261 time: 0.0400s\n",
      "Epoch: 0119 loss_train: 1.4935 acc_train: 0.4627 loss_val: 1.5744 acc_val: 0.4236 time: 0.0476s\n",
      "Epoch: 0120 loss_train: 1.4696 acc_train: 0.4627 loss_val: 1.5773 acc_val: 0.4211 time: 0.0530s\n",
      "Epoch: 0121 loss_train: 1.4944 acc_train: 0.4633 loss_val: 1.5829 acc_val: 0.4185 time: 0.0466s\n",
      "Epoch: 0122 loss_train: 1.4795 acc_train: 0.4671 loss_val: 1.5835 acc_val: 0.4185 time: 0.0418s\n",
      "Epoch: 0123 loss_train: 1.4931 acc_train: 0.4646 loss_val: 1.5773 acc_val: 0.4085 time: 0.0421s\n",
      "Epoch: 0124 loss_train: 1.4797 acc_train: 0.4759 loss_val: 1.5773 acc_val: 0.4261 time: 0.0429s\n",
      "Epoch: 0125 loss_train: 1.4799 acc_train: 0.4621 loss_val: 1.5786 acc_val: 0.4236 time: 0.0549s\n",
      "Epoch: 0126 loss_train: 1.4870 acc_train: 0.4533 loss_val: 1.5834 acc_val: 0.4185 time: 0.0514s\n",
      "Epoch: 0127 loss_train: 1.4826 acc_train: 0.4696 loss_val: 1.5817 acc_val: 0.4110 time: 0.0418s\n",
      "Epoch: 0128 loss_train: 1.4708 acc_train: 0.4633 loss_val: 1.5829 acc_val: 0.4110 time: 0.0403s\n",
      "Epoch: 0129 loss_train: 1.4849 acc_train: 0.4577 loss_val: 1.5817 acc_val: 0.4336 time: 0.0484s\n",
      "Epoch: 0130 loss_train: 1.4676 acc_train: 0.4639 loss_val: 1.5894 acc_val: 0.4085 time: 0.0569s\n",
      "Epoch: 0131 loss_train: 1.4781 acc_train: 0.4690 loss_val: 1.5846 acc_val: 0.4236 time: 0.0460s\n",
      "Epoch: 0132 loss_train: 1.4667 acc_train: 0.4690 loss_val: 1.5840 acc_val: 0.4135 time: 0.0644s\n",
      "Epoch: 0133 loss_train: 1.4726 acc_train: 0.4614 loss_val: 1.5835 acc_val: 0.4236 time: 0.1302s\n",
      "Epoch: 0134 loss_train: 1.4755 acc_train: 0.4577 loss_val: 1.5833 acc_val: 0.4211 time: 0.1045s\n",
      "Epoch: 0135 loss_train: 1.4832 acc_train: 0.4658 loss_val: 1.5881 acc_val: 0.4236 time: 0.0779s\n",
      "Epoch: 0136 loss_train: 1.4810 acc_train: 0.4577 loss_val: 1.5832 acc_val: 0.4336 time: 0.1487s\n",
      "Epoch: 0137 loss_train: 1.4806 acc_train: 0.4564 loss_val: 1.5843 acc_val: 0.4160 time: 0.0744s\n",
      "Epoch: 0138 loss_train: 1.4802 acc_train: 0.4683 loss_val: 1.5820 acc_val: 0.4236 time: 0.0990s\n",
      "Epoch: 0139 loss_train: 1.4702 acc_train: 0.4608 loss_val: 1.5785 acc_val: 0.4261 time: 0.1815s\n",
      "Epoch: 0140 loss_train: 1.4824 acc_train: 0.4583 loss_val: 1.5841 acc_val: 0.4185 time: 0.1171s\n",
      "Epoch: 0141 loss_train: 1.4763 acc_train: 0.4589 loss_val: 1.5897 acc_val: 0.4060 time: 0.1085s\n",
      "Epoch: 0142 loss_train: 1.4815 acc_train: 0.4671 loss_val: 1.5808 acc_val: 0.4160 time: 0.0767s\n",
      "Epoch: 0143 loss_train: 1.4735 acc_train: 0.4652 loss_val: 1.5790 acc_val: 0.4261 time: 0.0645s\n",
      "Epoch: 0144 loss_train: 1.4745 acc_train: 0.4683 loss_val: 1.5789 acc_val: 0.4336 time: 0.0483s\n",
      "Epoch: 0145 loss_train: 1.4711 acc_train: 0.4671 loss_val: 1.5790 acc_val: 0.4185 time: 0.0812s\n",
      "Epoch: 0146 loss_train: 1.4653 acc_train: 0.4727 loss_val: 1.5782 acc_val: 0.4211 time: 0.0628s\n",
      "Epoch: 0147 loss_train: 1.4585 acc_train: 0.4696 loss_val: 1.5806 acc_val: 0.4211 time: 0.0534s\n",
      "Epoch: 0148 loss_train: 1.4734 acc_train: 0.4627 loss_val: 1.5791 acc_val: 0.4286 time: 0.0423s\n",
      "Epoch: 0149 loss_train: 1.4581 acc_train: 0.4608 loss_val: 1.5807 acc_val: 0.4236 time: 0.0450s\n",
      "Epoch: 0150 loss_train: 1.4707 acc_train: 0.4671 loss_val: 1.5821 acc_val: 0.4236 time: 0.0511s\n"
     ]
    },
    {
     "data": {
      "image/png": "[encoded data removed]",
      "text/plain": [
       "<Figure size 432x576 with 2 Axes>"
      ]
     },
     "metadata": {
      "needs_background": "light"
     },
     "output_type": "display_data"
    },
    {
     "name": "stdout",
     "output_type": "stream",
     "text": [
      "Total time elapsed: 9.8197s\n"
     ]
    }
   ],
   "source": [
    "# Train model\n",
    "t_total = time.time()\n",
    "train_accuracies, train_losses = [], []\n",
    "val_accuracies, val_losses = [], []\n",
    "\n",
    "for t in range(num_epochs):\n",
    "    train_loss, train_acc, val_loss, val_acc = train_gcn(X_gcn,t)\n",
    "    train_losses.append(train_loss)\n",
    "    train_accuracies.append(train_acc)\n",
    "    val_losses.append(val_loss)\n",
    "    val_accuracies.append(val_acc)\n",
    "    \n",
    "fig, axs = plt.subplots(2,1, figsize=(6,8))\n",
    "axs[0].plot(train_losses[::5], label=\"train\")\n",
    "axs[0].plot(val_losses[::5], label=\"validation\")\n",
    "axs[0].set_title('Loss')\n",
    "axs[0].legend(loc='best')\n",
    "\n",
    "axs[1].plot(train_accuracies[::5], label='train')\n",
    "axs[1].plot(val_accuracies[::5], label='validation')\n",
    "axs[1].set_ylim(0, 1.1)\n",
    "axs[1].set_ylabel(\"accuracy\")\n",
    "axs[1].legend(loc='best')\n",
    "plt.show()\n",
    "print(\"Total time elapsed: {:.4f}s\".format(time.time() - t_total))"
   ]
  },
  {
   "cell_type": "markdown",
   "metadata": {},
   "source": [
    "## training a ConvLSTM model and using its features"
   ]
  },
  {
   "cell_type": "code",
   "execution_count": 291,
   "metadata": {},
   "outputs": [],
   "source": [
    "class ConvLSTM(nn.Module):\n",
    "    \"\"\"\n",
    "    - conv1d - relu - maxpooling\n",
    "    - conv1d - relu - maxpooling\n",
    "    - lstm\n",
    "    - fully connected\n",
    "    \"\"\"\n",
    "    def __init__(self, vocab_size, emb_dim, n_classes):\n",
    "        super(ConvLSTM, self).__init__()\n",
    "        self.embedding = nn.Embedding(vocab_size, emb_dim)\n",
    "        self.conv1 = nn.Conv1d(emb_dim, emb_dim, 5)\n",
    "        self.conv2 = nn.Conv1d(emb_dim, emb_dim, 5)\n",
    "        self.lstm = nn.LSTM(emb_dim, emb_dim)\n",
    "        self.fc = nn.Linear(emb_dim, n_classes)\n",
    "        # TODO\n",
    "    \n",
    "    def forward(self, x):\n",
    "        # TODO\n",
    "        x = self.embedding(x)\n",
    "        x = x.transpose(1,2)\n",
    "        x = self.conv1(x)\n",
    "        x = F.relu(x)\n",
    "        x = F.max_pool1d(x, kernel_size=5)\n",
    "        x = self.conv2(x)\n",
    "        x = F.relu(x)\n",
    "        x = F.max_pool1d(x, kernel_size=5) # batch_size x emb_dim x len\n",
    "        x = x.transpose(0,1) #  emb_dim x batch_size x len\n",
    "        x = x.transpose(0,2)\n",
    "        x, _ = self.lstm(x)\n",
    "        x = x[-1]\n",
    "        x = self.fc(x)\n",
    "        return F.log_softmax(x, -1)\n",
    "    \n",
    "    def get_layer(self, x):\n",
    "        x = self.embedding(x)\n",
    "        x = x.transpose(1,2)\n",
    "        x = self.conv1(x)\n",
    "        x = F.relu(x)\n",
    "        x = F.max_pool1d(x, kernel_size=5)\n",
    "        x = self.conv2(x)\n",
    "        x = F.relu(x)\n",
    "        x = F.max_pool1d(x, kernel_size=5) # batch_size x emb_dim x len\n",
    "        x = x.transpose(0,1) #  emb_dim x batch_size x len\n",
    "        x = x.transpose(0,2)\n",
    "        x, _ = self.lstm(x)\n",
    "        x = x[-1]\n",
    "        return x"
   ]
  },
  {
   "cell_type": "code",
   "execution_count": 292,
   "metadata": {},
   "outputs": [],
   "source": [
    "model = ConvLSTM(vocab_size, 50, n_classes)\n",
    "if cuda:\n",
    "    model = model.cuda()\n",
    "loss = nn.CrossEntropyLoss()\n",
    "optimizer = torch.optim.Adam(model.parameters())"
   ]
  },
  {
   "cell_type": "code",
   "execution_count": 293,
   "metadata": {},
   "outputs": [
    {
     "name": "stdout",
     "output_type": "stream",
     "text": [
      "epoch 1 - loss = 1.8 - train_acc = 0.3 - test_acc = 0.24\n",
      "epoch 2 - loss = 1.8 - train_acc = 0.29 - test_acc = 0.28\n",
      "epoch 3 - loss = 1.7 - train_acc = 0.31 - test_acc = 0.26\n",
      "epoch 4 - loss = 1.7 - train_acc = 0.33 - test_acc = 0.28\n",
      "epoch 5 - loss = 1.6 - train_acc = 0.39 - test_acc = 0.28\n"
     ]
    },
    {
     "data": {
      "image/png": "[encoded data removed]",
      "text/plain": [
       "<Figure size 432x576 with 2 Axes>"
      ]
     },
     "metadata": {
      "needs_background": "light"
     },
     "output_type": "display_data"
    }
   ],
   "source": [
    "train_ann(model, loss, optimizer, num_epochs=5)"
   ]
  },
  {
   "cell_type": "code",
   "execution_count": 294,
   "metadata": {},
   "outputs": [
    {
     "name": "stdout",
     "output_type": "stream",
     "text": [
      "got all file sequences, now converting to indexes on vocabulary...\n"
     ]
    }
   ],
   "source": [
    "model.eval()\n",
    "X_seq = get_data_seq()\n",
    "\n",
    "conv_feats = torch.nn.utils.rnn.pad_sequence([torch.Tensor(s).long() for s in X_seq],\n",
    "                                               batch_first=True)[:,:MAX_SEQUENCE_LENGTH]\n",
    "\n",
    "conv_feats = model.get_layer(conv_feats)"
   ]
  },
  {
   "cell_type": "code",
   "execution_count": 295,
   "metadata": {},
   "outputs": [
    {
     "data": {
      "text/plain": [
       "torch.Size([2554, 50])"
      ]
     },
     "execution_count": 295,
     "metadata": {},
     "output_type": "execute_result"
    }
   ],
   "source": [
    "conv_feats.shape"
   ]
  },
  {
   "cell_type": "code",
   "execution_count": 296,
   "metadata": {},
   "outputs": [],
   "source": [
    "n_samples = A_tilde.shape[1]\n",
    "n_features = conv_feats.shape[1]\n",
    "\n",
    "X_conv = np.zeros((n_samples,n_features))\n",
    "X_conv[:conv_feats.shape[0]] = conv_feats.detach().numpy()\n",
    "X_conv = sp.csr_matrix(X_conv, dtype=np.float32)\n",
    "X_conv = torch.FloatTensor(np.array(X_conv.todense()))"
   ]
  },
  {
   "cell_type": "code",
   "execution_count": 297,
   "metadata": {},
   "outputs": [],
   "source": [
    "# Model and optimizer\n",
    "model = GCN(nfeat=X_conv.shape[1],\n",
    "            nhid=hidden,\n",
    "            nclass=y.max().item() + 1,\n",
    "            dropout=dropout)\n",
    "optimizer = optim.Adam(model.parameters(),\n",
    "                       lr=lr, weight_decay=weight_decay)"
   ]
  },
  {
   "cell_type": "code",
   "execution_count": null,
   "metadata": {},
   "outputs": [],
   "source": [
    "if cuda:\n",
    "    model.cuda()\n",
    "    X_conv = X_conv.cuda()\n",
    "    A_tilde = A_tilde.cuda()\n",
    "    y = y.cuda()"
   ]
  },
  {
   "cell_type": "code",
   "execution_count": 299,
   "metadata": {
    "scrolled": true
   },
   "outputs": [
    {
     "name": "stdout",
     "output_type": "stream",
     "text": [
      "Epoch: 0001 loss_train: 2.1470 acc_train: 0.0752 loss_val: 2.0610 acc_val: 0.1579 time: 0.0532s\n",
      "Epoch: 0002 loss_train: 2.0754 acc_train: 0.1141 loss_val: 2.0282 acc_val: 0.1554 time: 0.0749s\n",
      "Epoch: 0003 loss_train: 2.0403 acc_train: 0.1260 loss_val: 1.9984 acc_val: 0.1629 time: 0.0587s\n",
      "Epoch: 0004 loss_train: 2.0074 acc_train: 0.1367 loss_val: 1.9632 acc_val: 0.1729 time: 0.0429s\n",
      "Epoch: 0005 loss_train: 1.9682 acc_train: 0.1856 loss_val: 1.9222 acc_val: 0.2506 time: 0.0474s\n",
      "Epoch: 0006 loss_train: 1.9378 acc_train: 0.2082 loss_val: 1.8772 acc_val: 0.2381 time: 0.0450s\n",
      "Epoch: 0007 loss_train: 1.8929 acc_train: 0.2752 loss_val: 1.8338 acc_val: 0.2381 time: 0.0500s\n",
      "Epoch: 0008 loss_train: 1.8386 acc_train: 0.3147 loss_val: 1.8054 acc_val: 0.2381 time: 0.0430s\n",
      "Epoch: 0009 loss_train: 1.8075 acc_train: 0.2903 loss_val: 1.8102 acc_val: 0.2381 time: 0.0314s\n",
      "Epoch: 0010 loss_train: 1.8149 acc_train: 0.2834 loss_val: 1.8353 acc_val: 0.2381 time: 0.0376s\n",
      "Epoch: 0011 loss_train: 1.8393 acc_train: 0.2890 loss_val: 1.8457 acc_val: 0.2381 time: 0.0438s\n",
      "Epoch: 0012 loss_train: 1.8475 acc_train: 0.2984 loss_val: 1.8349 acc_val: 0.2381 time: 0.0530s\n",
      "Epoch: 0013 loss_train: 1.8297 acc_train: 0.2991 loss_val: 1.8174 acc_val: 0.2381 time: 0.0500s\n",
      "Epoch: 0014 loss_train: 1.7993 acc_train: 0.2959 loss_val: 1.8037 acc_val: 0.2381 time: 0.0368s\n",
      "Epoch: 0015 loss_train: 1.7780 acc_train: 0.3141 loss_val: 1.7990 acc_val: 0.2381 time: 0.0423s\n",
      "Epoch: 0016 loss_train: 1.7708 acc_train: 0.3091 loss_val: 1.7995 acc_val: 0.2406 time: 0.0431s\n",
      "Epoch: 0017 loss_train: 1.7850 acc_train: 0.3022 loss_val: 1.8020 acc_val: 0.2431 time: 0.0484s\n",
      "Epoch: 0018 loss_train: 1.7814 acc_train: 0.2997 loss_val: 1.8041 acc_val: 0.2481 time: 0.0360s\n",
      "Epoch: 0019 loss_train: 1.7777 acc_train: 0.2997 loss_val: 1.8042 acc_val: 0.2481 time: 0.0323s\n",
      "Epoch: 0020 loss_train: 1.7938 acc_train: 0.3028 loss_val: 1.8020 acc_val: 0.2481 time: 0.0365s\n",
      "Epoch: 0021 loss_train: 1.7780 acc_train: 0.3172 loss_val: 1.7986 acc_val: 0.2506 time: 0.0466s\n",
      "Epoch: 0022 loss_train: 1.7889 acc_train: 0.3091 loss_val: 1.7941 acc_val: 0.2506 time: 0.0509s\n",
      "Epoch: 0023 loss_train: 1.7954 acc_train: 0.2915 loss_val: 1.7893 acc_val: 0.2506 time: 0.0455s\n",
      "Epoch: 0024 loss_train: 1.7644 acc_train: 0.3147 loss_val: 1.7851 acc_val: 0.2506 time: 0.0572s\n",
      "Epoch: 0025 loss_train: 1.7615 acc_train: 0.3129 loss_val: 1.7825 acc_val: 0.2506 time: 0.0374s\n",
      "Epoch: 0026 loss_train: 1.7485 acc_train: 0.3110 loss_val: 1.7815 acc_val: 0.2506 time: 0.0413s\n",
      "Epoch: 0027 loss_train: 1.7729 acc_train: 0.3072 loss_val: 1.7812 acc_val: 0.2506 time: 0.0633s\n",
      "Epoch: 0028 loss_train: 1.7656 acc_train: 0.3110 loss_val: 1.7814 acc_val: 0.2531 time: 0.0826s\n",
      "Epoch: 0029 loss_train: 1.7643 acc_train: 0.3141 loss_val: 1.7810 acc_val: 0.2531 time: 0.0467s\n",
      "Epoch: 0030 loss_train: 1.7685 acc_train: 0.3141 loss_val: 1.7802 acc_val: 0.2531 time: 0.0406s\n",
      "Epoch: 0031 loss_train: 1.7576 acc_train: 0.3066 loss_val: 1.7794 acc_val: 0.2531 time: 0.0408s\n",
      "Epoch: 0032 loss_train: 1.7834 acc_train: 0.2796 loss_val: 1.7787 acc_val: 0.2531 time: 0.0330s\n",
      "Epoch: 0033 loss_train: 1.7673 acc_train: 0.3103 loss_val: 1.7783 acc_val: 0.2531 time: 0.0348s\n",
      "Epoch: 0034 loss_train: 1.7593 acc_train: 0.3060 loss_val: 1.7779 acc_val: 0.2531 time: 0.0680s\n",
      "Epoch: 0035 loss_train: 1.7560 acc_train: 0.3241 loss_val: 1.7778 acc_val: 0.2506 time: 0.1073s\n",
      "Epoch: 0036 loss_train: 1.7478 acc_train: 0.3066 loss_val: 1.7779 acc_val: 0.2531 time: 0.0758s\n",
      "Epoch: 0037 loss_train: 1.7507 acc_train: 0.3204 loss_val: 1.7778 acc_val: 0.2556 time: 0.0566s\n",
      "Epoch: 0038 loss_train: 1.7474 acc_train: 0.3223 loss_val: 1.7776 acc_val: 0.2581 time: 0.0406s\n",
      "Epoch: 0039 loss_train: 1.7567 acc_train: 0.3141 loss_val: 1.7771 acc_val: 0.2607 time: 0.0488s\n",
      "Epoch: 0040 loss_train: 1.7500 acc_train: 0.3166 loss_val: 1.7765 acc_val: 0.2607 time: 0.0379s\n",
      "Epoch: 0041 loss_train: 1.7407 acc_train: 0.3323 loss_val: 1.7754 acc_val: 0.2682 time: 0.0376s\n",
      "Epoch: 0042 loss_train: 1.7528 acc_train: 0.3223 loss_val: 1.7745 acc_val: 0.2732 time: 0.0411s\n",
      "Epoch: 0043 loss_train: 1.7471 acc_train: 0.3141 loss_val: 1.7751 acc_val: 0.2882 time: 0.0437s\n",
      "Epoch: 0044 loss_train: 1.7542 acc_train: 0.3241 loss_val: 1.7729 acc_val: 0.2707 time: 0.0474s\n",
      "Epoch: 0045 loss_train: 1.7433 acc_train: 0.3248 loss_val: 1.7703 acc_val: 0.2682 time: 0.0708s\n",
      "Epoch: 0046 loss_train: 1.7346 acc_train: 0.3348 loss_val: 1.7685 acc_val: 0.2632 time: 0.0408s\n",
      "Epoch: 0047 loss_train: 1.7308 acc_train: 0.3354 loss_val: 1.7678 acc_val: 0.2632 time: 0.0355s\n",
      "Epoch: 0048 loss_train: 1.7348 acc_train: 0.3404 loss_val: 1.7674 acc_val: 0.2632 time: 0.0381s\n",
      "Epoch: 0049 loss_train: 1.7416 acc_train: 0.3129 loss_val: 1.7664 acc_val: 0.2682 time: 0.0405s\n",
      "Epoch: 0050 loss_train: 1.7390 acc_train: 0.3367 loss_val: 1.7647 acc_val: 0.2707 time: 0.0430s\n",
      "Epoch: 0051 loss_train: 1.7325 acc_train: 0.3310 loss_val: 1.7619 acc_val: 0.2907 time: 0.0565s\n",
      "Epoch: 0052 loss_train: 1.7285 acc_train: 0.3511 loss_val: 1.7601 acc_val: 0.3158 time: 0.0826s\n",
      "Epoch: 0053 loss_train: 1.7293 acc_train: 0.3461 loss_val: 1.7591 acc_val: 0.3183 time: 0.0568s\n",
      "Epoch: 0054 loss_train: 1.7364 acc_train: 0.3379 loss_val: 1.7580 acc_val: 0.3233 time: 0.0599s\n",
      "Epoch: 0055 loss_train: 1.7140 acc_train: 0.3467 loss_val: 1.7553 acc_val: 0.3258 time: 0.0372s\n",
      "Epoch: 0056 loss_train: 1.7226 acc_train: 0.3379 loss_val: 1.7528 acc_val: 0.3208 time: 0.0404s\n",
      "Epoch: 0057 loss_train: 1.7187 acc_train: 0.3436 loss_val: 1.7517 acc_val: 0.3233 time: 0.0334s\n",
      "Epoch: 0058 loss_train: 1.7156 acc_train: 0.3348 loss_val: 1.7519 acc_val: 0.3208 time: 0.0401s\n",
      "Epoch: 0059 loss_train: 1.7183 acc_train: 0.3480 loss_val: 1.7510 acc_val: 0.3208 time: 0.0474s\n",
      "Epoch: 0060 loss_train: 1.6976 acc_train: 0.3624 loss_val: 1.7485 acc_val: 0.3208 time: 0.0604s\n",
      "Epoch: 0061 loss_train: 1.7156 acc_train: 0.3580 loss_val: 1.7448 acc_val: 0.3233 time: 0.0425s\n",
      "Epoch: 0062 loss_train: 1.7151 acc_train: 0.3661 loss_val: 1.7431 acc_val: 0.3208 time: 0.0388s\n",
      "Epoch: 0063 loss_train: 1.6922 acc_train: 0.3580 loss_val: 1.7417 acc_val: 0.3283 time: 0.0449s\n",
      "Epoch: 0064 loss_train: 1.7111 acc_train: 0.3542 loss_val: 1.7417 acc_val: 0.3183 time: 0.0616s\n",
      "Epoch: 0065 loss_train: 1.6988 acc_train: 0.3561 loss_val: 1.7425 acc_val: 0.3183 time: 0.0581s\n",
      "Epoch: 0066 loss_train: 1.6975 acc_train: 0.3636 loss_val: 1.7419 acc_val: 0.3183 time: 0.0428s\n",
      "Epoch: 0067 loss_train: 1.7099 acc_train: 0.3536 loss_val: 1.7417 acc_val: 0.3183 time: 0.0385s\n",
      "Epoch: 0068 loss_train: 1.6845 acc_train: 0.3687 loss_val: 1.7411 acc_val: 0.3283 time: 0.0533s\n",
      "Epoch: 0069 loss_train: 1.7001 acc_train: 0.3661 loss_val: 1.7412 acc_val: 0.3258 time: 0.0670s\n",
      "Epoch: 0070 loss_train: 1.6852 acc_train: 0.3649 loss_val: 1.7393 acc_val: 0.3258 time: 0.0616s\n",
      "Epoch: 0071 loss_train: 1.6904 acc_train: 0.3643 loss_val: 1.7369 acc_val: 0.3308 time: 0.0712s\n",
      "Epoch: 0072 loss_train: 1.7042 acc_train: 0.3649 loss_val: 1.7349 acc_val: 0.3258 time: 0.0686s\n",
      "Epoch: 0073 loss_train: 1.6934 acc_train: 0.3649 loss_val: 1.7333 acc_val: 0.3233 time: 0.0589s\n",
      "Epoch: 0074 loss_train: 1.6820 acc_train: 0.3730 loss_val: 1.7328 acc_val: 0.3208 time: 0.0342s\n",
      "Epoch: 0075 loss_train: 1.6791 acc_train: 0.3712 loss_val: 1.7322 acc_val: 0.3233 time: 0.0370s\n",
      "Epoch: 0076 loss_train: 1.6938 acc_train: 0.3680 loss_val: 1.7346 acc_val: 0.3283 time: 0.0449s\n",
      "Epoch: 0077 loss_train: 1.6889 acc_train: 0.3630 loss_val: 1.7374 acc_val: 0.3158 time: 0.0417s\n",
      "Epoch: 0078 loss_train: 1.6820 acc_train: 0.3655 loss_val: 1.7409 acc_val: 0.3158 time: 0.0309s\n",
      "Epoch: 0079 loss_train: 1.6894 acc_train: 0.3699 loss_val: 1.7336 acc_val: 0.3358 time: 0.0312s\n",
      "Epoch: 0080 loss_train: 1.6754 acc_train: 0.3755 loss_val: 1.7283 acc_val: 0.3283 time: 0.0315s\n",
      "Epoch: 0081 loss_train: 1.6869 acc_train: 0.3705 loss_val: 1.7268 acc_val: 0.3233 time: 0.0463s\n",
      "Epoch: 0082 loss_train: 1.7009 acc_train: 0.3549 loss_val: 1.7278 acc_val: 0.3308 time: 0.0473s\n",
      "Epoch: 0083 loss_train: 1.6645 acc_train: 0.3749 loss_val: 1.7311 acc_val: 0.3258 time: 0.0322s\n",
      "Epoch: 0084 loss_train: 1.6599 acc_train: 0.3793 loss_val: 1.7347 acc_val: 0.3158 time: 0.0441s\n",
      "Epoch: 0085 loss_train: 1.6805 acc_train: 0.3718 loss_val: 1.7383 acc_val: 0.3183 time: 0.0353s\n",
      "Epoch: 0086 loss_train: 1.6904 acc_train: 0.3680 loss_val: 1.7412 acc_val: 0.3258 time: 0.0356s\n"
     ]
    },
    {
     "name": "stdout",
     "output_type": "stream",
     "text": [
      "Epoch: 0087 loss_train: 1.6818 acc_train: 0.3893 loss_val: 1.7365 acc_val: 0.3233 time: 0.0481s\n",
      "Epoch: 0088 loss_train: 1.6835 acc_train: 0.3774 loss_val: 1.7352 acc_val: 0.3183 time: 0.0477s\n",
      "Epoch: 0089 loss_train: 1.6636 acc_train: 0.3837 loss_val: 1.7331 acc_val: 0.3158 time: 0.0653s\n",
      "Epoch: 0090 loss_train: 1.6719 acc_train: 0.3818 loss_val: 1.7306 acc_val: 0.3208 time: 0.0627s\n",
      "Epoch: 0091 loss_train: 1.6783 acc_train: 0.3824 loss_val: 1.7298 acc_val: 0.3183 time: 0.1035s\n",
      "Epoch: 0092 loss_train: 1.6655 acc_train: 0.3762 loss_val: 1.7305 acc_val: 0.3233 time: 0.0533s\n",
      "Epoch: 0093 loss_train: 1.6785 acc_train: 0.3724 loss_val: 1.7309 acc_val: 0.3108 time: 0.0437s\n",
      "Epoch: 0094 loss_train: 1.6624 acc_train: 0.3705 loss_val: 1.7303 acc_val: 0.3108 time: 0.0392s\n",
      "Epoch: 0095 loss_train: 1.6789 acc_train: 0.3630 loss_val: 1.7271 acc_val: 0.3133 time: 0.0376s\n",
      "Epoch: 0096 loss_train: 1.6732 acc_train: 0.3781 loss_val: 1.7244 acc_val: 0.3108 time: 0.0451s\n",
      "Epoch: 0097 loss_train: 1.6728 acc_train: 0.3712 loss_val: 1.7216 acc_val: 0.3158 time: 0.0607s\n",
      "Epoch: 0098 loss_train: 1.6760 acc_train: 0.3618 loss_val: 1.7199 acc_val: 0.3183 time: 0.0617s\n",
      "Epoch: 0099 loss_train: 1.6698 acc_train: 0.3712 loss_val: 1.7204 acc_val: 0.3133 time: 0.0585s\n",
      "Epoch: 0100 loss_train: 1.6552 acc_train: 0.3699 loss_val: 1.7219 acc_val: 0.3183 time: 0.0662s\n",
      "Epoch: 0101 loss_train: 1.6547 acc_train: 0.3693 loss_val: 1.7226 acc_val: 0.3158 time: 0.0882s\n",
      "Epoch: 0102 loss_train: 1.6667 acc_train: 0.3705 loss_val: 1.7192 acc_val: 0.3183 time: 0.0723s\n",
      "Epoch: 0103 loss_train: 1.6687 acc_train: 0.3743 loss_val: 1.7191 acc_val: 0.3208 time: 0.0512s\n",
      "Epoch: 0104 loss_train: 1.6685 acc_train: 0.3737 loss_val: 1.7170 acc_val: 0.3183 time: 0.0541s\n",
      "Epoch: 0105 loss_train: 1.6637 acc_train: 0.3818 loss_val: 1.7188 acc_val: 0.3208 time: 0.0634s\n",
      "Epoch: 0106 loss_train: 1.6615 acc_train: 0.3762 loss_val: 1.7237 acc_val: 0.3183 time: 0.0437s\n",
      "Epoch: 0107 loss_train: 1.6712 acc_train: 0.3737 loss_val: 1.7259 acc_val: 0.3208 time: 0.0318s\n",
      "Epoch: 0108 loss_train: 1.6652 acc_train: 0.3762 loss_val: 1.7273 acc_val: 0.3208 time: 0.0485s\n",
      "Epoch: 0109 loss_train: 1.6511 acc_train: 0.3762 loss_val: 1.7273 acc_val: 0.3233 time: 0.0407s\n",
      "Epoch: 0110 loss_train: 1.6596 acc_train: 0.3730 loss_val: 1.7279 acc_val: 0.3283 time: 0.0383s\n",
      "Epoch: 0111 loss_train: 1.6586 acc_train: 0.3812 loss_val: 1.7266 acc_val: 0.3333 time: 0.0610s\n",
      "Epoch: 0112 loss_train: 1.6685 acc_train: 0.3693 loss_val: 1.7187 acc_val: 0.3258 time: 0.0555s\n",
      "Epoch: 0113 loss_train: 1.6599 acc_train: 0.3743 loss_val: 1.7139 acc_val: 0.3358 time: 0.0434s\n",
      "Epoch: 0114 loss_train: 1.6667 acc_train: 0.3818 loss_val: 1.7096 acc_val: 0.3659 time: 0.0515s\n",
      "Epoch: 0115 loss_train: 1.6659 acc_train: 0.3799 loss_val: 1.7092 acc_val: 0.3509 time: 0.0350s\n",
      "Epoch: 0116 loss_train: 1.6456 acc_train: 0.3912 loss_val: 1.7085 acc_val: 0.3333 time: 0.0377s\n",
      "Epoch: 0117 loss_train: 1.6521 acc_train: 0.3843 loss_val: 1.7091 acc_val: 0.3258 time: 0.0383s\n",
      "Epoch: 0118 loss_train: 1.6540 acc_train: 0.3906 loss_val: 1.7131 acc_val: 0.3258 time: 0.0352s\n",
      "Epoch: 0119 loss_train: 1.6423 acc_train: 0.3831 loss_val: 1.7236 acc_val: 0.3233 time: 0.0471s\n",
      "Epoch: 0120 loss_train: 1.6605 acc_train: 0.3799 loss_val: 1.7269 acc_val: 0.3208 time: 0.0622s\n",
      "Epoch: 0121 loss_train: 1.6591 acc_train: 0.3755 loss_val: 1.7134 acc_val: 0.3283 time: 0.0437s\n",
      "Epoch: 0122 loss_train: 1.6543 acc_train: 0.3818 loss_val: 1.7070 acc_val: 0.3634 time: 0.0413s\n",
      "Epoch: 0123 loss_train: 1.6540 acc_train: 0.3843 loss_val: 1.7068 acc_val: 0.3709 time: 0.0383s\n",
      "Epoch: 0124 loss_train: 1.6483 acc_train: 0.3799 loss_val: 1.7086 acc_val: 0.3709 time: 0.0434s\n",
      "Epoch: 0125 loss_train: 1.6455 acc_train: 0.3981 loss_val: 1.7125 acc_val: 0.3358 time: 0.0574s\n",
      "Epoch: 0126 loss_train: 1.6683 acc_train: 0.3837 loss_val: 1.7123 acc_val: 0.3383 time: 0.1150s\n",
      "Epoch: 0127 loss_train: 1.6658 acc_train: 0.3762 loss_val: 1.7085 acc_val: 0.3333 time: 0.1936s\n",
      "Epoch: 0128 loss_train: 1.6420 acc_train: 0.3818 loss_val: 1.7046 acc_val: 0.3409 time: 0.1100s\n",
      "Epoch: 0129 loss_train: 1.6536 acc_train: 0.3912 loss_val: 1.7044 acc_val: 0.3308 time: 0.1040s\n",
      "Epoch: 0130 loss_train: 1.6360 acc_train: 0.3868 loss_val: 1.7059 acc_val: 0.3358 time: 0.0953s\n",
      "Epoch: 0131 loss_train: 1.6553 acc_train: 0.3787 loss_val: 1.7101 acc_val: 0.3584 time: 0.0817s\n",
      "Epoch: 0132 loss_train: 1.6514 acc_train: 0.3875 loss_val: 1.7069 acc_val: 0.3434 time: 0.0814s\n",
      "Epoch: 0133 loss_train: 1.6508 acc_train: 0.3749 loss_val: 1.7083 acc_val: 0.3333 time: 0.1053s\n",
      "Epoch: 0134 loss_train: 1.6441 acc_train: 0.3906 loss_val: 1.7068 acc_val: 0.3258 time: 0.0956s\n",
      "Epoch: 0135 loss_train: 1.6472 acc_train: 0.3931 loss_val: 1.7052 acc_val: 0.3233 time: 0.0490s\n",
      "Epoch: 0136 loss_train: 1.6427 acc_train: 0.3950 loss_val: 1.7033 acc_val: 0.3283 time: 0.0366s\n",
      "Epoch: 0137 loss_train: 1.6703 acc_train: 0.3768 loss_val: 1.7031 acc_val: 0.3283 time: 0.0333s\n",
      "Epoch: 0138 loss_train: 1.6519 acc_train: 0.3893 loss_val: 1.7017 acc_val: 0.3559 time: 0.0382s\n",
      "Epoch: 0139 loss_train: 1.6446 acc_train: 0.3787 loss_val: 1.7047 acc_val: 0.3383 time: 0.0402s\n",
      "Epoch: 0140 loss_train: 1.6382 acc_train: 0.3912 loss_val: 1.7089 acc_val: 0.3358 time: 0.0366s\n",
      "Epoch: 0141 loss_train: 1.6483 acc_train: 0.3806 loss_val: 1.7069 acc_val: 0.3283 time: 0.0392s\n",
      "Epoch: 0142 loss_train: 1.6253 acc_train: 0.3824 loss_val: 1.7021 acc_val: 0.3258 time: 0.0347s\n",
      "Epoch: 0143 loss_train: 1.6444 acc_train: 0.4031 loss_val: 1.6980 acc_val: 0.3634 time: 0.0358s\n",
      "Epoch: 0144 loss_train: 1.6490 acc_train: 0.3906 loss_val: 1.6973 acc_val: 0.3684 time: 0.0341s\n",
      "Epoch: 0145 loss_train: 1.6388 acc_train: 0.3862 loss_val: 1.6988 acc_val: 0.3810 time: 0.0390s\n",
      "Epoch: 0146 loss_train: 1.6453 acc_train: 0.3812 loss_val: 1.7051 acc_val: 0.3709 time: 0.0716s\n",
      "Epoch: 0147 loss_train: 1.6316 acc_train: 0.3944 loss_val: 1.7077 acc_val: 0.3609 time: 0.1110s\n",
      "Epoch: 0148 loss_train: 1.6329 acc_train: 0.3937 loss_val: 1.7043 acc_val: 0.3684 time: 0.0646s\n",
      "Epoch: 0149 loss_train: 1.6485 acc_train: 0.3950 loss_val: 1.7052 acc_val: 0.3634 time: 0.0436s\n",
      "Epoch: 0150 loss_train: 1.6402 acc_train: 0.3944 loss_val: 1.7071 acc_val: 0.3534 time: 0.0626s\n"
     ]
    },
    {
     "data": {
      "image/png": "[encoded data removed]",
      "text/plain": [
       "<Figure size 432x576 with 2 Axes>"
      ]
     },
     "metadata": {
      "needs_background": "light"
     },
     "output_type": "display_data"
    },
    {
     "name": "stdout",
     "output_type": "stream",
     "text": [
      "Total time elapsed: 8.7647s\n"
     ]
    }
   ],
   "source": [
    "# Train model\n",
    "t_total = time.time()\n",
    "train_accuracies, train_losses = [], []\n",
    "val_accuracies, val_losses = [], []\n",
    "\n",
    "for t in range(num_epochs):\n",
    "    train_loss, train_acc, val_loss, val_acc = train_gcn(X_conv,t)\n",
    "    train_losses.append(train_loss)\n",
    "    train_accuracies.append(train_acc)\n",
    "    val_losses.append(val_loss)\n",
    "    val_accuracies.append(val_acc)\n",
    "    \n",
    "fig, axs = plt.subplots(2,1, figsize=(6,8))\n",
    "axs[0].plot(train_losses[::5], label=\"train\")\n",
    "axs[0].plot(val_losses[::5], label=\"validation\")\n",
    "axs[0].set_title('Loss')\n",
    "axs[0].legend(loc='best')\n",
    "\n",
    "axs[1].plot(train_accuracies[::5], label='train')\n",
    "axs[1].plot(val_accuracies[::5], label='validation')\n",
    "axs[1].set_ylim(0, 1.1)\n",
    "axs[1].set_ylabel(\"accuracy\")\n",
    "axs[1].legend(loc='best')\n",
    "plt.show()\n",
    "print(\"Total time elapsed: {:.4f}s\".format(time.time() - t_total))"
   ]
  },
  {
   "cell_type": "markdown",
   "metadata": {},
   "source": [
    "## using tf-idf features as an input to GCN model"
   ]
  },
  {
   "cell_type": "code",
   "execution_count": 351,
   "metadata": {},
   "outputs": [],
   "source": [
    "def get_tfidf():    \n",
    "    # Read training data\n",
    "    with open(\"train_noduplicates.csv\", 'r') as f:\n",
    "        train_data = f.read().splitlines()\n",
    "\n",
    "    train_hosts = list()\n",
    "    y_train = list()\n",
    "    for row in train_data:\n",
    "        host, label = row.split(\",\")\n",
    "        train_hosts.append(host)\n",
    "        y_train.append(label.lower())\n",
    "\n",
    "    # Read test data\n",
    "    with open(\"test.csv\", 'r') as f:\n",
    "        test_hosts = f.read().splitlines()\n",
    "        \n",
    "    \n",
    "    idx = train_hosts+test_hosts\n",
    "    \n",
    "    # Load the textual content of a set of webpages for each host into the dictionary \"text\". \n",
    "    # The encoding parameter is required since the majority of our text is french.\n",
    "    text = dict()\n",
    "    filenames = os.listdir('text/text')\n",
    "    for filename in idx:\n",
    "        try:\n",
    "            with codecs.open(path.join('text/text/', filename), encoding='latin-1') as f: \n",
    "                text[filename] = f.read().replace(\"\\n\", \" \").lower()\n",
    "        except:\n",
    "            pass\n",
    "        \n",
    "    data = list()\n",
    "    for host in idx:\n",
    "        if host in text:\n",
    "            data.append(text[host])\n",
    "        else:\n",
    "            data.append('')   \n",
    "\n",
    "    vec = TfidfVectorizer(decode_error='ignore', strip_accents='unicode', encoding='latin-1', min_df=10, max_df=1000)\n",
    "    features = vec.fit_transform(data)\n",
    "    \n",
    "    features = torch.FloatTensor(np.array(features.todense()))\n",
    "    return features"
   ]
  },
  {
   "cell_type": "code",
   "execution_count": 352,
   "metadata": {},
   "outputs": [],
   "source": [
    "tfidf_feats = get_tfidf()"
   ]
  },
  {
   "cell_type": "code",
   "execution_count": 353,
   "metadata": {},
   "outputs": [],
   "source": [
    "n_samples = A_tilde.shape[1]\n",
    "n_features = tfidf_feats.shape[1]\n",
    "\n",
    "X_tfidf = np.zeros((n_samples,n_features))\n",
    "X_tfidf[:tfidf_feats.shape[0]] = tfidf_feats.detach().numpy()\n",
    "X_tfidf = sp.csr_matrix(X_tfidf, dtype=np.float32)\n",
    "X_tfidf = torch.FloatTensor(np.array(X_tfidf.todense()))"
   ]
  },
  {
   "cell_type": "code",
   "execution_count": 354,
   "metadata": {},
   "outputs": [],
   "source": [
    "# Model and optimizer\n",
    "model = GCN(nfeat=X_tfidf.shape[1],\n",
    "            nhid=hidden,\n",
    "            nclass=y.max().item() + 1,\n",
    "            dropout=dropout)\n",
    "optimizer = optim.Adam(model.parameters(),\n",
    "                       lr=lr, weight_decay=weight_decay)"
   ]
  },
  {
   "cell_type": "code",
   "execution_count": 355,
   "metadata": {},
   "outputs": [],
   "source": [
    "if cuda:\n",
    "    model.cuda()\n",
    "    X_tfidf = X_tfidf.cuda()\n",
    "    A_tilde = A_tilde.cuda()\n",
    "    y = y.cuda()\n",
    "else:\n",
    "    A_tilde = A_tilde.cpu()\n",
    "    y = y.cpu()"
   ]
  },
  {
   "cell_type": "code",
   "execution_count": 357,
   "metadata": {
    "scrolled": true
   },
   "outputs": [
    {
     "name": "stdout",
     "output_type": "stream",
     "text": [
      "Epoch: 0001 loss_train: 2.1128 acc_train: 0.1273 loss_val: 2.0999 acc_val: 0.1303 time: 0.3900s\n",
      "Epoch: 0002 loss_train: 2.0977 acc_train: 0.1285 loss_val: 2.0860 acc_val: 0.1303 time: 0.2221s\n",
      "Epoch: 0003 loss_train: 2.0826 acc_train: 0.1285 loss_val: 2.0674 acc_val: 0.1303 time: 0.4836s\n",
      "Epoch: 0004 loss_train: 2.0606 acc_train: 0.1285 loss_val: 2.0384 acc_val: 0.1328 time: 0.4272s\n",
      "Epoch: 0005 loss_train: 2.0313 acc_train: 0.1455 loss_val: 1.9920 acc_val: 0.3083 time: 0.4019s\n",
      "Epoch: 0006 loss_train: 1.9810 acc_train: 0.3028 loss_val: 1.9290 acc_val: 0.3333 time: 0.2047s\n",
      "Epoch: 0007 loss_train: 1.9069 acc_train: 0.3304 loss_val: 1.8648 acc_val: 0.3008 time: 0.2556s\n",
      "Epoch: 0008 loss_train: 1.8446 acc_train: 0.3103 loss_val: 1.8330 acc_val: 0.2857 time: 0.2464s\n",
      "Epoch: 0009 loss_train: 1.7969 acc_train: 0.3172 loss_val: 1.8462 acc_val: 0.2932 time: 0.2537s\n",
      "Epoch: 0010 loss_train: 1.8088 acc_train: 0.3204 loss_val: 1.8426 acc_val: 0.3308 time: 0.2714s\n",
      "Epoch: 0011 loss_train: 1.8230 acc_train: 0.3116 loss_val: 1.8028 acc_val: 0.3634 time: 0.2444s\n",
      "Epoch: 0012 loss_train: 1.7548 acc_train: 0.3310 loss_val: 1.7701 acc_val: 0.3509 time: 0.2570s\n",
      "Epoch: 0013 loss_train: 1.7316 acc_train: 0.3223 loss_val: 1.7556 acc_val: 0.3709 time: 0.2440s\n",
      "Epoch: 0014 loss_train: 1.7138 acc_train: 0.3455 loss_val: 1.7542 acc_val: 0.3759 time: 0.2537s\n",
      "Epoch: 0015 loss_train: 1.6985 acc_train: 0.3699 loss_val: 1.7529 acc_val: 0.3885 time: 0.2382s\n",
      "Epoch: 0016 loss_train: 1.6911 acc_train: 0.3900 loss_val: 1.7452 acc_val: 0.3960 time: 0.2537s\n",
      "Epoch: 0017 loss_train: 1.6813 acc_train: 0.3950 loss_val: 1.7304 acc_val: 0.3910 time: 0.2472s\n",
      "Epoch: 0018 loss_train: 1.6621 acc_train: 0.3987 loss_val: 1.7144 acc_val: 0.3885 time: 0.2464s\n",
      "Epoch: 0019 loss_train: 1.6403 acc_train: 0.3893 loss_val: 1.7049 acc_val: 0.3935 time: 0.3528s\n",
      "Epoch: 0020 loss_train: 1.6084 acc_train: 0.3831 loss_val: 1.7024 acc_val: 0.3885 time: 0.2999s\n",
      "Epoch: 0021 loss_train: 1.5988 acc_train: 0.4088 loss_val: 1.6992 acc_val: 0.3910 time: 0.2152s\n",
      "Epoch: 0022 loss_train: 1.5836 acc_train: 0.4301 loss_val: 1.6869 acc_val: 0.3860 time: 0.2560s\n",
      "Epoch: 0023 loss_train: 1.5581 acc_train: 0.4357 loss_val: 1.6736 acc_val: 0.4010 time: 0.3163s\n",
      "Epoch: 0024 loss_train: 1.5478 acc_train: 0.4376 loss_val: 1.6645 acc_val: 0.4035 time: 0.2250s\n",
      "Epoch: 0025 loss_train: 1.5355 acc_train: 0.4464 loss_val: 1.6565 acc_val: 0.4060 time: 0.2342s\n",
      "Epoch: 0026 loss_train: 1.5109 acc_train: 0.4621 loss_val: 1.6523 acc_val: 0.4135 time: 0.2835s\n",
      "Epoch: 0027 loss_train: 1.5035 acc_train: 0.4677 loss_val: 1.6501 acc_val: 0.4110 time: 0.2817s\n",
      "Epoch: 0028 loss_train: 1.4864 acc_train: 0.4677 loss_val: 1.6484 acc_val: 0.4060 time: 0.2876s\n",
      "Epoch: 0029 loss_train: 1.4656 acc_train: 0.4909 loss_val: 1.6447 acc_val: 0.4060 time: 0.2513s\n",
      "Epoch: 0030 loss_train: 1.4506 acc_train: 0.4821 loss_val: 1.6425 acc_val: 0.3960 time: 0.2809s\n",
      "Epoch: 0031 loss_train: 1.4390 acc_train: 0.4790 loss_val: 1.6421 acc_val: 0.4010 time: 0.3225s\n",
      "Epoch: 0032 loss_train: 1.4253 acc_train: 0.4853 loss_val: 1.6369 acc_val: 0.4035 time: 0.4922s\n",
      "Epoch: 0033 loss_train: 1.4128 acc_train: 0.4903 loss_val: 1.6351 acc_val: 0.3910 time: 0.4722s\n",
      "Epoch: 0034 loss_train: 1.4115 acc_train: 0.4871 loss_val: 1.6331 acc_val: 0.3885 time: 0.2989s\n",
      "Epoch: 0035 loss_train: 1.3905 acc_train: 0.5034 loss_val: 1.6316 acc_val: 0.3910 time: 0.2206s\n",
      "Epoch: 0036 loss_train: 1.3731 acc_train: 0.5085 loss_val: 1.6278 acc_val: 0.4035 time: 0.3075s\n",
      "Epoch: 0037 loss_train: 1.3638 acc_train: 0.5072 loss_val: 1.6286 acc_val: 0.4311 time: 0.4328s\n",
      "Epoch: 0038 loss_train: 1.3524 acc_train: 0.5078 loss_val: 1.6287 acc_val: 0.4236 time: 0.4625s\n",
      "Epoch: 0039 loss_train: 1.3469 acc_train: 0.5141 loss_val: 1.6194 acc_val: 0.4060 time: 0.4577s\n",
      "Epoch: 0040 loss_train: 1.3402 acc_train: 0.5091 loss_val: 1.6285 acc_val: 0.4085 time: 0.2650s\n",
      "Epoch: 0041 loss_train: 1.3194 acc_train: 0.5223 loss_val: 1.6494 acc_val: 0.3935 time: 0.2727s\n",
      "Epoch: 0042 loss_train: 1.3450 acc_train: 0.4966 loss_val: 1.6163 acc_val: 0.4286 time: 0.2284s\n",
      "Epoch: 0043 loss_train: 1.3069 acc_train: 0.5335 loss_val: 1.6285 acc_val: 0.4010 time: 0.3290s\n",
      "Epoch: 0044 loss_train: 1.3066 acc_train: 0.5147 loss_val: 1.6276 acc_val: 0.3960 time: 0.2460s\n",
      "Epoch: 0045 loss_train: 1.3019 acc_train: 0.5160 loss_val: 1.6359 acc_val: 0.3885 time: 0.3650s\n",
      "Epoch: 0046 loss_train: 1.2780 acc_train: 0.5179 loss_val: 1.6582 acc_val: 0.3885 time: 0.2127s\n",
      "Epoch: 0047 loss_train: 1.2864 acc_train: 0.5285 loss_val: 1.6284 acc_val: 0.3985 time: 0.2489s\n",
      "Epoch: 0048 loss_train: 1.2588 acc_train: 0.5455 loss_val: 1.6176 acc_val: 0.4035 time: 0.3102s\n",
      "Epoch: 0049 loss_train: 1.2670 acc_train: 0.5373 loss_val: 1.6201 acc_val: 0.4160 time: 0.2374s\n",
      "Epoch: 0050 loss_train: 1.2506 acc_train: 0.5379 loss_val: 1.6140 acc_val: 0.4286 time: 0.3346s\n",
      "Epoch: 0051 loss_train: 1.2473 acc_train: 0.5524 loss_val: 1.6154 acc_val: 0.4336 time: 0.2399s\n",
      "Epoch: 0052 loss_train: 1.2320 acc_train: 0.5737 loss_val: 1.6074 acc_val: 0.4386 time: 0.2327s\n",
      "Epoch: 0053 loss_train: 1.2162 acc_train: 0.5712 loss_val: 1.5961 acc_val: 0.4236 time: 0.2446s\n",
      "Epoch: 0054 loss_train: 1.2063 acc_train: 0.5636 loss_val: 1.6014 acc_val: 0.4436 time: 0.2257s\n",
      "Epoch: 0055 loss_train: 1.2074 acc_train: 0.5592 loss_val: 1.6108 acc_val: 0.4561 time: 0.2489s\n",
      "Epoch: 0056 loss_train: 1.2059 acc_train: 0.5705 loss_val: 1.6205 acc_val: 0.4286 time: 0.2978s\n",
      "Epoch: 0057 loss_train: 1.1925 acc_train: 0.5944 loss_val: 1.6140 acc_val: 0.4336 time: 0.3111s\n",
      "Epoch: 0058 loss_train: 1.1966 acc_train: 0.5862 loss_val: 1.6065 acc_val: 0.4386 time: 0.2610s\n",
      "Epoch: 0059 loss_train: 1.1788 acc_train: 0.5918 loss_val: 1.6284 acc_val: 0.4561 time: 0.3010s\n",
      "Epoch: 0060 loss_train: 1.1709 acc_train: 0.5868 loss_val: 1.6333 acc_val: 0.4286 time: 0.2377s\n",
      "Epoch: 0061 loss_train: 1.1688 acc_train: 0.5918 loss_val: 1.6436 acc_val: 0.4211 time: 0.2256s\n",
      "Epoch: 0062 loss_train: 1.1639 acc_train: 0.5918 loss_val: 1.6513 acc_val: 0.4336 time: 0.2971s\n",
      "Epoch: 0063 loss_train: 1.1724 acc_train: 0.6038 loss_val: 1.6292 acc_val: 0.4286 time: 0.2526s\n",
      "Epoch: 0064 loss_train: 1.1527 acc_train: 0.6107 loss_val: 1.6158 acc_val: 0.4311 time: 0.2993s\n",
      "Epoch: 0065 loss_train: 1.1323 acc_train: 0.6000 loss_val: 1.6082 acc_val: 0.4361 time: 0.5467s\n",
      "Epoch: 0066 loss_train: 1.1338 acc_train: 0.6000 loss_val: 1.6278 acc_val: 0.4361 time: 0.4753s\n",
      "Epoch: 0067 loss_train: 1.1417 acc_train: 0.5887 loss_val: 1.6329 acc_val: 0.4361 time: 0.4084s\n",
      "Epoch: 0068 loss_train: 1.1090 acc_train: 0.6157 loss_val: 1.6356 acc_val: 0.4536 time: 0.2340s\n",
      "Epoch: 0069 loss_train: 1.1107 acc_train: 0.6044 loss_val: 1.6498 acc_val: 0.4236 time: 0.2563s\n",
      "Epoch: 0070 loss_train: 1.1116 acc_train: 0.6038 loss_val: 1.6643 acc_val: 0.4110 time: 0.5538s\n",
      "Epoch: 0071 loss_train: 1.1086 acc_train: 0.6176 loss_val: 1.6635 acc_val: 0.4211 time: 0.4395s\n",
      "Epoch: 0072 loss_train: 1.0770 acc_train: 0.6389 loss_val: 1.6620 acc_val: 0.4236 time: 0.3844s\n",
      "Epoch: 0073 loss_train: 1.0984 acc_train: 0.6251 loss_val: 1.6707 acc_val: 0.4311 time: 0.2654s\n",
      "Epoch: 0074 loss_train: 1.0845 acc_train: 0.6201 loss_val: 1.6856 acc_val: 0.4411 time: 0.3280s\n",
      "Epoch: 0075 loss_train: 1.0844 acc_train: 0.6295 loss_val: 1.6625 acc_val: 0.4436 time: 0.3785s\n",
      "Epoch: 0076 loss_train: 1.0749 acc_train: 0.6370 loss_val: 1.6455 acc_val: 0.4612 time: 0.3578s\n",
      "Epoch: 0077 loss_train: 1.0828 acc_train: 0.6238 loss_val: 1.6391 acc_val: 0.4436 time: 0.2492s\n",
      "Epoch: 0078 loss_train: 1.0828 acc_train: 0.6182 loss_val: 1.6611 acc_val: 0.4486 time: 0.2385s\n",
      "Epoch: 0079 loss_train: 1.0696 acc_train: 0.6420 loss_val: 1.6934 acc_val: 0.4436 time: 0.2513s\n",
      "Epoch: 0080 loss_train: 1.0764 acc_train: 0.6232 loss_val: 1.6649 acc_val: 0.4286 time: 0.2464s\n",
      "Epoch: 0081 loss_train: 1.0564 acc_train: 0.6351 loss_val: 1.6737 acc_val: 0.4236 time: 0.2434s\n",
      "Epoch: 0082 loss_train: 1.0627 acc_train: 0.6301 loss_val: 1.6989 acc_val: 0.4236 time: 0.3404s\n",
      "Epoch: 0083 loss_train: 1.0487 acc_train: 0.6364 loss_val: 1.7593 acc_val: 0.4361 time: 0.2647s\n",
      "Epoch: 0084 loss_train: 1.0632 acc_train: 0.6182 loss_val: 1.6791 acc_val: 0.4261 time: 0.3352s\n",
      "Epoch: 0085 loss_train: 1.0444 acc_train: 0.6520 loss_val: 1.6720 acc_val: 0.4386 time: 0.3175s\n",
      "Epoch: 0086 loss_train: 1.0465 acc_train: 0.6364 loss_val: 1.6855 acc_val: 0.4286 time: 0.3252s\n"
     ]
    },
    {
     "name": "stdout",
     "output_type": "stream",
     "text": [
      "Epoch: 0087 loss_train: 1.0492 acc_train: 0.6420 loss_val: 1.7232 acc_val: 0.4286 time: 0.2836s\n",
      "Epoch: 0088 loss_train: 1.0593 acc_train: 0.6320 loss_val: 1.6911 acc_val: 0.4336 time: 0.2415s\n",
      "Epoch: 0089 loss_train: 1.0123 acc_train: 0.6502 loss_val: 1.6818 acc_val: 0.4411 time: 0.2658s\n",
      "Epoch: 0090 loss_train: 1.0493 acc_train: 0.6495 loss_val: 1.7091 acc_val: 0.4436 time: 0.2417s\n",
      "Epoch: 0091 loss_train: 1.0298 acc_train: 0.6502 loss_val: 1.7776 acc_val: 0.4361 time: 0.3465s\n",
      "Epoch: 0092 loss_train: 1.0345 acc_train: 0.6357 loss_val: 1.7507 acc_val: 0.4336 time: 0.2579s\n",
      "Epoch: 0093 loss_train: 1.0359 acc_train: 0.6502 loss_val: 1.7259 acc_val: 0.4311 time: 0.3278s\n",
      "Epoch: 0094 loss_train: 1.0352 acc_train: 0.6539 loss_val: 1.7035 acc_val: 0.4436 time: 0.2829s\n",
      "Epoch: 0095 loss_train: 1.0222 acc_train: 0.6326 loss_val: 1.7226 acc_val: 0.4436 time: 0.2454s\n",
      "Epoch: 0096 loss_train: 1.0256 acc_train: 0.6483 loss_val: 1.7658 acc_val: 0.4286 time: 0.2883s\n",
      "Epoch: 0097 loss_train: 1.0468 acc_train: 0.6320 loss_val: 1.7037 acc_val: 0.4436 time: 0.4688s\n",
      "Epoch: 0098 loss_train: 1.0099 acc_train: 0.6677 loss_val: 1.6943 acc_val: 0.4486 time: 0.5292s\n",
      "Epoch: 0099 loss_train: 1.0198 acc_train: 0.6476 loss_val: 1.6906 acc_val: 0.4311 time: 0.3330s\n",
      "Epoch: 0100 loss_train: 1.0508 acc_train: 0.6458 loss_val: 1.7312 acc_val: 0.4236 time: 0.2803s\n",
      "Epoch: 0101 loss_train: 1.0219 acc_train: 0.6414 loss_val: 1.7889 acc_val: 0.4110 time: 0.3729s\n",
      "Epoch: 0102 loss_train: 1.0248 acc_train: 0.6533 loss_val: 1.7577 acc_val: 0.4261 time: 0.5032s\n",
      "Epoch: 0103 loss_train: 1.0048 acc_train: 0.6502 loss_val: 1.7287 acc_val: 0.4211 time: 0.4876s\n",
      "Epoch: 0104 loss_train: 1.0273 acc_train: 0.6451 loss_val: 1.7321 acc_val: 0.4160 time: 0.2366s\n",
      "Epoch: 0105 loss_train: 1.0010 acc_train: 0.6552 loss_val: 1.7552 acc_val: 0.4110 time: 0.2560s\n",
      "Epoch: 0106 loss_train: 1.0062 acc_train: 0.6564 loss_val: 1.8056 acc_val: 0.4085 time: 0.2463s\n",
      "Epoch: 0107 loss_train: 1.0147 acc_train: 0.6552 loss_val: 1.8340 acc_val: 0.4211 time: 0.2481s\n",
      "Epoch: 0108 loss_train: 1.0088 acc_train: 0.6558 loss_val: 1.8001 acc_val: 0.4261 time: 0.2329s\n",
      "Epoch: 0109 loss_train: 0.9963 acc_train: 0.6608 loss_val: 1.7771 acc_val: 0.4336 time: 0.2553s\n",
      "Epoch: 0110 loss_train: 1.0285 acc_train: 0.6376 loss_val: 1.7620 acc_val: 0.4361 time: 0.2808s\n",
      "Epoch: 0111 loss_train: 1.0006 acc_train: 0.6577 loss_val: 1.8347 acc_val: 0.4336 time: 0.2456s\n",
      "Epoch: 0112 loss_train: 1.0429 acc_train: 0.6345 loss_val: 1.7772 acc_val: 0.4336 time: 0.2548s\n",
      "Epoch: 0113 loss_train: 0.9903 acc_train: 0.6589 loss_val: 1.7177 acc_val: 0.4211 time: 0.4421s\n",
      "Epoch: 0114 loss_train: 0.9980 acc_train: 0.6702 loss_val: 1.7337 acc_val: 0.4311 time: 0.2956s\n",
      "Epoch: 0115 loss_train: 1.0233 acc_train: 0.6370 loss_val: 1.7607 acc_val: 0.4211 time: 0.3555s\n",
      "Epoch: 0116 loss_train: 0.9885 acc_train: 0.6539 loss_val: 1.7963 acc_val: 0.4286 time: 0.2791s\n",
      "Epoch: 0117 loss_train: 0.9889 acc_train: 0.6671 loss_val: 1.8120 acc_val: 0.4160 time: 0.3043s\n",
      "Epoch: 0118 loss_train: 0.9914 acc_train: 0.6508 loss_val: 1.8118 acc_val: 0.4135 time: 0.3206s\n",
      "Epoch: 0119 loss_train: 1.0030 acc_train: 0.6458 loss_val: 1.7970 acc_val: 0.4211 time: 0.2495s\n",
      "Epoch: 0120 loss_train: 0.9646 acc_train: 0.6652 loss_val: 1.8162 acc_val: 0.4211 time: 0.2541s\n",
      "Epoch: 0121 loss_train: 0.9966 acc_train: 0.6564 loss_val: 1.8088 acc_val: 0.4436 time: 0.2541s\n",
      "Epoch: 0122 loss_train: 0.9716 acc_train: 0.6633 loss_val: 1.8017 acc_val: 0.4411 time: 0.2492s\n",
      "Epoch: 0123 loss_train: 0.9923 acc_train: 0.6658 loss_val: 1.8145 acc_val: 0.4361 time: 0.3097s\n",
      "Epoch: 0124 loss_train: 0.9575 acc_train: 0.6608 loss_val: 1.7990 acc_val: 0.4286 time: 0.2444s\n",
      "Epoch: 0125 loss_train: 0.9732 acc_train: 0.6633 loss_val: 1.7779 acc_val: 0.4386 time: 0.2502s\n",
      "Epoch: 0126 loss_train: 0.9735 acc_train: 0.6614 loss_val: 1.7860 acc_val: 0.4361 time: 0.3146s\n",
      "Epoch: 0127 loss_train: 0.9763 acc_train: 0.6583 loss_val: 1.8453 acc_val: 0.4261 time: 0.2356s\n",
      "Epoch: 0128 loss_train: 0.9576 acc_train: 0.6589 loss_val: 1.8702 acc_val: 0.4386 time: 0.3405s\n",
      "Epoch: 0129 loss_train: 0.9613 acc_train: 0.6721 loss_val: 1.8262 acc_val: 0.4386 time: 0.4492s\n",
      "Epoch: 0130 loss_train: 0.9574 acc_train: 0.6683 loss_val: 1.8138 acc_val: 0.4361 time: 0.4840s\n",
      "Epoch: 0131 loss_train: 0.9528 acc_train: 0.6727 loss_val: 1.8192 acc_val: 0.4286 time: 0.2942s\n",
      "Epoch: 0132 loss_train: 0.9581 acc_train: 0.6708 loss_val: 1.8050 acc_val: 0.4386 time: 0.3238s\n",
      "Epoch: 0133 loss_train: 0.9426 acc_train: 0.6859 loss_val: 1.8094 acc_val: 0.4461 time: 0.2750s\n",
      "Epoch: 0134 loss_train: 0.9649 acc_train: 0.6658 loss_val: 1.8283 acc_val: 0.4461 time: 0.5866s\n",
      "Epoch: 0135 loss_train: 0.9397 acc_train: 0.6765 loss_val: 1.8347 acc_val: 0.4436 time: 0.4719s\n",
      "Epoch: 0136 loss_train: 0.9457 acc_train: 0.6815 loss_val: 1.8314 acc_val: 0.4261 time: 0.4391s\n",
      "Epoch: 0137 loss_train: 0.9278 acc_train: 0.6759 loss_val: 1.8202 acc_val: 0.4311 time: 0.2428s\n",
      "Epoch: 0138 loss_train: 0.9296 acc_train: 0.6922 loss_val: 1.8364 acc_val: 0.4311 time: 0.2546s\n",
      "Epoch: 0139 loss_train: 0.9813 acc_train: 0.6771 loss_val: 1.8705 acc_val: 0.4311 time: 0.2821s\n",
      "Epoch: 0140 loss_train: 0.9419 acc_train: 0.6621 loss_val: 1.8714 acc_val: 0.4361 time: 0.4048s\n",
      "Epoch: 0141 loss_train: 0.9612 acc_train: 0.6746 loss_val: 1.8613 acc_val: 0.4311 time: 0.2686s\n",
      "Epoch: 0142 loss_train: 0.9181 acc_train: 0.6928 loss_val: 1.8781 acc_val: 0.4311 time: 0.3364s\n",
      "Epoch: 0143 loss_train: 0.9458 acc_train: 0.6602 loss_val: 1.8657 acc_val: 0.4486 time: 0.2998s\n",
      "Epoch: 0144 loss_train: 0.9452 acc_train: 0.6708 loss_val: 1.8768 acc_val: 0.4361 time: 0.2712s\n",
      "Epoch: 0145 loss_train: 0.9225 acc_train: 0.6734 loss_val: 1.8858 acc_val: 0.4336 time: 0.3037s\n",
      "Epoch: 0146 loss_train: 0.9181 acc_train: 0.6784 loss_val: 1.8619 acc_val: 0.4286 time: 0.2901s\n",
      "Epoch: 0147 loss_train: 0.9326 acc_train: 0.6734 loss_val: 1.8586 acc_val: 0.4261 time: 0.2625s\n",
      "Epoch: 0148 loss_train: 0.9460 acc_train: 0.6840 loss_val: 1.8849 acc_val: 0.4361 time: 0.3185s\n",
      "Epoch: 0149 loss_train: 0.9266 acc_train: 0.6884 loss_val: 1.9047 acc_val: 0.4261 time: 0.2389s\n",
      "Epoch: 0150 loss_train: 0.9262 acc_train: 0.6846 loss_val: 1.8679 acc_val: 0.4286 time: 0.2538s\n"
     ]
    },
    {
     "data": {
      "image/png": "[encoded data removed]",
      "text/plain": [
       "<Figure size 432x576 with 2 Axes>"
      ]
     },
     "metadata": {
      "needs_background": "light"
     },
     "output_type": "display_data"
    },
    {
     "name": "stdout",
     "output_type": "stream",
     "text": [
      "Total time elapsed: 46.6122s\n"
     ]
    }
   ],
   "source": [
    "# Train model\n",
    "t_total = time.time()\n",
    "train_accuracies, train_losses = [], []\n",
    "val_accuracies, val_losses = [], []\n",
    "\n",
    "for t in range(num_epochs):\n",
    "    train_loss, train_acc, val_loss, val_acc = train_gcn(X_tfidf,t)\n",
    "    train_losses.append(train_loss)\n",
    "    train_accuracies.append(train_acc)\n",
    "    val_losses.append(val_loss)\n",
    "    val_accuracies.append(val_acc)\n",
    "    \n",
    "fig, axs = plt.subplots(2,1, figsize=(6,8))\n",
    "axs[0].plot(train_losses[::5], label=\"train\")\n",
    "axs[0].plot(val_losses[::5], label=\"validation\")\n",
    "axs[0].set_title('Loss')\n",
    "axs[0].legend(loc='best')\n",
    "\n",
    "axs[1].plot(train_accuracies[::5], label='train')\n",
    "axs[1].plot(val_accuracies[::5], label='validation')\n",
    "axs[1].set_ylim(0, 1.1)\n",
    "axs[1].set_ylabel(\"accuracy\")\n",
    "axs[1].legend(loc='best')\n",
    "plt.show()\n",
    "print(\"Total time elapsed: {:.4f}s\".format(time.time() - t_total))"
   ]
  },
  {
   "cell_type": "code",
   "execution_count": 358,
   "metadata": {
    "scrolled": true
   },
   "outputs": [
    {
     "name": "stdout",
     "output_type": "stream",
     "text": [
      "Test set results: loss= 4.9585 accuracy= 0.0000\n"
     ]
    }
   ],
   "source": [
    "# testing\n",
    "pred = test_gcn(X_tfidf)  # we have an accuracy of 0% since we compare the results to a dummy label"
   ]
  },
  {
   "cell_type": "code",
   "execution_count": 359,
   "metadata": {},
   "outputs": [],
   "source": [
    "y_pred = torch.exp(pred).detach().numpy()"
   ]
  },
  {
   "cell_type": "code",
   "execution_count": 360,
   "metadata": {},
   "outputs": [],
   "source": [
    "# Write predictions to a file\n",
    "with open('tfidf_gcn.csv', 'w') as csvfile:\n",
    "    writer = csv.writer(csvfile, delimiter=',')\n",
    "    lst = classes\n",
    "    lst.insert(0, \"Host\")\n",
    "    writer.writerow(lst)\n",
    "    with open(\"test.csv\", 'r') as f:\n",
    "        test_hosts = f.read().splitlines()\n",
    "    for i,test_host in enumerate(test_hosts):\n",
    "        lst = y_pred[i,:].tolist()\n",
    "        lst.insert(0, test_host)\n",
    "        writer.writerow(lst)"
   ]
  },
  {
   "cell_type": "markdown",
   "metadata": {},
   "source": [
    "## pre-trained model"
   ]
  },
  {
   "cell_type": "code",
   "execution_count": 398,
   "metadata": {},
   "outputs": [
    {
     "data": {
      "text/plain": [
       "(768,)"
      ]
     },
     "execution_count": 398,
     "metadata": {},
     "output_type": "execute_result"
    }
   ],
   "source": [
    "X_bert = np.array(pd.read_csv('train_camembert.csv'))\n",
    "X_bert[0].shape"
   ]
  },
  {
   "cell_type": "code",
   "execution_count": 399,
   "metadata": {},
   "outputs": [],
   "source": [
    "X_bert = sp.csr_matrix(X_bert, dtype=np.float32)\n",
    "X_bert = torch.FloatTensor(np.array(X_bert.todense()))"
   ]
  },
  {
   "cell_type": "code",
   "execution_count": 400,
   "metadata": {},
   "outputs": [],
   "source": [
    "# Model and optimizer\n",
    "model = GCN(nfeat=X_bert.shape[1],\n",
    "            nhid=hidden,\n",
    "            nclass=y.max().item() + 1,\n",
    "            dropout=dropout)\n",
    "optimizer = optim.Adam(model.parameters(),\n",
    "                       lr=lr, weight_decay=weight_decay)"
   ]
  },
  {
   "cell_type": "code",
   "execution_count": 401,
   "metadata": {},
   "outputs": [],
   "source": [
    "if cuda:\n",
    "    model.cuda()\n",
    "    X_tfidf = X_bert.cuda()\n",
    "    A_tilde = A_tilde.cuda()\n",
    "    y = y.cuda()\n",
    "else:\n",
    "    A_tilde = A_tilde.cpu()\n",
    "    y = y.cpu()"
   ]
  },
  {
   "cell_type": "code",
   "execution_count": 402,
   "metadata": {
    "scrolled": false
   },
   "outputs": [
    {
     "name": "stdout",
     "output_type": "stream",
     "text": [
      "Epoch: 0001 loss_train: 2.0269 acc_train: 0.2890 loss_val: 1.9515 acc_val: 0.2932 time: 0.1515s\n",
      "Epoch: 0002 loss_train: 1.9322 acc_train: 0.3009 loss_val: 1.8778 acc_val: 0.2456 time: 0.0843s\n",
      "Epoch: 0003 loss_train: 1.8565 acc_train: 0.2915 loss_val: 1.8950 acc_val: 0.2506 time: 0.0606s\n",
      "Epoch: 0004 loss_train: 1.8401 acc_train: 0.2828 loss_val: 1.8936 acc_val: 0.2456 time: 0.0526s\n",
      "Epoch: 0005 loss_train: 1.8602 acc_train: 0.2740 loss_val: 1.8493 acc_val: 0.2957 time: 0.0619s\n",
      "Epoch: 0006 loss_train: 1.8111 acc_train: 0.3022 loss_val: 1.8296 acc_val: 0.2506 time: 0.0644s\n",
      "Epoch: 0007 loss_train: 1.8160 acc_train: 0.2777 loss_val: 1.8320 acc_val: 0.2957 time: 0.0551s\n",
      "Epoch: 0008 loss_train: 1.8066 acc_train: 0.2928 loss_val: 1.8366 acc_val: 0.2932 time: 0.0510s\n",
      "Epoch: 0009 loss_train: 1.8156 acc_train: 0.2897 loss_val: 1.8341 acc_val: 0.2932 time: 0.0472s\n",
      "Epoch: 0010 loss_train: 1.8233 acc_train: 0.2890 loss_val: 1.8266 acc_val: 0.2882 time: 0.0650s\n",
      "Epoch: 0011 loss_train: 1.8021 acc_train: 0.2984 loss_val: 1.8212 acc_val: 0.2882 time: 0.0609s\n",
      "Epoch: 0012 loss_train: 1.7935 acc_train: 0.2884 loss_val: 1.8233 acc_val: 0.2882 time: 0.0519s\n",
      "Epoch: 0013 loss_train: 1.7948 acc_train: 0.2796 loss_val: 1.8257 acc_val: 0.2882 time: 0.0544s\n",
      "Epoch: 0014 loss_train: 1.7946 acc_train: 0.2991 loss_val: 1.8261 acc_val: 0.2882 time: 0.0610s\n",
      "Epoch: 0015 loss_train: 1.7849 acc_train: 0.2966 loss_val: 1.8245 acc_val: 0.2932 time: 0.0516s\n",
      "Epoch: 0016 loss_train: 1.7925 acc_train: 0.3022 loss_val: 1.8237 acc_val: 0.2932 time: 0.1010s\n",
      "Epoch: 0017 loss_train: 1.8010 acc_train: 0.2984 loss_val: 1.8249 acc_val: 0.2932 time: 0.2683s\n",
      "Epoch: 0018 loss_train: 1.7825 acc_train: 0.2828 loss_val: 1.8259 acc_val: 0.2932 time: 0.1781s\n",
      "Epoch: 0019 loss_train: 1.7804 acc_train: 0.2784 loss_val: 1.8258 acc_val: 0.2932 time: 0.1026s\n",
      "Epoch: 0020 loss_train: 1.7803 acc_train: 0.2959 loss_val: 1.8270 acc_val: 0.2932 time: 0.1439s\n",
      "Epoch: 0021 loss_train: 1.7705 acc_train: 0.2915 loss_val: 1.8306 acc_val: 0.2932 time: 0.1511s\n",
      "Epoch: 0022 loss_train: 1.7797 acc_train: 0.2871 loss_val: 1.8277 acc_val: 0.2932 time: 0.1104s\n",
      "Epoch: 0023 loss_train: 1.7780 acc_train: 0.3072 loss_val: 1.8226 acc_val: 0.2932 time: 0.0850s\n",
      "Epoch: 0024 loss_train: 1.7762 acc_train: 0.3009 loss_val: 1.8193 acc_val: 0.2932 time: 0.1289s\n",
      "Epoch: 0025 loss_train: 1.7722 acc_train: 0.2991 loss_val: 1.8187 acc_val: 0.2932 time: 0.0751s\n",
      "Epoch: 0026 loss_train: 1.7669 acc_train: 0.2940 loss_val: 1.8173 acc_val: 0.2907 time: 0.0508s\n",
      "Epoch: 0027 loss_train: 1.7650 acc_train: 0.2915 loss_val: 1.8156 acc_val: 0.3033 time: 0.0581s\n",
      "Epoch: 0028 loss_train: 1.7692 acc_train: 0.2978 loss_val: 1.8152 acc_val: 0.3083 time: 0.0769s\n",
      "Epoch: 0029 loss_train: 1.7568 acc_train: 0.2972 loss_val: 1.8150 acc_val: 0.3033 time: 0.0897s\n",
      "Epoch: 0030 loss_train: 1.7699 acc_train: 0.2940 loss_val: 1.8128 acc_val: 0.3058 time: 0.0506s\n",
      "Epoch: 0031 loss_train: 1.7635 acc_train: 0.2922 loss_val: 1.8098 acc_val: 0.3058 time: 0.0479s\n",
      "Epoch: 0032 loss_train: 1.7703 acc_train: 0.3110 loss_val: 1.8082 acc_val: 0.3133 time: 0.0514s\n",
      "Epoch: 0033 loss_train: 1.7587 acc_train: 0.3009 loss_val: 1.8084 acc_val: 0.3108 time: 0.0637s\n",
      "Epoch: 0034 loss_train: 1.7588 acc_train: 0.3110 loss_val: 1.8072 acc_val: 0.3108 time: 0.0601s\n",
      "Epoch: 0035 loss_train: 1.7610 acc_train: 0.3135 loss_val: 1.8037 acc_val: 0.3108 time: 0.0474s\n",
      "Epoch: 0036 loss_train: 1.7530 acc_train: 0.2903 loss_val: 1.8036 acc_val: 0.3108 time: 0.0574s\n",
      "Epoch: 0037 loss_train: 1.7474 acc_train: 0.3047 loss_val: 1.8008 acc_val: 0.3108 time: 0.0697s\n",
      "Epoch: 0038 loss_train: 1.7529 acc_train: 0.2884 loss_val: 1.7970 acc_val: 0.3033 time: 0.0598s\n",
      "Epoch: 0039 loss_train: 1.7455 acc_train: 0.2966 loss_val: 1.7953 acc_val: 0.3108 time: 0.1051s\n",
      "Epoch: 0040 loss_train: 1.7429 acc_train: 0.3110 loss_val: 1.7936 acc_val: 0.3058 time: 0.1424s\n",
      "Epoch: 0041 loss_train: 1.7409 acc_train: 0.3034 loss_val: 1.7931 acc_val: 0.3083 time: 0.0879s\n",
      "Epoch: 0042 loss_train: 1.7373 acc_train: 0.3060 loss_val: 1.7861 acc_val: 0.3083 time: 0.0600s\n",
      "Epoch: 0043 loss_train: 1.7400 acc_train: 0.3047 loss_val: 1.7814 acc_val: 0.3058 time: 0.0608s\n",
      "Epoch: 0044 loss_train: 1.7343 acc_train: 0.3103 loss_val: 1.8017 acc_val: 0.2581 time: 0.0523s\n",
      "Epoch: 0045 loss_train: 1.7408 acc_train: 0.3091 loss_val: 1.7781 acc_val: 0.2832 time: 0.0519s\n",
      "Epoch: 0046 loss_train: 1.7343 acc_train: 0.2991 loss_val: 1.7741 acc_val: 0.2632 time: 0.0618s\n",
      "Epoch: 0047 loss_train: 1.7329 acc_train: 0.3047 loss_val: 1.8159 acc_val: 0.2556 time: 0.0595s\n",
      "Epoch: 0048 loss_train: 1.7510 acc_train: 0.3078 loss_val: 1.7712 acc_val: 0.2932 time: 0.0494s\n",
      "Epoch: 0049 loss_train: 1.7301 acc_train: 0.3047 loss_val: 1.7723 acc_val: 0.3008 time: 0.0544s\n",
      "Epoch: 0050 loss_train: 1.7339 acc_train: 0.3034 loss_val: 1.7777 acc_val: 0.3058 time: 0.0589s\n",
      "Epoch: 0051 loss_train: 1.7220 acc_train: 0.2947 loss_val: 1.7726 acc_val: 0.3133 time: 0.0594s\n",
      "Epoch: 0052 loss_train: 1.7190 acc_train: 0.3028 loss_val: 1.7626 acc_val: 0.3033 time: 0.0507s\n",
      "Epoch: 0053 loss_train: 1.7106 acc_train: 0.3147 loss_val: 1.7597 acc_val: 0.2957 time: 0.0570s\n",
      "Epoch: 0054 loss_train: 1.7141 acc_train: 0.3091 loss_val: 1.7721 acc_val: 0.3033 time: 0.0633s\n",
      "Epoch: 0055 loss_train: 1.7043 acc_train: 0.3179 loss_val: 1.7530 acc_val: 0.3108 time: 0.0575s\n",
      "Epoch: 0056 loss_train: 1.7047 acc_train: 0.3003 loss_val: 1.7525 acc_val: 0.3058 time: 0.0473s\n",
      "Epoch: 0057 loss_train: 1.7113 acc_train: 0.2828 loss_val: 1.7590 acc_val: 0.3108 time: 0.0576s\n",
      "Epoch: 0058 loss_train: 1.7058 acc_train: 0.3091 loss_val: 1.7452 acc_val: 0.3083 time: 0.0690s\n",
      "Epoch: 0059 loss_train: 1.6934 acc_train: 0.3122 loss_val: 1.7428 acc_val: 0.3158 time: 0.0542s\n",
      "Epoch: 0060 loss_train: 1.6916 acc_train: 0.3135 loss_val: 1.7435 acc_val: 0.2882 time: 0.0542s\n",
      "Epoch: 0061 loss_train: 1.6841 acc_train: 0.3147 loss_val: 1.7356 acc_val: 0.3158 time: 0.0536s\n",
      "Epoch: 0062 loss_train: 1.6804 acc_train: 0.3191 loss_val: 1.7255 acc_val: 0.3208 time: 0.0738s\n",
      "Epoch: 0063 loss_train: 1.6804 acc_train: 0.3310 loss_val: 1.7524 acc_val: 0.3158 time: 0.1026s\n",
      "Epoch: 0064 loss_train: 1.7028 acc_train: 0.3047 loss_val: 1.7159 acc_val: 0.3233 time: 0.0752s\n",
      "Epoch: 0065 loss_train: 1.6675 acc_train: 0.3210 loss_val: 1.7157 acc_val: 0.3534 time: 0.0758s\n",
      "Epoch: 0066 loss_train: 1.6785 acc_train: 0.3398 loss_val: 1.7433 acc_val: 0.3083 time: 0.0555s\n",
      "Epoch: 0067 loss_train: 1.7094 acc_train: 0.3204 loss_val: 1.7369 acc_val: 0.3734 time: 0.0557s\n",
      "Epoch: 0068 loss_train: 1.7013 acc_train: 0.3436 loss_val: 1.7056 acc_val: 0.3358 time: 0.0589s\n",
      "Epoch: 0069 loss_train: 1.6643 acc_train: 0.3354 loss_val: 1.7104 acc_val: 0.3283 time: 0.0719s\n",
      "Epoch: 0070 loss_train: 1.6637 acc_train: 0.3530 loss_val: 1.6870 acc_val: 0.3584 time: 0.0618s\n",
      "Epoch: 0071 loss_train: 1.6554 acc_train: 0.3536 loss_val: 1.7122 acc_val: 0.3258 time: 0.0795s\n",
      "Epoch: 0072 loss_train: 1.6840 acc_train: 0.3486 loss_val: 1.7174 acc_val: 0.3509 time: 0.1534s\n",
      "Epoch: 0073 loss_train: 1.6975 acc_train: 0.3398 loss_val: 1.6744 acc_val: 0.3434 time: 0.0822s\n",
      "Epoch: 0074 loss_train: 1.6369 acc_train: 0.3643 loss_val: 1.6969 acc_val: 0.3609 time: 0.0606s\n",
      "Epoch: 0075 loss_train: 1.6724 acc_train: 0.3480 loss_val: 1.6911 acc_val: 0.3434 time: 0.0749s\n",
      "Epoch: 0076 loss_train: 1.6635 acc_train: 0.3467 loss_val: 1.6725 acc_val: 0.3459 time: 0.0500s\n",
      "Epoch: 0077 loss_train: 1.6353 acc_train: 0.3599 loss_val: 1.6785 acc_val: 0.3634 time: 0.0603s\n",
      "Epoch: 0078 loss_train: 1.6417 acc_train: 0.3599 loss_val: 1.6639 acc_val: 0.3383 time: 0.0672s\n",
      "Epoch: 0079 loss_train: 1.6385 acc_train: 0.3699 loss_val: 1.7080 acc_val: 0.3509 time: 0.0575s\n",
      "Epoch: 0080 loss_train: 1.6726 acc_train: 0.3392 loss_val: 1.6750 acc_val: 0.3409 time: 0.0514s\n",
      "Epoch: 0081 loss_train: 1.6495 acc_train: 0.3436 loss_val: 1.6662 acc_val: 0.3684 time: 0.0540s\n",
      "Epoch: 0082 loss_train: 1.6357 acc_train: 0.3774 loss_val: 1.6845 acc_val: 0.3459 time: 0.0595s\n",
      "Epoch: 0083 loss_train: 1.6436 acc_train: 0.3524 loss_val: 1.6976 acc_val: 0.3409 time: 0.0623s\n",
      "Epoch: 0084 loss_train: 1.6446 acc_train: 0.3580 loss_val: 1.6723 acc_val: 0.3158 time: 0.0517s\n",
      "Epoch: 0085 loss_train: 1.6431 acc_train: 0.3643 loss_val: 1.6522 acc_val: 0.3684 time: 0.0596s\n",
      "Epoch: 0086 loss_train: 1.6132 acc_train: 0.3749 loss_val: 1.6438 acc_val: 0.3784 time: 0.0665s\n",
      "Epoch: 0087 loss_train: 1.6127 acc_train: 0.3655 loss_val: 1.6691 acc_val: 0.3684 time: 0.0608s\n",
      "Epoch: 0088 loss_train: 1.6396 acc_train: 0.3517 loss_val: 1.6247 acc_val: 0.3759 time: 0.0480s\n"
     ]
    },
    {
     "name": "stdout",
     "output_type": "stream",
     "text": [
      "Epoch: 0089 loss_train: 1.6046 acc_train: 0.3862 loss_val: 1.6338 acc_val: 0.3985 time: 0.0555s\n",
      "Epoch: 0090 loss_train: 1.6602 acc_train: 0.3404 loss_val: 1.6602 acc_val: 0.3659 time: 0.0682s\n",
      "Epoch: 0091 loss_train: 1.6233 acc_train: 0.3680 loss_val: 1.6958 acc_val: 0.3584 time: 0.0976s\n",
      "Epoch: 0092 loss_train: 1.6494 acc_train: 0.3668 loss_val: 1.6457 acc_val: 0.3684 time: 0.1186s\n",
      "Epoch: 0093 loss_train: 1.6169 acc_train: 0.3699 loss_val: 1.6645 acc_val: 0.3484 time: 0.0826s\n",
      "Epoch: 0094 loss_train: 1.6381 acc_train: 0.3699 loss_val: 1.6333 acc_val: 0.3584 time: 0.0714s\n",
      "Epoch: 0095 loss_train: 1.6134 acc_train: 0.3755 loss_val: 1.6877 acc_val: 0.3459 time: 0.0470s\n",
      "Epoch: 0096 loss_train: 1.6694 acc_train: 0.3630 loss_val: 1.6269 acc_val: 0.3734 time: 0.0627s\n",
      "Epoch: 0097 loss_train: 1.6065 acc_train: 0.3893 loss_val: 1.6841 acc_val: 0.4035 time: 0.0660s\n",
      "Epoch: 0098 loss_train: 1.6931 acc_train: 0.3492 loss_val: 1.6401 acc_val: 0.3935 time: 0.0469s\n",
      "Epoch: 0099 loss_train: 1.6197 acc_train: 0.3862 loss_val: 1.6601 acc_val: 0.3484 time: 0.0521s\n",
      "Epoch: 0100 loss_train: 1.6315 acc_train: 0.3567 loss_val: 1.6646 acc_val: 0.3484 time: 0.0708s\n",
      "Epoch: 0101 loss_train: 1.6258 acc_train: 0.3699 loss_val: 1.6242 acc_val: 0.3634 time: 0.0603s\n",
      "Epoch: 0102 loss_train: 1.6037 acc_train: 0.3774 loss_val: 1.6344 acc_val: 0.3784 time: 0.0458s\n",
      "Epoch: 0103 loss_train: 1.6159 acc_train: 0.3580 loss_val: 1.6147 acc_val: 0.3935 time: 0.0546s\n",
      "Epoch: 0104 loss_train: 1.6006 acc_train: 0.3730 loss_val: 1.6371 acc_val: 0.3810 time: 0.0696s\n",
      "Epoch: 0105 loss_train: 1.5933 acc_train: 0.3611 loss_val: 1.6228 acc_val: 0.3634 time: 0.0562s\n",
      "Epoch: 0106 loss_train: 1.5882 acc_train: 0.3762 loss_val: 1.6114 acc_val: 0.3810 time: 0.0516s\n",
      "Epoch: 0107 loss_train: 1.5977 acc_train: 0.3881 loss_val: 1.6157 acc_val: 0.3810 time: 0.1892s\n",
      "Epoch: 0108 loss_train: 1.5969 acc_train: 0.3912 loss_val: 1.6133 acc_val: 0.3759 time: 0.1002s\n",
      "Epoch: 0109 loss_train: 1.5880 acc_train: 0.3868 loss_val: 1.6247 acc_val: 0.3759 time: 0.0550s\n",
      "Epoch: 0110 loss_train: 1.5910 acc_train: 0.3893 loss_val: 1.5943 acc_val: 0.4160 time: 0.0541s\n",
      "Epoch: 0111 loss_train: 1.5760 acc_train: 0.4000 loss_val: 1.6006 acc_val: 0.3885 time: 0.0613s\n",
      "Epoch: 0112 loss_train: 1.5820 acc_train: 0.3824 loss_val: 1.6018 acc_val: 0.3885 time: 0.0493s\n",
      "Epoch: 0113 loss_train: 1.5601 acc_train: 0.3881 loss_val: 1.6220 acc_val: 0.3784 time: 0.0500s\n",
      "Epoch: 0114 loss_train: 1.6087 acc_train: 0.3918 loss_val: 1.6121 acc_val: 0.3960 time: 0.0604s\n",
      "Epoch: 0115 loss_train: 1.5749 acc_train: 0.4082 loss_val: 1.6106 acc_val: 0.3960 time: 0.0594s\n",
      "Epoch: 0116 loss_train: 1.5747 acc_train: 0.3925 loss_val: 1.6078 acc_val: 0.3960 time: 0.0500s\n",
      "Epoch: 0117 loss_train: 1.5958 acc_train: 0.3724 loss_val: 1.6772 acc_val: 0.3634 time: 0.0447s\n",
      "Epoch: 0118 loss_train: 1.6225 acc_train: 0.3900 loss_val: 1.6374 acc_val: 0.3659 time: 0.0500s\n",
      "Epoch: 0119 loss_train: 1.6043 acc_train: 0.3962 loss_val: 1.6363 acc_val: 0.4085 time: 0.0589s\n",
      "Epoch: 0120 loss_train: 1.6200 acc_train: 0.4050 loss_val: 1.6191 acc_val: 0.4185 time: 0.0653s\n",
      "Epoch: 0121 loss_train: 1.6008 acc_train: 0.4031 loss_val: 1.6337 acc_val: 0.3634 time: 0.0613s\n",
      "Epoch: 0122 loss_train: 1.6016 acc_train: 0.3618 loss_val: 1.6384 acc_val: 0.3910 time: 0.0526s\n",
      "Epoch: 0123 loss_train: 1.6001 acc_train: 0.3975 loss_val: 1.5951 acc_val: 0.3734 time: 0.0532s\n",
      "Epoch: 0124 loss_train: 1.5839 acc_train: 0.4025 loss_val: 1.6060 acc_val: 0.4035 time: 0.0502s\n",
      "Epoch: 0125 loss_train: 1.6141 acc_train: 0.4013 loss_val: 1.6103 acc_val: 0.3759 time: 0.0955s\n",
      "Epoch: 0126 loss_train: 1.6015 acc_train: 0.3818 loss_val: 1.6200 acc_val: 0.3709 time: 0.1169s\n",
      "Epoch: 0127 loss_train: 1.5882 acc_train: 0.3987 loss_val: 1.5898 acc_val: 0.3885 time: 0.1001s\n",
      "Epoch: 0128 loss_train: 1.5652 acc_train: 0.4107 loss_val: 1.6224 acc_val: 0.3709 time: 0.1313s\n",
      "Epoch: 0129 loss_train: 1.6379 acc_train: 0.3605 loss_val: 1.6105 acc_val: 0.3734 time: 0.1217s\n",
      "Epoch: 0130 loss_train: 1.5794 acc_train: 0.4000 loss_val: 1.6361 acc_val: 0.3734 time: 0.1441s\n",
      "Epoch: 0131 loss_train: 1.6006 acc_train: 0.4013 loss_val: 1.6263 acc_val: 0.3910 time: 0.1298s\n",
      "Epoch: 0132 loss_train: 1.6148 acc_train: 0.4019 loss_val: 1.6244 acc_val: 0.4085 time: 0.1154s\n",
      "Epoch: 0133 loss_train: 1.6013 acc_train: 0.3969 loss_val: 1.5975 acc_val: 0.4311 time: 0.1152s\n",
      "Epoch: 0134 loss_train: 1.5619 acc_train: 0.3944 loss_val: 1.5984 acc_val: 0.4185 time: 0.1097s\n",
      "Epoch: 0135 loss_train: 1.5607 acc_train: 0.3937 loss_val: 1.5832 acc_val: 0.4311 time: 0.1038s\n",
      "Epoch: 0136 loss_train: 1.5585 acc_train: 0.3931 loss_val: 1.5713 acc_val: 0.4010 time: 0.0745s\n",
      "Epoch: 0137 loss_train: 1.5578 acc_train: 0.4144 loss_val: 1.6017 acc_val: 0.3759 time: 0.0485s\n",
      "Epoch: 0138 loss_train: 1.5633 acc_train: 0.3987 loss_val: 1.5967 acc_val: 0.3759 time: 0.0475s\n",
      "Epoch: 0139 loss_train: 1.5711 acc_train: 0.3944 loss_val: 1.5806 acc_val: 0.3960 time: 0.0572s\n",
      "Epoch: 0140 loss_train: 1.5493 acc_train: 0.4025 loss_val: 1.5836 acc_val: 0.4160 time: 0.0593s\n",
      "Epoch: 0141 loss_train: 1.5764 acc_train: 0.4088 loss_val: 1.5735 acc_val: 0.4110 time: 0.0452s\n",
      "Epoch: 0142 loss_train: 1.5585 acc_train: 0.4050 loss_val: 1.6517 acc_val: 0.3885 time: 0.0491s\n",
      "Epoch: 0143 loss_train: 1.6063 acc_train: 0.3975 loss_val: 1.5969 acc_val: 0.4060 time: 0.0462s\n",
      "Epoch: 0144 loss_train: 1.5530 acc_train: 0.3799 loss_val: 1.6033 acc_val: 0.4536 time: 0.0609s\n",
      "Epoch: 0145 loss_train: 1.5707 acc_train: 0.4125 loss_val: 1.6072 acc_val: 0.4236 time: 0.0527s\n",
      "Epoch: 0146 loss_train: 1.5644 acc_train: 0.4408 loss_val: 1.5863 acc_val: 0.3885 time: 0.0491s\n",
      "Epoch: 0147 loss_train: 1.5569 acc_train: 0.4157 loss_val: 1.6267 acc_val: 0.3810 time: 0.0474s\n",
      "Epoch: 0148 loss_train: 1.5838 acc_train: 0.4125 loss_val: 1.5664 acc_val: 0.4211 time: 0.0460s\n",
      "Epoch: 0149 loss_train: 1.5375 acc_train: 0.4194 loss_val: 1.6141 acc_val: 0.4160 time: 0.0793s\n",
      "Epoch: 0150 loss_train: 1.6290 acc_train: 0.3887 loss_val: 1.5698 acc_val: 0.3835 time: 0.1457s\n"
     ]
    },
    {
     "data": {
      "image/png": "[encoded data removed]",
      "text/plain": [
       "<Figure size 432x576 with 2 Axes>"
      ]
     },
     "metadata": {
      "needs_background": "light"
     },
     "output_type": "display_data"
    },
    {
     "name": "stdout",
     "output_type": "stream",
     "text": [
      "Total time elapsed: 12.1165s\n"
     ]
    }
   ],
   "source": [
    "# Train model\n",
    "t_total = time.time()\n",
    "train_accuracies, train_losses = [], []\n",
    "val_accuracies, val_losses = [], []\n",
    "\n",
    "for t in range(num_epochs):\n",
    "    train_loss, train_acc, val_loss, val_acc = train_gcn(X_bert,t)\n",
    "    train_losses.append(train_loss)\n",
    "    train_accuracies.append(train_acc)\n",
    "    val_losses.append(val_loss)\n",
    "    val_accuracies.append(val_acc)\n",
    "    \n",
    "fig, axs = plt.subplots(2,1, figsize=(6,8))\n",
    "axs[0].plot(train_losses[::5], label=\"train\")\n",
    "axs[0].plot(val_losses[::5], label=\"validation\")\n",
    "axs[0].set_title('Loss')\n",
    "axs[0].legend(loc='best')\n",
    "\n",
    "axs[1].plot(train_accuracies[::5], label='train')\n",
    "axs[1].plot(val_accuracies[::5], label='validation')\n",
    "axs[1].set_ylim(0, 1.1)\n",
    "axs[1].set_ylabel(\"accuracy\")\n",
    "axs[1].legend(loc='best')\n",
    "plt.show()\n",
    "print(\"Total time elapsed: {:.4f}s\".format(time.time() - t_total))"
   ]
  }
 ],
 "metadata": {
  "kernelspec": {
   "display_name": "Python 3",
   "language": "python",
   "name": "python3"
  },
  "language_info": {
   "codemirror_mode": {
    "name": "ipython",
    "version": 3
   },
   "file_extension": ".py",
   "mimetype": "text/x-python",
   "name": "python",
   "nbconvert_exporter": "python",
   "pygments_lexer": "ipython3",
   "version": "3.7.4"
  }
 },
 "nbformat": 4,
 "nbformat_minor": 2
}
