{
  "nbformat": 4,
  "nbformat_minor": 0,
  "metadata": {
    "colab": {
      "name": "AlteGrad_TP1_ABBOUDI.ipynb",
      "provenance": [],
      "collapsed_sections": []
    },
    "kernelspec": {
      "name": "python3",
      "display_name": "Python 3"
    }
  },
  "cells": [
    {
      "cell_type": "code",
      "metadata": {
        "id": "D383Hwryd4qD",
        "colab_type": "code",
        "outputId": "51616d2e-849d-4333-8285-f27e867f4234",
        "colab": {
          "base_uri": "https://localhost:8080/",
          "height": 292
        }
      },
      "source": [
        "! pip install python-igraph\n",
        "import re \n",
        "import itertools\n",
        "import operator\n",
        "import copy\n",
        "import igraph\n",
        "import heapq\n",
        "import nltk\n",
        "# requires nltk 3.2.1\n",
        "nltk.download('maxent_treebank_pos_tagger')\n",
        "nltk.download('stopwords')\n",
        "from nltk import pos_tag # nltk.download('maxent_treebank_pos_tagger')\n",
        "\n",
        "def clean_text_simple(text, my_stopwords, punct, remove_stopwords=True, pos_filtering=True, stemming=True):\n",
        "    text = text.lower()\n",
        "    text = ''.join(l for l in text if l not in punct) # remove punctuation (preserving intra-word dashes)\n",
        "    text = re.sub(' +',' ',text) # strip extra white space\n",
        "    text = text.strip() # strip leading and trailing white space\n",
        "    tokens = text.split(' ') # tokenize (split based on whitespace)\n",
        "    if pos_filtering == True:\n",
        "        # POS-tag and retain only nouns and adjectives\n",
        "        tagged_tokens = pos_tag(tokens)\n",
        "        tokens_keep = []\n",
        "        for item in tagged_tokens:\n",
        "            if (\n",
        "            item[1] == 'NN' or\n",
        "            item[1] == 'NNS' or\n",
        "            item[1] == 'NNP' or\n",
        "            item[1] == 'NNPS' or\n",
        "            item[1] == 'JJ' or\n",
        "            item[1] == 'JJS' or\n",
        "            item[1] == 'JJR'\n",
        "            ):\n",
        "                tokens_keep.append(item[0])\n",
        "        tokens = tokens_keep\n",
        "    if remove_stopwords:\n",
        "        tokens = [token for token in tokens if token not in my_stopwords]\n",
        "    if stemming:\n",
        "        stemmer = nltk.stem.PorterStemmer()\n",
        "        tokens_stemmed = list()\n",
        "        for token in tokens:\n",
        "            tokens_stemmed.append(stemmer.stem(token))\n",
        "        tokens = tokens_stemmed\n",
        "    \n",
        "    return(tokens)\n",
        "\n",
        "\n",
        "def terms_to_graph(terms, window_size):\n",
        "    '''This function returns a directed, weighted igraph from lists of list of terms (the tokens from the pre-processed text)\n",
        "    e.g., ['quick','brown','fox']\n",
        "    Edges are weighted based on term co-occurence within a sliding window of fixed size 'w'\n",
        "    '''\n",
        "    \n",
        "    from_to = {}\n",
        "\n",
        "    w = min(window_size, len(terms))\n",
        "    # create initial complete graph (first w terms)\n",
        "    terms_temp = terms[0:w]\n",
        "    indexes = list(itertools.combinations(range(w), r=2))\n",
        "\n",
        "    new_edges = []\n",
        "\n",
        "    for my_tuple in indexes:\n",
        "        new_edges.append(tuple([terms_temp[i] for i in my_tuple]))\n",
        "    for new_edge in new_edges:\n",
        "        if new_edge in from_to:\n",
        "            from_to[new_edge] += 1\n",
        "        else:\n",
        "            from_to[new_edge] = 1\n",
        "\n",
        "    # then iterate over the remaining terms\n",
        "    for i in range(w, len(terms)):\n",
        "        # term to consider\n",
        "        considered_term = terms[i]\n",
        "        # all terms within sliding window\n",
        "        terms_temp = terms[(i - w + 1):(i + 1)]\n",
        "\n",
        "        # edges to try\n",
        "        candidate_edges = []\n",
        "        for p in range(w - 1):\n",
        "            candidate_edges.append((terms_temp[p], considered_term))\n",
        "\n",
        "        for try_edge in candidate_edges:\n",
        "\n",
        "            # if not self-edge\n",
        "            if try_edge[1] != try_edge[0]:\n",
        "\n",
        "                # if edge has already been seen, update its weight\n",
        "                if try_edge in from_to:\n",
        "                    from_to[try_edge] += 1\n",
        "\n",
        "                # if edge has never been seen, create it and assign it a unit weight\n",
        "                else:\n",
        "                    from_to[try_edge] = 1\n",
        "\n",
        "    # create empty graph\n",
        "    g = igraph.Graph(directed=True)\n",
        "\n",
        "    # add vertices\n",
        "    g.add_vertices(sorted(set(terms)))\n",
        "\n",
        "    # add edges, direction is preserved since the graph is directed\n",
        "    g.add_edges(list(from_to.keys()))\n",
        "\n",
        "    # set edge and vertice weights\n",
        "    g.es['weight'] = list(from_to.values()) # based on co-occurence within sliding window\n",
        "    g.vs['weight'] = g.strength(weights=list(from_to.values())) # weighted degree\n",
        "\n",
        "    return (g)"
      ],
      "execution_count": 0,
      "outputs": [
        {
          "output_type": "stream",
          "text": [
            "Collecting python-igraph\n",
            "\u001b[?25l  Downloading https://files.pythonhosted.org/packages/0f/a0/4e7134f803737aa6eebb4e5250565ace0e2599659e22be7f7eba520ff017/python-igraph-0.7.1.post6.tar.gz (377kB)\n",
            "\u001b[K     |████████████████████████████████| 378kB 2.7MB/s \n",
            "\u001b[?25hBuilding wheels for collected packages: python-igraph\n",
            "  Building wheel for python-igraph (setup.py) ... \u001b[?25l\u001b[?25hdone\n",
            "  Created wheel for python-igraph: filename=python_igraph-0.7.1.post6-cp36-cp36m-linux_x86_64.whl size=2219402 sha256=3ecbe3a80ba7499ff57be8d71df38c86bc4228c7a8cc28d0c705dcfbfed47b7b\n",
            "  Stored in directory: /root/.cache/pip/wheels/41/d6/02/34eebae97e25f5b87d60f4c0687e00523e3f244fa41bc3f4a7\n",
            "Successfully built python-igraph\n",
            "Installing collected packages: python-igraph\n",
            "Successfully installed python-igraph-0.7.1.post6\n",
            "[nltk_data] Downloading package maxent_treebank_pos_tagger to\n",
            "[nltk_data]     /root/nltk_data...\n",
            "[nltk_data]   Unzipping taggers/maxent_treebank_pos_tagger.zip.\n",
            "[nltk_data] Downloading package stopwords to /root/nltk_data...\n",
            "[nltk_data]   Unzipping corpora/stopwords.zip.\n"
          ],
          "name": "stdout"
        }
      ]
    },
    {
      "cell_type": "code",
      "metadata": {
        "id": "D7pSQkY1d8pS",
        "colab_type": "code",
        "outputId": "e17fc0d8-c7c2-4dc7-8978-7e1493b27a98",
        "colab": {
          "base_uri": "https://localhost:8080/",
          "height": 156
        }
      },
      "source": [
        "from nltk.corpus import stopwords\n",
        "import string\n",
        "\n",
        "nltk.download('averaged_perceptron_tagger')\n",
        "\n",
        "stpwds = stopwords.words('english')\n",
        "punct = string.punctuation.replace('-', '')\n",
        "\n",
        "my_doc = 'A method for solution of systems of linear algebraic equations \\\n",
        "with m-dimensional lambda matrices. A system of linear algebraic \\\n",
        "equations with m-dimensional lambda matrices is considered. \\\n",
        "The proposed method of searching for the solution of this system \\\n",
        "lies in reducing it to a numerical system of a special kind.'\n",
        "\n",
        "my_doc = my_doc.replace('\\n', '')\n",
        "\n",
        "# pre-process document\n",
        "my_tokens = clean_text_simple(my_doc,my_stopwords=stpwds,punct=punct)\n",
        "\n",
        "g = terms_to_graph(my_tokens, 4)\n",
        "\n",
        "# number of edges\n",
        "print(len(g.es))\n",
        "\n",
        "# the number of nodes should be equal to the number of unique terms\n",
        "print(len(g.vs) == len(set(my_tokens)))\n",
        "\n",
        "edge_weights = []\n",
        "for edge in g.es:\n",
        "    source = g.vs[edge.source]['name']\n",
        "    target = g.vs[edge.target]['name']\n",
        "    weight = edge['weight']\n",
        "    edge_weights.append([source, target, weight])\n",
        "\n",
        "print(edge_weights)"
      ],
      "execution_count": 0,
      "outputs": [
        {
          "output_type": "stream",
          "text": [
            "[nltk_data] Downloading package averaged_perceptron_tagger to\n",
            "[nltk_data]     /root/nltk_data...\n",
            "[nltk_data]   Package averaged_perceptron_tagger is already up-to-\n",
            "[nltk_data]       date!\n",
            "42\n",
            "True\n",
            "[['method', 'solut', 2], ['method', 'system', 2], ['method', 'linear', 1], ['solut', 'system', 3], ['solut', 'linear', 1], ['system', 'linear', 2], ['solut', 'algebra', 1], ['system', 'algebra', 2], ['linear', 'algebra', 2], ['system', 'equat', 2], ['linear', 'equat', 2], ['algebra', 'equat', 2], ['linear', 'm-dimension', 2], ['algebra', 'm-dimension', 2], ['equat', 'm-dimension', 2], ['algebra', 'lambda', 2], ['equat', 'lambda', 2], ['m-dimension', 'lambda', 2], ['equat', 'system', 1], ['m-dimension', 'system', 1], ['lambda', 'system', 1], ['m-dimension', 'linear', 1], ['lambda', 'linear', 1], ['lambda', 'algebra', 1], ['equat', 'matric', 1], ['m-dimension', 'matric', 1], ['lambda', 'matric', 1], ['m-dimension', 'method', 1], ['lambda', 'method', 1], ['matric', 'method', 1], ['lambda', 'solut', 1], ['matric', 'solut', 1], ['matric', 'system', 1], ['method', 'numer', 1], ['solut', 'numer', 1], ['system', 'numer', 1], ['numer', 'system', 1], ['system', 'special', 2], ['numer', 'special', 1], ['numer', 'kind', 1], ['system', 'kind', 1], ['special', 'kind', 1]]\n"
          ],
          "name": "stdout"
        }
      ]
    },
    {
      "cell_type": "code",
      "metadata": {
        "id": "C8feVWVEig1I",
        "colab_type": "code",
        "outputId": "4d7030c9-4860-41fb-88e0-53b6baee1e67",
        "colab": {
          "base_uri": "https://localhost:8080/",
          "height": 283
        }
      },
      "source": [
        "import matplotlib.pyplot as plt\n",
        "\n",
        "densities = []\n",
        "W = range(2,10)\n",
        "for w in W:\n",
        "    g = terms_to_graph(my_tokens, w)\n",
        "    densities.append(g.density())\n",
        "\n",
        "plt.plot(W,densities)\n",
        "plt.xlabel('Sliding window size')\n",
        "plt.ylabel('Density of the created graph')\n",
        "plt.show()"
      ],
      "execution_count": 0,
      "outputs": [
        {
          "output_type": "display_data",
          "data": {
            "image/png": "[encoded data removed]",
            "text/plain": [
              "<Figure size 432x288 with 1 Axes>"
            ]
          },
          "metadata": {
            "tags": []
          }
        }
      ]
    },
    {
      "cell_type": "code",
      "metadata": {
        "id": "NEucuIU3lxRL",
        "colab_type": "code",
        "outputId": "4b2e4f86-6016-4276-95fd-cae012543cfd",
        "colab": {
          "base_uri": "https://localhost:8080/",
          "height": 283
        }
      },
      "source": [
        "densities = []\n",
        "W = range(2,10)\n",
        "for w in W:\n",
        "    g = terms_to_graph(my_tokens, len(my_tokens))\n",
        "    densities.append(g.density()*(len(g.vs())-1))\n",
        "\n",
        "plt.plot(W,densities)\n",
        "plt.xlabel('Sliding window size')\n",
        "plt.ylabel('Average number of neighbors per node')\n",
        "plt.show()"
      ],
      "execution_count": 0,
      "outputs": [
        {
          "output_type": "display_data",
          "data": {
            "image/png": "[encoded data removed]",
            "text/plain": [
              "<Figure size 432x288 with 1 Axes>"
            ]
          },
          "metadata": {
            "tags": []
          }
        }
      ]
    },
    {
      "cell_type": "code",
      "metadata": {
        "id": "DBboNYlI0ykm",
        "colab_type": "code",
        "outputId": "89a839a4-9846-4a37-c571-6746c4ea4c4a",
        "colab": {
          "base_uri": "https://localhost:8080/",
          "height": 54
        }
      },
      "source": [
        "edge_weights = []\n",
        "for edge in g.es:\n",
        "    source = g.vs[edge.source]['name']\n",
        "    target = g.vs[edge.target]['name']\n",
        "    weight = edge['weight']\n",
        "    edge_weights.append([source, target, weight])\n",
        "\n",
        "print(edge_weights)"
      ],
      "execution_count": 0,
      "outputs": [
        {
          "output_type": "stream",
          "text": [
            "[['solut', 'system', 3], ['solut', 'linear', 1], ['system', 'linear', 2], ['solut', 'algebra', 1], ['system', 'algebra', 2], ['linear', 'algebra', 2], ['system', 'equat', 2], ['linear', 'equat', 2], ['algebra', 'equat', 2], ['linear', 'm-dimension', 2], ['algebra', 'm-dimension', 2], ['equat', 'm-dimension', 2], ['algebra', 'lambda', 2], ['equat', 'lambda', 2], ['m-dimension', 'lambda', 2], ['equat', 'system', 1], ['m-dimension', 'system', 1], ['lambda', 'system', 1], ['m-dimension', 'linear', 1], ['lambda', 'linear', 1], ['lambda', 'algebra', 1], ['equat', 'matric', 1], ['m-dimension', 'matric', 1], ['lambda', 'matric', 1], ['lambda', 'solut', 1], ['matric', 'solut', 1], ['matric', 'system', 1], ['solut', 'numer', 1], ['system', 'numer', 1], ['numer', 'system', 1], ['system', 'special', 2], ['numer', 'special', 1], ['numer', 'kind', 1], ['system', 'kind', 1], ['special', 'kind', 1]]\n"
          ],
          "name": "stdout"
        }
      ]
    },
    {
      "cell_type": "code",
      "metadata": {
        "id": "JRrdF23r-fZZ",
        "colab_type": "code",
        "colab": {}
      },
      "source": [
        "def core_dec(g,weighted):\n",
        "    '''(un)weighted k-core decomposition'''\n",
        "    # work on clone of g to preserve g \n",
        "    gg = copy.deepcopy(g)\n",
        "    if not weighted:\n",
        "        gg.vs['weight'] = gg.strength() # overwrite the 'weight' vertex attribute with the unweighted degrees\n",
        "    # initialize dictionary that will contain the core numbers\n",
        "    cores_g = dict(zip(gg.vs['name'],[0]*len(gg.vs)))\n",
        "    \n",
        "    while len(gg.vs) > 0:\n",
        "        # find index of lowest degree vertex\n",
        "        min_degree = min(gg.vs['weight'])\n",
        "        index_top = gg.vs['weight'].index(min_degree)\n",
        "        name_top = gg.vs[index_top]['name']\n",
        "        # get names of its neighbors\n",
        "        neighbors = gg.vs[gg.neighbors(index_top)]['name']\n",
        "        # exclude self-edges\n",
        "        neighbors = [elt for elt in neighbors if elt!=name_top]\n",
        "        # set core number of lowest degree vertex as its degree\n",
        "        cores_g[name_top] = min_degree\n",
        "        gg.delete_vertices(name_top)\n",
        "        ### fill the gap (delete top vertex and its incident edges) ###\n",
        "        \n",
        "        if neighbors:\n",
        "            if weighted: \n",
        "                new_degrees = gg.strength(weights = list(gg.es[\"weight\"]))\n",
        "                ### fill the gap (compute the new weighted degrees, save results as 'new_degrees')\n",
        "            else:\n",
        "                ### fill the gap (same as above but for the basic degree) ###\n",
        "                new_degrees = gg.strength()\n",
        "            # iterate over neighbors of top element\n",
        "            for neigh in neighbors:\n",
        "                index_n = gg.vs['name'].index(neigh)\n",
        "                gg.vs[index_n]['weight'] = max(min_degree,new_degrees[index_n])  \n",
        "        \n",
        "    return(cores_g)\n"
      ],
      "execution_count": 0,
      "outputs": []
    },
    {
      "cell_type": "code",
      "metadata": {
        "id": "g8HmvfSd3A4-",
        "colab_type": "code",
        "outputId": "329967e1-3dfd-4000-ec02-6d950970c837",
        "colab": {
          "base_uri": "https://localhost:8080/",
          "height": 286
        }
      },
      "source": [
        "import matplotlib.pyplot as plt\n",
        "\n",
        "core_numbers = core_dec(g,False)\n",
        "plt.scatter(range(len(core_numbers)),g.coreness(), s = 100)\n",
        "plt.scatter(range(len(core_numbers)),core_numbers.values())\n"
      ],
      "execution_count": 0,
      "outputs": [
        {
          "output_type": "execute_result",
          "data": {
            "text/plain": [
              "<matplotlib.collections.PathCollection at 0x7f556af3ffd0>"
            ]
          },
          "metadata": {
            "tags": []
          },
          "execution_count": 132
        },
        {
          "output_type": "display_data",
          "data": {
            "image/png": "[encoded data removed]",
            "text/plain": [
              "<Figure size 432x288 with 1 Axes>"
            ]
          },
          "metadata": {
            "tags": []
          }
        }
      ]
    },
    {
      "cell_type": "code",
      "metadata": {
        "id": "F9PHwPJM3DjN",
        "colab_type": "code",
        "colab": {}
      },
      "source": [
        "def accuracy_metrics(candidate, truth):\n",
        "    # true positives ('hits') are both in candidate and in truth\n",
        "    tp = len(set(candidate).intersection(truth))\n",
        "    \n",
        "    # false positives a.k.a. false alarms are in candidate but not in truth\n",
        "    fp = len([element for element in candidate if element not in truth])\n",
        "    \n",
        "    ### fill the gap (compute false negatives a.k.a. misses, save results as 'fn')\n",
        "    fn = len([element for element in truth if element not in candidate])\n",
        "    \n",
        "    ### fill the gaps (compute precision and recall as a function of 'tp', 'fp' and 'fn', save results as 'prec' and 'rec') ###\n",
        "    \n",
        "    prec = tp/(tp+fp)\n",
        "    \n",
        "    rec = tp/(tp+fn)\n",
        "    \n",
        "    if prec+rec != 0:\n",
        "        f1 = 2*prec*rec/(prec+rec)\n",
        "    else:\n",
        "        f1 = 0\n",
        "    \n",
        "    return (prec, rec, f1)\n"
      ],
      "execution_count": 0,
      "outputs": []
    },
    {
      "cell_type": "code",
      "metadata": {
        "id": "VyjVGMJrCr0l",
        "colab_type": "code",
        "outputId": "b0e814d3-6827-4666-d2b0-585c05271681",
        "colab": {
          "base_uri": "https://localhost:8080/",
          "height": 340
        }
      },
      "source": [
        "import os\n",
        "import string\n",
        "import re \n",
        "import operator\n",
        "import nltk\n",
        "from nltk.corpus import stopwords\n",
        "from google.colab import drive\n",
        "\n",
        "from sklearn.feature_extraction.text import TfidfVectorizer\n",
        "\n",
        "\n",
        "stemmer = nltk.stem.PorterStemmer()\n",
        "stpwds = stopwords.words('english')\n",
        "punct = string.punctuation.replace('-', '')\n",
        "\n",
        "# Montage du Drive Google\n",
        "\n",
        "drive.mount(\"/content/drive\")\n",
        "\n",
        "# Mise en Place du répertoire de travail\n",
        "\n",
        "path_to_folder = \"/content/drive/My Drive/Colab Notebooks\"\n",
        "os.chdir(path_to_folder)\n",
        "!ls"
      ],
      "execution_count": 0,
      "outputs": [
        {
          "output_type": "stream",
          "text": [
            "Drive already mounted at /content/drive; to attempt to forcibly remount, call drive.mount(\"/content/drive\", force_remount=True).\n",
            "'20191010_DL1_20192020_Lab_keras_imdb_students (1).ipynb'\n",
            " 20191010_DL1_20192020_Lab_keras_imdb_students.ipynb\n",
            " AlteGrad_TP1_ABBOUDI.ipynb\n",
            " ANN_PARAMETRES_DE_MARCHE.ipynb\n",
            " Backpropagation_numpy.ipynb\n",
            " data\n",
            " dl_notebook1_python.ipynb\n",
            " dl_notebook2_pytorch.ipynb\n",
            "'DS_Deep_lab1_1 (1).ipynb'\n",
            " DS_Deep_lab1_2.ipynb\n",
            " image_captioning_0.ipynb\n",
            " ImageClassification.ipynb\n",
            " lab1_MLP.ipynb\n",
            " lab2_MLP.ipynb\n",
            " Untitled0.ipynb\n",
            " Untitled1.ipynb\n",
            " Untitled2.ipynb\n",
            " Untitled3.ipynb\n"
          ],
          "name": "stdout"
        }
      ]
    },
    {
      "cell_type": "code",
      "metadata": {
        "id": "fK9uXaSiC8tI",
        "colab_type": "code",
        "outputId": "b0a5293b-f027-421a-b4bf-8c55b4e2e3f8",
        "colab": {
          "base_uri": "https://localhost:8080/",
          "height": 187
        }
      },
      "source": [
        "##################################\n",
        "# read and pre-process abstracts #\n",
        "##################################\n",
        "\n",
        "path_to_abstracts = 'data/Hulth2003testing/abstracts/'\n",
        "abstract_names = sorted(os.listdir(path_to_abstracts))\n",
        "\n",
        "abstracts = []\n",
        "for counter,filename in enumerate(abstract_names):\n",
        "    # read file\n",
        "    with open(path_to_abstracts + '/' + filename, 'r') as my_file: \n",
        "        text = my_file.read().splitlines()\n",
        "    text = ' '.join(text)\n",
        "    # remove formatting\n",
        "    text = re.sub('\\s+', ' ', text)\n",
        "    abstracts.append(text)\n",
        "    \n",
        "    if counter % round(len(abstract_names)/5) == 0:\n",
        "        print(counter, 'files processed')\n",
        "\n",
        "abstracts_cleaned = []\n",
        "for counter,abstract in enumerate(abstracts):\n",
        "    my_tokens = clean_text_simple(abstract,my_stopwords=stpwds,punct=punct)\n",
        "    abstracts_cleaned.append(my_tokens)\n",
        "    \n",
        "    if counter % round(len(abstracts)/5) == 0:\n",
        "        print(counter, 'abstracts processed')"
      ],
      "execution_count": 0,
      "outputs": [
        {
          "output_type": "stream",
          "text": [
            "0 files processed\n",
            "100 files processed\n",
            "200 files processed\n",
            "300 files processed\n",
            "400 files processed\n",
            "0 abstracts processed\n",
            "100 abstracts processed\n",
            "200 abstracts processed\n",
            "300 abstracts processed\n",
            "400 abstracts processed\n"
          ],
          "name": "stdout"
        }
      ]
    },
    {
      "cell_type": "code",
      "metadata": {
        "id": "rTHRpHxKKRx7",
        "colab_type": "code",
        "outputId": "1744bc28-71e9-4a0c-c08d-1d3b0b82c99d",
        "colab": {
          "base_uri": "https://localhost:8080/",
          "height": 221
        }
      },
      "source": [
        "kmax = max(core)\n",
        "\n",
        "max(core_dec(g,False), key=core_dec(g,False).get)\n",
        "core_dec(g,False)"
      ],
      "execution_count": 0,
      "outputs": [
        {
          "output_type": "execute_result",
          "data": {
            "text/plain": [
              "{'algebra': 6.0,\n",
              " 'equat': 6.0,\n",
              " 'kind': 3.0,\n",
              " 'lambda': 6.0,\n",
              " 'linear': 6.0,\n",
              " 'm-dimension': 6.0,\n",
              " 'matric': 6.0,\n",
              " 'method': 6.0,\n",
              " 'numer': 4.0,\n",
              " 'solut': 6.0,\n",
              " 'special': 3.0,\n",
              " 'system': 6.0}"
            ]
          },
          "metadata": {
            "tags": []
          },
          "execution_count": 73
        }
      ]
    },
    {
      "cell_type": "code",
      "metadata": {
        "id": "mA2d0yim_W0v",
        "colab_type": "code",
        "outputId": "4d2a07f9-9a35-442d-add6-dc5ff18c81cd",
        "colab": {
          "base_uri": "https://localhost:8080/",
          "height": 187
        }
      },
      "source": [
        "\n",
        "\n",
        "\n",
        "\n",
        "###############################################\n",
        "# read and pre-process gold standard keywords #\n",
        "###############################################\n",
        "\n",
        "path_to_keywords = 'data/Hulth2003testing/uncontr/'\n",
        "keywd_names = sorted(os.listdir(path_to_keywords))\n",
        "   \n",
        "keywds_gold_standard = []\n",
        "\n",
        "for counter,filename in enumerate(keywd_names):\n",
        "    # read file\n",
        "    with open(path_to_keywords + filename, 'r') as my_file: \n",
        "        text = my_file.read().splitlines()\n",
        "    text = ' '.join(text)\n",
        "    text =  re.sub('\\s+', ' ', text) # remove formatting\n",
        "    text = text.lower()\n",
        "    # turn string into list of keywords, preserving intra-word dashes \n",
        "    # but breaking n-grams into unigrams\n",
        "    keywds = text.split(';')\n",
        "    keywds = [keywd.strip().split(' ') for keywd in keywds]\n",
        "    keywds = [keywd for sublist in keywds for keywd in sublist] # flatten list\n",
        "    keywds = [keywd for keywd in keywds if keywd not in stpwds] # remove stopwords (rare but may happen due to n-gram breaking)\n",
        "    keywds_stemmed = [stemmer.stem(keywd) for keywd in keywds]\n",
        "    keywds_stemmed_unique = list(set(keywds_stemmed)) # remove duplicates (may happen due to n-gram breaking)\n",
        "    keywds_gold_standard.append(keywds_stemmed_unique)\n",
        "    \n",
        "    if counter % round(len(keywd_names)/5) == 0:\n",
        "        print(counter, 'files processed')\n",
        "\n",
        "##############################\n",
        "# precompute graphs-of-words #\n",
        "##############################\n",
        "\n",
        "gs = []\n",
        "for abstr in abstracts_cleaned:\n",
        "  gs.append(terms_to_graph(abstr,4))\n",
        "\n",
        "##################################\n",
        "# graph-based keyword extraction #\n",
        "##################################\n",
        "\n",
        "my_percentage = 0.33 # for PR and TF-IDF\n",
        "\n",
        "method_names = ['kc','wkc','pr','tfidf']\n",
        "keywords = dict(zip(method_names,[[],[],[],[]]))\n",
        "\n",
        "for counter,g in enumerate(gs):\n",
        "    # k-core\n",
        "    core_numbers = core_dec(g,False)\n",
        "    kmax = max(core_numbers.values())\n",
        "    ### fill the gaps (retain main core as keywords and append the resulting list to 'keywords['kc']') ###\n",
        "    keywords['kc'].append([kw for kw in core_numbers.keys() if core_numbers[kw] == kmax])\n",
        "    \n",
        "    # weighted k-core\n",
        "    ### fill the gaps (repeat the procedure used for k-core) ###\n",
        "    core_numbers = core_dec(g,True)\n",
        "    kmax = max(core_numbers.values())\n",
        "    keywords['wkc'].append([kw for kw in core_numbers.keys() if core_numbers[kw] == kmax])\n",
        "\n",
        "    \n",
        "    # PageRank\n",
        "    pr_scores = zip(g.vs['name'],g.pagerank())\n",
        "    pr_scores = sorted(pr_scores, key=operator.itemgetter(1), reverse=True) # in decreasing order\n",
        "    numb_to_retain = int(len(pr_scores)*my_percentage) # retain top 'my_percentage' % words as keywords\n",
        "    keywords['pr'].append([tuple[0] for tuple in pr_scores[:numb_to_retain]])\n",
        "        \n",
        "    if counter % round(len(gs)/5) == 0:\n",
        "        print(counter)\n",
        "\n"
      ],
      "execution_count": 0,
      "outputs": [
        {
          "output_type": "stream",
          "text": [
            "0 files processed\n",
            "100 files processed\n",
            "200 files processed\n",
            "300 files processed\n",
            "400 files processed\n",
            "0\n",
            "100\n",
            "200\n",
            "300\n",
            "400\n"
          ],
          "name": "stdout"
        }
      ]
    },
    {
      "cell_type": "code",
      "metadata": {
        "id": "1WpDhOLUR3yK",
        "colab_type": "code",
        "outputId": "c6d7a6bc-691d-4e14-ef19-b56d3c8f7da7",
        "colab": {
          "base_uri": "https://localhost:8080/",
          "height": 578
        }
      },
      "source": [
        "#############################\n",
        "# TF-IDF keyword extraction #\n",
        "#############################\n",
        "\n",
        "abstracts_cleaned_strings = [' '.join(elt) for elt in abstracts_cleaned] # to ensure same pre-processing as the other methods\n",
        "tfidf_vectorizer = TfidfVectorizer(stop_words=stpwds)\n",
        "doc_term_matrix = tfidf_vectorizer.fit_transform(abstracts_cleaned_strings)\n",
        "\n",
        "### fill the gap (call the .fit_transform() method and name the result 'doc_term_matrix') ###\n",
        "terms = tfidf_vectorizer.get_feature_names()\n",
        "vectors_list = doc_term_matrix.todense().tolist()\n",
        "\n",
        "for counter,vector in enumerate(vectors_list):\n",
        "    terms_weights = zip(terms,vector) # bow feature vector as list of tuples\n",
        "    nonzero = [(kw,tw) for kw, tw in terms_weights if tw!=0]\n",
        "    ### fill the gap (keep only non zero values, i.e., the words in the document. store the results in a list named 'nonzero') ###\n",
        "    nonzero = sorted(nonzero, key=operator.itemgetter(1), reverse=True) # in decreasing order\n",
        "    numb_to_retain = int(len(nonzero)*my_percentage) # retain top 'my_percentage' % words as keywords\n",
        "    keywords['tfidf'].append([tuple[0] for tuple in nonzero[:numb_to_retain]])\n",
        "    \n",
        "    if counter % round(len(vectors_list)/5) == 0:\n",
        "        print(counter)\n",
        "\n",
        "##########################\n",
        "# performance comparison #\n",
        "##########################\n",
        "\n",
        "perf = dict(zip(method_names,[[],[],[],[]]))\n",
        "\n",
        "for idx,truth in enumerate(keywds_gold_standard):\n",
        "    for mn in method_names:\n",
        "        ### fill the gap (append to the 'perf[mn]' list by using the 'accuracy_metrics' function) ###\n",
        "        perf[mn].append(accuracy_metrics(keywords[mn][idx],truth))\n",
        "\n",
        "lkgs = len(keywds_gold_standard)\n",
        "\n",
        "# print macro-averaged results (averaged at the collection level)\n",
        "for k,v in perf.items():\n",
        "    print(k + ' performance: \\n')\n",
        "    print('precision:', round(100*sum([tuple[0] for tuple in v])/lkgs,2))\n",
        "    print('recall:', round(100*sum([tuple[1] for tuple in v])/lkgs,2))\n",
        "    print('F-1 score:', round(100*sum([tuple[2] for tuple in v])/lkgs,2))\n",
        "    print('\\n')"
      ],
      "execution_count": 0,
      "outputs": [
        {
          "output_type": "stream",
          "text": [
            "0\n",
            "100\n",
            "200\n",
            "300\n",
            "400\n",
            "kc performance: \n",
            "\n",
            "precision: 51.86\n",
            "recall: 62.56\n",
            "F-1 score: 51.55\n",
            "\n",
            "\n",
            "wkc performance: \n",
            "\n",
            "precision: 63.86\n",
            "recall: 48.64\n",
            "F-1 score: 46.52\n",
            "\n",
            "\n",
            "pr performance: \n",
            "\n",
            "precision: 60.18\n",
            "recall: 38.3\n",
            "F-1 score: 44.96\n",
            "\n",
            "\n",
            "tfidf performance: \n",
            "\n",
            "precision: 59.21\n",
            "recall: 38.5\n",
            "F-1 score: 44.85\n",
            "\n",
            "\n"
          ],
          "name": "stdout"
        }
      ]
    },
    {
      "cell_type": "code",
      "metadata": {
        "id": "Sas7GE16YkaZ",
        "colab_type": "code",
        "colab": {}
      },
      "source": [
        ""
      ],
      "execution_count": 0,
      "outputs": []
    }
  ]
}